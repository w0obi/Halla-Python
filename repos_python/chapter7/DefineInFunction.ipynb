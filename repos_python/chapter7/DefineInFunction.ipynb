{
 "cells": [
  {
   "cell_type": "code",
   "execution_count": 73,
   "metadata": {},
   "outputs": [
    {
     "name": "stdout",
     "output_type": "stream",
     "text": [
      "Please enter value. >> 20\n",
      "20! = 2432902008176640000\n"
     ]
    }
   ],
   "source": [
    "# 1. 함수 factorial(n)을 정의해 다음과 같이 출력하는 프로그램\n",
    "#    n! = n * (n-1) * (n-2) * ... * 2 * 1\n",
    "#    5! = 120\n",
    "#    10! = 3628800\n",
    "#    20! = 2432902008176640000\n",
    "def factorial(n):\n",
    "    if n == 1:      # n이 1일 때\n",
    "        return 1    # 1을 반환하고 재귀호출을 끝냄\n",
    "    return n * factorial(n - 1) \n",
    "\n",
    "i = int(input('Please enter value. >> {}'))\n",
    "print(f'Please enter value. >> {i}')\n",
    "\n",
    "factorial(i)\n",
    "print(f'{i}! = {factorial(i)}')\n",
    "# 컴퓨터공학과_202121027_김현정_파이썬(월7수56)_7장문제풀이"
   ]
  },
  {
   "cell_type": "code",
   "execution_count": 159,
   "metadata": {},
   "outputs": [
    {
     "name": "stdout",
     "output_type": "stream",
     "text": [
      "예금 원금: 300000\n",
      "2년  총액: 330750.00\n",
      "4년  총액: 364651.88\n",
      "6년  총액: 402028.69\n",
      "8년  총액: 443236.63\n"
     ]
    }
   ],
   "source": [
    "# 2. 다음 복리 계산 방법을 사용하는 함수 getinterest(money, rate, year)를 구현해 다음과 같이 출력하는 프로그램\n",
    "#    복리 계산 방법 : 복리 총액(total) = 원금(money) * ((1 + 이자율(rate))) ** 기간(period)\n",
    "#                     A = P(1+(r/n))**nt    P는 최소 투자 금액, r은 이자율, n은 이자발생기간, t는 연단위 전체 투자기간\n",
    "yearLst = [ 2 ,4, 6, 8 ]\n",
    "seedMoney = 300000\n",
    "\n",
    "def getinterest(money, rate, period):\n",
    "    total = money * (pow((1 + (rate)), period))\n",
    "    return total\n",
    "\n",
    "print(f'예금 원금: {seedMoney}')\n",
    "for partYear in yearLst:\n",
    "    temp = getinterest(money= seedMoney, rate = 0.05, period = partYear)\n",
    "    print(f'{partYear}년  총액: {temp:.2f}')\n",
    "# 컴퓨터공학과_202121027_김현정_파이썬(월7수56)_7장문제풀이"
   ]
  },
  {
   "cell_type": "code",
   "execution_count": null,
   "metadata": {},
   "outputs": [],
   "source": [
    "# print(f'예금 원금: {seedMoney}')\n",
    "# for partYear in yearLst:\n",
    "#     temp = getinterest(money= seedMoney, rate = (0.6)/12, period = partYear)\n",
    "#     print(f'{partYear}년 총액: {round(temp, 2)}')\n",
    "# print()\n",
    "# for partYear in yearLst:\n",
    "#     print(f'(0.6/12)**{partYear}: {pow((0.6/12), partYear)}, 1+(0.6/12)**{partYear}: {pow( (1 + (0.6/12) ), partYear ):.4f}')"
   ]
  },
  {
   "cell_type": "code",
   "execution_count": 14,
   "metadata": {},
   "outputs": [
    {
     "name": "stdout",
     "output_type": "stream",
     "text": [
      "Please enter a number  ( 1.gal->liter    2.liter->gal )   >> 1\n",
      "Which liter do you want to convert? 234.0\n",
      "234.00 gallon == 886.36 liter\n",
      "\n",
      "Please enter a number  ( 1.gal->liter    2.liter->gal )   >> 2\n",
      "Which gallon do you want to convert? 885.69\n",
      "885.69 liter == 234.00 gallon\n",
      "\n"
     ]
    }
   ],
   "source": [
    "# 3. 부피의 단위인 갤론(gallon)과 리터(liter) 간의 변환 함수 \n",
    "#    togallon(liter)과 toliter(gallon)를 정의해 다음과 같이 표준 입력과 출력이 되는 프로그램\n",
    "#    1L=0.264gal, 1gal=3.785L\n",
    "def toliter():\n",
    "    enter = float(input())\n",
    "    print(f'Which liter do you want to convert? {enter}')\n",
    "    print(f'{enter:.2f} gallon == {enter/0.264:.2f} liter\\n')\n",
    "\n",
    "def togallon():\n",
    "    enter = float(input())\n",
    "    print(f'Which gallon do you want to convert? {enter}')\n",
    "    print(f'{enter:.2f} liter == {round((enter*0.264)):.2f} gallon\\n')\n",
    "for i in range(2):\n",
    "    choice = int(input())\n",
    "    print(f'Please enter a number  ( 1.gal->liter    2.liter->gal )   >> {choice}')\n",
    "    if choice == 1:\n",
    "        toliter()\n",
    "    else:\n",
    "        togallon()\n",
    "# 컴퓨터공학과_202121027_김현정_파이썬(월7수56)_7장문제풀이"
   ]
  },
  {
   "cell_type": "code",
   "execution_count": 21,
   "metadata": {},
   "outputs": [
    {
     "data": {
      "text/plain": [
       "<function list.sort(*, key=None, reverse=False)>"
      ]
     },
     "execution_count": 21,
     "metadata": {},
     "output_type": "execute_result"
    }
   ],
   "source": [
    "# 4. 태양계의 행성 중에서 다음 6개 행성 정보를  리스트로 표현했다.\n",
    "#    행성 리스트의 항목인 튜플은 ('수성', 2439, 0.4)처럼 순서대로 각각 행성 이름, 반지름(km),\n",
    "#    지구와 태양과의 상대적거리를 표현한다. 리스트의 정렬 함수 sort()를 사용해 다음과 같이 결과가 출력되는 프로그램\n",
    "planets = [\n",
    "    (\"수성\", 2349, 0.4),\n",
    "    (\"금성\", 6052, 0.7),\n",
    "    (\"태양\", 695000, 0),\n",
    "    (\"지구\", 6378, 1),\n",
    "    (\"화성\", 3390, 1.5),\n",
    "    (\"목성\", 71492, 5.2),\n",
    "]\n",
    "planets.sort\n",
    "# 컴퓨터공학과_202121027_김현정_파이썬(월7수56)_7장문제풀이"
   ]
  },
  {
   "cell_type": "code",
   "execution_count": 143,
   "metadata": {},
   "outputs": [
    {
     "name": "stdout",
     "output_type": "stream",
     "text": [
      "   degrees celsius  : [3, 11, 46, 53, 62, 77, 81, 81, 100]\n",
      "degrees Fahrenheit  : [37.4, 51.8, 114.8, 127.4, 143.6, 170.6, 177.8, 177.8, 212.0]\n",
      "[(3, 37.4), (11, 51.8), (46, 114.8), (53, 127.4), (62, 143.6), (77, 170.6), (81, 177.8), (81, 177.8), (100, 212.0)]\n"
     ]
    }
   ],
   "source": [
    "# 5. 1에서 100 사이의 섭씨 온도 9개를 난수로 생성해 정렬된 리스트를 만든 후,\n",
    "#    섭씨 온도를 화씨 온도로 변환하는 함수를 사용해 함수 map()으로 섭씨 온도 리스트와 대응되는 화씨 온도 리스트를 생성한다.\n",
    "#    반복 for문에서 함수 zip()을 사용해 섭시 온도를 화씨 온도로 변환해 다음과 같이 출력하는 프로그램\n",
    "import random\n",
    "\n",
    "def convertor():\n",
    "    lst = sorted(zip(r, f))\n",
    "    print(lst)\n",
    "\n",
    "\n",
    "r = []    #빈 리스트 생성\n",
    "for i in range(9):\n",
    "    add = random.randint(1, 101)\n",
    "    r.append(add)\n",
    "print(f'   degrees celsius  : {sorted(r)}')       #섭씨 리스트 생성\n",
    "\n",
    "f = list(map(lambda cels: cels * 9/5 + 32, r))  \n",
    "print(f'degrees Fahrenheit  : {sorted(f)}')       #화씨 리스트 생성\n",
    "\n",
    "convertor()\n",
    "# 컴퓨터공학과_202121027_김현정_파이썬(월7수56)_7장문제풀이"
   ]
  },
  {
   "cell_type": "code",
   "execution_count": 142,
   "metadata": {},
   "outputs": [
    {
     "ename": "TypeError",
     "evalue": "'function' object is not iterable",
     "output_type": "error",
     "traceback": [
      "\u001b[1;31m---------------------------------------------------------------------------\u001b[0m",
      "\u001b[1;31mTypeError\u001b[0m                                 Traceback (most recent call last)",
      "\u001b[1;32mc:\\Python\\repos_python\\chapter7\\DefineInFunction.ipynb 셀 7\u001b[0m line \u001b[0;36m9\n\u001b[0;32m      <a href='vscode-notebook-cell:/c%3A/Python/repos_python/chapter7/DefineInFunction.ipynb#X10sZmlsZQ%3D%3D?line=5'>6</a>\u001b[0m     \u001b[39mreturn\u001b[39;00m f\n\u001b[0;32m      <a href='vscode-notebook-cell:/c%3A/Python/repos_python/chapter7/DefineInFunction.ipynb#X10sZmlsZQ%3D%3D?line=7'>8</a>\u001b[0m cels \u001b[39m=\u001b[39m [randint(\u001b[39m1\u001b[39m, \u001b[39m100\u001b[39m) \u001b[39mfor\u001b[39;00m _ \u001b[39min\u001b[39;00m \u001b[39mrange\u001b[39m(\u001b[39m9\u001b[39m)]\n\u001b[1;32m----> <a href='vscode-notebook-cell:/c%3A/Python/repos_python/chapter7/DefineInFunction.ipynb#X10sZmlsZQ%3D%3D?line=8'>9</a>\u001b[0m convertCels(cels)\n",
      "\u001b[1;32mc:\\Python\\repos_python\\chapter7\\DefineInFunction.ipynb 셀 7\u001b[0m line \u001b[0;36m4\n\u001b[0;32m      <a href='vscode-notebook-cell:/c%3A/Python/repos_python/chapter7/DefineInFunction.ipynb#X10sZmlsZQ%3D%3D?line=2'>3</a>\u001b[0m \u001b[39mdef\u001b[39;00m \u001b[39mconvertCels\u001b[39m(celsLst):\n\u001b[1;32m----> <a href='vscode-notebook-cell:/c%3A/Python/repos_python/chapter7/DefineInFunction.ipynb#X10sZmlsZQ%3D%3D?line=3'>4</a>\u001b[0m     f \u001b[39m=\u001b[39m \u001b[39mlist\u001b[39m(\u001b[39mmap\u001b[39;49m(\u001b[39mfloat\u001b[39;49m,\u001b[39mlambda\u001b[39;49;00m cels: celsLst \u001b[39m*\u001b[39;49m \u001b[39m9\u001b[39;49m\u001b[39m/\u001b[39;49m\u001b[39m5\u001b[39;49m \u001b[39m+\u001b[39;49m \u001b[39m32\u001b[39;49m, r))\n\u001b[0;32m      <a href='vscode-notebook-cell:/c%3A/Python/repos_python/chapter7/DefineInFunction.ipynb#X10sZmlsZQ%3D%3D?line=4'>5</a>\u001b[0m     \u001b[39mprint\u001b[39m(f)\n\u001b[0;32m      <a href='vscode-notebook-cell:/c%3A/Python/repos_python/chapter7/DefineInFunction.ipynb#X10sZmlsZQ%3D%3D?line=5'>6</a>\u001b[0m     \u001b[39mreturn\u001b[39;00m f\n",
      "\u001b[1;31mTypeError\u001b[0m: 'function' object is not iterable"
     ]
    }
   ],
   "source": [
    "from random import randint\n",
    "\n",
    "def convertCels(celsLst):\n",
    "    f = list(map(float,lambda cels: celsLst * 9/5 + 32, r))\n",
    "    print(f)\n",
    "    return f\n",
    "\n",
    "cels = [randint(1, 100) for _ in range(9)]\n",
    "farh = convertCels(cels)\n",
    "print(farh)\n"
   ]
  },
  {
   "cell_type": "code",
   "execution_count": null,
   "metadata": {},
   "outputs": [],
   "source": [
    "# 6. 1에서 30까지의 난수 6개를 얻어서 정렬 후 filter() 함수를 사용해\n",
    "#    3의 배수만을 항목으로 구성된 리스트를 만들어 다음과 같이 출력하는 프로그램\n",
    "#    - 모듈 random의 sample()함수를 사용한 다음 문장으로 리스트 변수  list에 저장\n",
    "#      lst = sorted(sample(range(1, 31), 6))\n",
    "\n",
    "# 컴퓨터공학과_202121027_김현정_파이썬(월7수56)_7장문제풀이"
   ]
  }
 ],
 "metadata": {
  "kernelspec": {
   "display_name": "Python 3",
   "language": "python",
   "name": "python3"
  },
  "language_info": {
   "codemirror_mode": {
    "name": "ipython",
    "version": 3
   },
   "file_extension": ".py",
   "mimetype": "text/x-python",
   "name": "python",
   "nbconvert_exporter": "python",
   "pygments_lexer": "ipython3",
   "version": "3.10.5"
  }
 },
 "nbformat": 4,
 "nbformat_minor": 2
}
