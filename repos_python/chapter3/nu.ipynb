{
 "cells": [
  {
   "cell_type": "markdown",
   "metadata": {},
   "source": [
    "# 주석이 왜 안될까?\n",
    "* 실행을 해보자.\n",
    "* 동작\n",
    "    * 런\n",
    "    * 에이\n",
    "    * 비\n",
    "    * 디디\n",
    "    * 엠\n",
    "    * 와이\n",
    "## 파이썬에서 주석이란?\n",
    "* 마크다운\n",
    "* 따옴표\n",
    "* 샾\n",
    "\n",
    "# 해당 문제는 도전 프로젝트의 1번 문제입니다.\n",
    "``` 이 문장은 주석 처리할겁니다.dvfffffffffffddfffffffffffffffffffffffffffffffffffffffffffffffffffffffffffffffffffffffffffffffffffffffffffffffffffffffffffffffffffffffff```"
   ]
  },
  {
   "cell_type": "code",
   "execution_count": 1,
   "metadata": {},
   "outputs": [],
   "source": [
    "# \"\"\"주석이 왜 안되지\"\"\""
   ]
  }
 ],
 "metadata": {
  "kernelspec": {
   "display_name": "Python 3",
   "language": "python",
   "name": "python3"
  },
  "language_info": {
   "codemirror_mode": {
    "name": "ipython",
    "version": 3
   },
   "file_extension": ".py",
   "mimetype": "text/x-python",
   "name": "python",
   "nbconvert_exporter": "python",
   "pygments_lexer": "ipython3",
   "version": "3.10.5"
  },
  "orig_nbformat": 4
 },
 "nbformat": 4,
 "nbformat_minor": 2
}
