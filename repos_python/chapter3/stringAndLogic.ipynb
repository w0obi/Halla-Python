{
 "cells": [
  {
   "cell_type": "markdown",
   "metadata": {},
   "source": [
    "- 클래스와 오브젝트의 관계\n",
    "- 데이터분석에 최적인 언어이기 때문에 문자열 내장 함수 많음"
   ]
  },
  {
   "cell_type": "code",
   "execution_count": 1,
   "metadata": {},
   "outputs": [
    {
     "name": "stdout",
     "output_type": "stream",
     "text": [
      "hello \n",
      "hlowrd\n"
     ]
    }
   ],
   "source": [
    "# (실습)-문자열 슬라이싱\n",
    "str = \"hello world\"\n",
    "print(str[0:6])\n",
    "print(str[::2])"
   ]
  },
  {
   "cell_type": "markdown",
   "metadata": {},
   "source": [
    "- 파라미터 개수에 따라 다른 역할을 수행하는 내장함수e.g. max, min.. 직교, 쉽게 말해 오버라이딩!\n",
    "- 내장 함수 중 __import()_ 는 함부로 건드릴 수 없다고 이해해두기\n",
    "- 메소드는 객체에(어느 오브젝트에 있는 함수) 달려있고 함수는 독자적으로 존재!\n",
    "\n",
    "- 나중에 배울 샬로우카피, 딥카피에서 임뮤터블이 중요한 개념임. e.g.정수는 변경될 수 없다고 이해하기\n",
    "- 파이썬에서 z = 100은 100을 가리킨다고 이해하기 단, 숫자가 크면 예외 (256보다 큰수)..문자도 길어지면 주소값(특정) -->      메모리를 작게 쓰고싶어서\n",
    "- tuple 등 여러가지 데이터 타입이 존재"
   ]
  },
  {
   "cell_type": "markdown",
   "metadata": {},
   "source": [
    "[파이썬 내장 함수 설명 : 파이썬 공식]\n",
    "https://docs.python.org/ko/3/library/functions.html\n",
    "\n",
    "[블로그] https://kbkb456.tistory.com/63"
   ]
  },
  {
   "cell_type": "markdown",
   "metadata": {},
   "source": [
    "### 문자열은 수정될 수 없는 자료\n",
    "한 번 만들어진 문자열은 수정될 수 없다는 immutable특징이 있으며, 위 문장으로 문자열 str자체가 수정되는 것이 아니라 replace()등의 메소드 기능이 작용한 새로운 문자열을 반환"
   ]
  },
  {
   "cell_type": "code",
   "execution_count": 3,
   "metadata": {},
   "outputs": [
    {
     "name": "stdout",
     "output_type": "stream",
     "text": [
      "Please enter a float. >> 345.67\n",
      "inValue: 345.67\n",
      "allDigitOfSum: 25\n"
     ]
    }
   ],
   "source": [
    "# (실습)-실수의 자릿수 더하기\n",
    "value = input(\"Please enter a float. >> {}\")\n",
    "print(f\"Please enter a float. >> {value}\")\n",
    "num = value.replace(\".\", \"\")\n",
    "sum = 0\n",
    "sum += int(num[0])\n",
    "sum += int(num[1])\n",
    "sum += int(num[2])\n",
    "sum += int(num[3])\n",
    "sum += int(num[4])\n",
    "print(f\"inValue: {value}\")\n",
    "print(f\"allDigitOfSum: {sum}\")"
   ]
  },
  {
   "cell_type": "code",
   "execution_count": 18,
   "metadata": {},
   "outputs": [
    {
     "name": "stdout",
     "output_type": "stream",
     "text": [
      "Hello World\n"
     ]
    },
    {
     "data": {
      "text/plain": [
       "'Welcome, Halla Uiversity!'"
      ]
     },
     "execution_count": 18,
     "metadata": {},
     "output_type": "execute_result"
    }
   ],
   "source": [
    "# 문자열 바꿔 반환하는 메소드 replace()\n",
    "new = \"Hello World\"\n",
    "print(f\"{new}\")\n",
    "\n",
    "# 문자열 new가 수정되는 것이 아니라, 대체된 문자열을 반환\n",
    "new.replace(\"Hello World\", \"Welcome, Halla Uiversity!\")"
   ]
  },
  {
   "cell_type": "code",
   "execution_count": 21,
   "metadata": {},
   "outputs": [
    {
     "data": {
      "text/plain": [
       "'l❤r❤u'"
      ]
     },
     "execution_count": 21,
     "metadata": {},
     "output_type": "execute_result"
    }
   ],
   "source": [
    "# 문자와 문자 사이에 문자열을 삽입하는 join()\n",
    "num = \"lru\"\n",
    "\"❤\".join(num)"
   ]
  },
  {
   "cell_type": "code",
   "execution_count": 18,
   "metadata": {},
   "outputs": [
    {
     "name": "stdout",
     "output_type": "stream",
     "text": [
      "Please enter word >> 사과 복숭아\n",
      "사과 복숭아\n",
      "과사 아숭복\n"
     ]
    }
   ],
   "source": [
    "# (실습)-index(str, start, end)으로 문자열 역순으로 만들기\n",
    "str = input(\"Please enter word >> {}\")\n",
    "print(f\"Please enter word >> {str}\")\n",
    "pos = str.index(\" \")  # 지정 문자열이 처음으로 검색된 위치 반환\n",
    "preWord = str[:pos]\n",
    "postWord = str[pos + 1 :]\n",
    "print(f\"{preWord} {postWord}\")\n",
    "print(f\"{preWord[::-1]} {postWord[::-1]}\")"
   ]
  },
  {
   "cell_type": "code",
   "execution_count": 28,
   "metadata": {},
   "outputs": [
    {
     "data": {
      "text/plain": [
       "'Welcome, Halla University!    '"
      ]
     },
     "execution_count": 28,
     "metadata": {},
     "output_type": "execute_result"
    }
   ],
   "source": [
    "# 폭을 지정하고 왼쪽 또는 오른쪽 정렬하는 메소드 ljust()와 rjust()\n",
    "hstr = 'Welcome, Halla University!'\n",
    "hstr.ljust(30)"
   ]
  },
  {
   "cell_type": "code",
   "execution_count": null,
   "metadata": {},
   "outputs": [],
   "source": [
    "# (실습)-출력을 정형화하는 format()함수로 출력하기\n",
    "a, b = 10, 20\n",
    "print(\"{} * {} = {}\".format(a, b, a * b))"
   ]
  },
  {
   "cell_type": "code",
   "execution_count": 44,
   "metadata": {},
   "outputs": [
    {
     "name": "stdout",
     "output_type": "stream",
     "text": [
      "키(cm)와 몸무게(kg)를 입력해주세요. >> 171.0 72.0\n",
      "height: 171.0,\n",
      "weight: 72.0.\n",
      "\n",
      "키(cm): 171.0, 몸무게(kg): 72.0, BMI: 24.6\n",
      "BMI: 24.6\t판정: 고도 비만\t\tFalse\n",
      "BMI: 24.6\t판정: 중등도 비만\tFalse\n",
      "BMI: 24.6\t판정: 비만\t\tFalse\n",
      "BMI: 24.6\t판정: 과체중\t\tFalse\n",
      "BMI: 24.6\t판정: 정상\t\tTrue\n",
      "BMI: 24.6\t판정: 저체중\t\tFalse\n"
     ]
    }
   ],
   "source": [
    "# (실습)-ch3no8\n",
    "h, w = map(float, input(\"키(cm)와 몸무게(kg)를 입력해주세요. >> \").split())\n",
    "print(f\"키(cm)와 몸무게(kg)를 입력해주세요. >> {h} {w}\")\n",
    "print(f\"height: {h:.1f},\\nweight: {w:.1f}.\")\n",
    "BMI = w / (h / 100) ** 2\n",
    "print(f\"\\n키(cm): {h:.1f}, 몸무게(kg): {w:.1f}, BMI: {BMI:.1f}\")\n",
    "print(f\"BMI: {BMI:.1f}\\t판정: 고도 비만\\t\\t{40 <= BMI}\")\n",
    "print(f\"BMI: {BMI:.1f}\\t판정: 중등도 비만\\t{35 <= BMI <= 40}\")\n",
    "print(f\"BMI: {BMI:.1f}\\t판정: 비만\\t\\t{30 <= BMI <= 35}\")\n",
    "print(f\"BMI: {BMI:.1f}\\t판정: 과체중\\t\\t{25 <= BMI <= 30}\")\n",
    "print(f\"BMI: {BMI:.1f}\\t판정: 정상\\t\\t{20 <= BMI <= 25}\")\n",
    "print(f\"BMI: {BMI:.1f}\\t판정: 저체중\\t\\t{BMI < 18.5}\")"
   ]
  },
  {
   "cell_type": "markdown",
   "metadata": {},
   "source": [
    "[파이썬 문자열 포매팅] https://blockdmask.tistory.com/429"
   ]
  },
  {
   "cell_type": "code",
   "execution_count": 45,
   "metadata": {},
   "outputs": [
    {
     "name": "stdout",
     "output_type": "stream",
     "text": [
      "input word False, is it keyword? True\n"
     ]
    }
   ],
   "source": [
    "inkey = input('take a learn python word >> ')\n",
    "# inkey = 'key'\n",
    "keywords = \"'False', 'True', 'and', 'in', 'is', 'or'\"\n",
    "print(f'input word {inkey}, is it keyword? {inkey in keywords}')"
   ]
  },
  {
   "cell_type": "code",
   "execution_count": 49,
   "metadata": {},
   "outputs": [
    {
     "name": "stdout",
     "output_type": "stream",
     "text": [
      "decimal: 195\tbinary: 11000011\n",
      "right bit: 0011\tdecimal: 3\n"
     ]
    }
   ],
   "source": [
    "# (실습)-ch3no12\n",
    "a = int(input('Please enter integer >> {}'))\n",
    "mask = 0b1111\n",
    "print(f\"decimal: {a}\\tbinary: {a:b}\")\n",
    "print(f\"right bit: {a&mask:04b}\\tdecimal: {a&mask}\")"
   ]
  }
 ],
 "metadata": {
  "kernelspec": {
   "display_name": "Python 3",
   "language": "python",
   "name": "python3"
  },
  "language_info": {
   "codemirror_mode": {
    "name": "ipython",
    "version": 3
   },
   "file_extension": ".py",
   "mimetype": "text/x-python",
   "name": "python",
   "nbconvert_exporter": "python",
   "pygments_lexer": "ipython3",
   "version": "3.10.5"
  },
  "orig_nbformat": 4
 },
 "nbformat": 4,
 "nbformat_minor": 2
}
