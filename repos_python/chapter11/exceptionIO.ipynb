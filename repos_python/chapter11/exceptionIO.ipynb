{
 "cells": [
  {
   "cell_type": "markdown",
   "metadata": {},
   "source": [
    "- 사용자 정의 함수를 우선 작성할 것"
   ]
  },
  {
   "cell_type": "markdown",
   "metadata": {},
   "source": [
    "- 바이너리파일은 노트패드와 같은 특징을 가진다 말할 수 없음"
   ]
  },
  {
   "cell_type": "code",
   "execution_count": 8,
   "metadata": {},
   "outputs": [
    {
     "name": "stdout",
     "output_type": "stream",
     "text": [
      "에러 발생 이름: <class 'KeyError'>\n",
      "에러 발생 이유: 'owner'\n"
     ]
    }
   ],
   "source": [
    "try:\n",
    "    print({'name':'python', 'year':1991, 'developer':'capital'}['owner'])\n",
    "except LookupError as e:\n",
    "    print(f'에러 발생 이름: {type(e)}')\n",
    "    print(f'에러 발생 이유: {e}')"
   ]
  },
  {
   "cell_type": "code",
   "execution_count": 9,
   "metadata": {},
   "outputs": [
    {
     "name": "stdout",
     "output_type": "stream",
     "text": [
      "에러 발생 이름: <class 'IndexError'>\n",
      "에러 발생 이유: list index out of range\n",
      "Exception Handle Success!\n"
     ]
    }
   ],
   "source": [
    "lst = ['C', 'C++', 'JAVA', 'PYTHON']\n",
    "\n",
    "try:\n",
    "    print(lst[4])\n",
    "except LookupError as e:\n",
    "    print(f'에러 발생 이름: {type(e)}')\n",
    "    print(f'에러 발생 이유: {e}')\n",
    "else:\n",
    "    print('Run Completed.')\n",
    "finally:\n",
    "    print('Exception Handle Success!')"
   ]
  },
  {
   "cell_type": "code",
   "execution_count": 6,
   "metadata": {},
   "outputs": [
    {
     "name": "stdout",
     "output_type": "stream",
     "text": [
      "\u001b[1;31mInit signature:\u001b[0m \u001b[0mtype\u001b[0m\u001b[1;33m(\u001b[0m\u001b[0mself\u001b[0m\u001b[1;33m,\u001b[0m \u001b[1;33m/\u001b[0m\u001b[1;33m,\u001b[0m \u001b[1;33m*\u001b[0m\u001b[0margs\u001b[0m\u001b[1;33m,\u001b[0m \u001b[1;33m**\u001b[0m\u001b[0mkwargs\u001b[0m\u001b[1;33m)\u001b[0m\u001b[1;33m\u001b[0m\u001b[1;33m\u001b[0m\u001b[0m\n",
      "\u001b[1;31mDocstring:\u001b[0m     \n",
      "type(object) -> the object's type\n",
      "type(name, bases, dict, **kwds) -> a new type\n",
      "\u001b[1;31mType:\u001b[0m           type\n",
      "\u001b[1;31mSubclasses:\u001b[0m     ABCMeta, EnumMeta, NamedTupleMeta, _TypedDictMeta, _ABC, MetaHasDescriptors, PyCStructType, UnionType, PyCPointerType, PyCArrayType, ..."
     ]
    }
   ],
   "source": [
    "?type"
   ]
  },
  {
   "cell_type": "markdown",
   "metadata": {},
   "source": [
    "### 파이썬 파일입출력\n",
    "    - 파일 쓸 때 `인코딩` 형식 지정하기! \n",
    "    - with(...) as file을 사용하면 close()호출 없이 자동으로 파일을 닫아줌"
   ]
  },
  {
   "cell_type": "code",
   "execution_count": 4,
   "metadata": {},
   "outputs": [
    {
     "name": "stdout",
     "output_type": "stream",
     "text": [
      "파이썬으로 배우는 누구나 코딩\n"
     ]
    }
   ],
   "source": [
    "# 파일 쓰기 write()와 파일 읽기 read(), utf-8로 encoding하기\n",
    "'''with 키워드를 쓴 경우'''\n",
    "with open('pyzen.txt', 'wt', encoding='utf-8') as file:\n",
    "    file.write('파이썬으로 배우는 누구나 코딩')\n",
    "\n",
    "'''with 키워드를 쓰지 않은 경우'''\n",
    "f = open('pyzen.txt', 'rt', encoding='utf-8')\n",
    "print(f.read())\n",
    "f.close()"
   ]
  },
  {
   "cell_type": "code",
   "execution_count": 75,
   "metadata": {},
   "outputs": [
    {
     "name": "stdout",
     "output_type": "stream",
     "text": [
      "예외 발생 이름: <class 'ValueError'>\n",
      "예외 발생 이유: invalid literal for int() with base 10: '0o12'\n",
      "예외 처리가 잘 되는군요!\n"
     ]
    }
   ],
   "source": [
    "# 1.\tprint(int(oct(10)[n:])) 문장에 대한 예외 처리를 구현\n",
    "\n",
    "try:\n",
    "    n = int(input())\n",
    "\n",
    "    # oct()함수를 사용하여 10을 8진수로 변환하여 012반환\n",
    "    # 인덱싱을 사용하여 n번째 문자부터 끝까지 문자열 추출\n",
    "    # int()함수를 사용하여 추출한 문자열을 정수로 변환\n",
    "    print(int(oct(10)[n:]))              \n",
    "    \n",
    "# 8진수의 범위 (0부터 7까지)를 벗어나면 int()함수는 값을 8진수로 변환할 수 없음, ValueError 예외 발생\n",
    "except Exception as e:\n",
    "    print(f'예외 발생 이름: {type(e)}')\n",
    "    print(f'예외 발생 이유: {e}')\n",
    "\n",
    "else:\n",
    "    print(f'잘 실행됐습니다.')\n",
    "    \n",
    "finally:\n",
    "    # 예외 발생에 상관없이 실행되는 문장\n",
    "    print(f'예외 처리가 잘 되는군요!')    "
   ]
  },
  {
   "cell_type": "code",
   "execution_count": 7,
   "metadata": {},
   "outputs": [
    {
     "name": "stdout",
     "output_type": "stream",
     "text": [
      "0o12\n"
     ]
    }
   ],
   "source": [
    "print(oct(10))"
   ]
  },
  {
   "cell_type": "code",
   "execution_count": 2,
   "metadata": {},
   "outputs": [
    {
     "name": "stdout",
     "output_type": "stream",
     "text": [
      "\u001b[1;31mSignature:\u001b[0m \u001b[0moct\u001b[0m\u001b[1;33m(\u001b[0m\u001b[0mnumber\u001b[0m\u001b[1;33m,\u001b[0m \u001b[1;33m/\u001b[0m\u001b[1;33m)\u001b[0m\u001b[1;33m\u001b[0m\u001b[1;33m\u001b[0m\u001b[0m\n",
      "\u001b[1;31mDocstring:\u001b[0m\n",
      "Return the octal representation of an integer.\n",
      "\n",
      ">>> oct(342391)\n",
      "'0o1234567'\n",
      "\u001b[1;31mType:\u001b[0m      builtin_function_or_method"
     ]
    }
   ],
   "source": [
    "?oct"
   ]
  },
  {
   "cell_type": "code",
   "execution_count": 60,
   "metadata": {},
   "outputs": [
    {
     "name": "stdout",
     "output_type": "stream",
     "text": [
      "예외 발생 이유: float division by zero\n",
      "0으로는 나눌 수 없습니다.\n"
     ]
    }
   ],
   "source": [
    "# 2.\t함수 divide(x, y) 구현에서 연산 x / y은 0으로 나누는 것에 대한 예외 처리를 수행\n",
    "\n",
    "def divide(x, y):\n",
    "    return x / y\n",
    "\n",
    "try:\n",
    "    x, y = map(float, input().split())\n",
    "\n",
    "    # 함수 호출\n",
    "    divide(x, y)\n",
    "\n",
    "# 수를 0으로 나누면 ZeroDivisionError 발생\n",
    "except (ZeroDivisionError, Exception) as e:\n",
    "    print(f'예외 발생 이유: {e}')\n",
    "    print(f'0으로는 나눌 수 없습니다.')\n",
    "    \n",
    "else:\n",
    "    print(f'결과: {divide(x, y)}')"
   ]
  },
  {
   "cell_type": "code",
   "execution_count": 57,
   "metadata": {},
   "outputs": [
    {
     "name": "stdout",
     "output_type": "stream",
     "text": [
      "대학교 몇 학년이지요? 5\n",
      "예외 발생 이름: <class 'Exception'>\n",
      "예외 발생 이유: 1~4 정수를 입력하세요.\n",
      "예외 처리가 잘 되는군요!\n"
     ]
    }
   ],
   "source": [
    "# 3.\t표준 입력에서 받은 정수에 해당하는 문자열 출력, 잘못된 입력에 대한 예외 처리\n",
    "\n",
    "uyear = {1:'freshman', 2:'sophomore', 3:'junior', 4:'senior'}\n",
    "\n",
    "try:\n",
    "    enter = int(input())\n",
    "    print(f'대학교 몇 학년이지요? {enter}')\n",
    "\n",
    "    # 1과 4 사이로 정수 필요, 범위를 벗어나면 raise키워드로 예외를 발생시킴\n",
    "    if enter < 1 or enter > 4:\n",
    "        raise Exception('1~4 정수를 입력하세요.')\n",
    "\n",
    "# 테스트 케이스를 벗어나면 예외 인스턴스e에 예외 발생 클래스와 이유 정보를 저장\n",
    "except Exception as e:\n",
    "    print(f'예외 발생 이름: {type(e)}')\n",
    "    # Exception()에 기술된 메시지 출력\n",
    "    print(f'예외 발생 이유: {e}')\n",
    "\n",
    "else:\n",
    "    # 학년과 학년의 영어 이름을 출력\n",
    "    print(f'{enter}학년: {uyear[enter]}')\n",
    "    \n",
    "finally:\n",
    "    # 예외 발생에 상관없이 실행되는 문장\n",
    "    print(f'예외 처리가 잘 되는군요!')"
   ]
  },
  {
   "cell_type": "code",
   "execution_count": 77,
   "metadata": {},
   "outputs": [
    {
     "name": "stdout",
     "output_type": "stream",
     "text": [
      "파일 처리 모드\n",
      "mode = 'wt'\n",
      "mode = 'rt'\n"
     ]
    }
   ],
   "source": [
    "ls = ['파일 처리 모드\\n', \"mode = 'wt'\\n\", \"mode = 'rt'\\n\"]\n",
    "with open('modex.txt', 'wt', encoding='utf-8') as file:\n",
    "    file.writelines(ls)\n",
    "\n",
    "with open('modex.txt', 'rt', encoding='utf-8') as file:\n",
    "    for line in file:\n",
    "        print(f'{line}', end='')"
   ]
  },
  {
   "cell_type": "code",
   "execution_count": 38,
   "metadata": {},
   "outputs": [
    {
     "name": "stdout",
     "output_type": "stream",
     "text": [
      "1학년 freshman\n",
      "2학년 sophomore\n",
      "3학년 junior\n",
      "4학년 senior\n"
     ]
    }
   ],
   "source": [
    "# 4.\t텍스트 파일을 생성하여 데이터를 저장 후, 다시 파일 ‘cp.txt’를 열어 콘솔에 출력\n",
    "\n",
    "lst = ['freshman\\n', 'sophomore\\n', 'junior\\n', 'senior\\n']\n",
    "\n",
    "# open() 함수와 달리 with as file 함수는 파일을 열고 닫는 과정을 자동으로 처리, close() 함수 호출 불필요\n",
    "# with(...) as file 함수를 사용해서 텍스트 파일을 텍스트 파일 쓰기 모드로 열고, 문자 인코딩 방식을 UTF-8로 지정\n",
    "with open('cp.txt', 'wt', encoding='utf-8') as file:\n",
    "\n",
    "    # writelines()함수는 리스트의 모든 요소를 파일에 한 줄씩 씀\n",
    "    file.writelines(lst)\n",
    "\n",
    "# 파일 쓰기와 마찬가지로 인코딩 형식을 지정하여 파일을 읽어옴\n",
    "with open('cp.txt', 'rt', encoding='utf-8') as f:\n",
    "    \n",
    "    # 각 학년을 출력하기 위해 함수 enumerate() 사용\n",
    "    for i in enumerate(f, start=1):\n",
    "        print(f'{i[0]}학년 {i[1]}', end='')"
   ]
  },
  {
   "cell_type": "code",
   "execution_count": 1,
   "metadata": {},
   "outputs": [
    {
     "name": "stdout",
     "output_type": "stream",
     "text": [
      "\u001b[1;31mInit signature:\u001b[0m \u001b[0menumerate\u001b[0m\u001b[1;33m(\u001b[0m\u001b[0miterable\u001b[0m\u001b[1;33m,\u001b[0m \u001b[0mstart\u001b[0m\u001b[1;33m=\u001b[0m\u001b[1;36m0\u001b[0m\u001b[1;33m)\u001b[0m\u001b[1;33m\u001b[0m\u001b[1;33m\u001b[0m\u001b[0m\n",
      "\u001b[1;31mDocstring:\u001b[0m     \n",
      "Return an enumerate object.\n",
      "\n",
      "  iterable\n",
      "    an object supporting iteration\n",
      "\n",
      "The enumerate object yields pairs containing a count (from start, which\n",
      "defaults to zero) and a value yielded by the iterable argument.\n",
      "\n",
      "enumerate is useful for obtaining an indexed list:\n",
      "    (0, seq[0]), (1, seq[1]), (2, seq[2]), ...\n",
      "\u001b[1;31mType:\u001b[0m           type\n",
      "\u001b[1;31mSubclasses:\u001b[0m     "
     ]
    }
   ],
   "source": [
    "?enumerate"
   ]
  },
  {
   "cell_type": "code",
   "execution_count": 73,
   "metadata": {},
   "outputs": [
    {
     "name": "stdout",
     "output_type": "stream",
     "text": [
      "\u001b[1;31mSignature:\u001b[0m\n",
      "\u001b[0mpickle\u001b[0m\u001b[1;33m.\u001b[0m\u001b[0mdump\u001b[0m\u001b[1;33m(\u001b[0m\u001b[1;33m\n",
      "\u001b[0m    \u001b[0mobj\u001b[0m\u001b[1;33m,\u001b[0m\u001b[1;33m\n",
      "\u001b[0m    \u001b[0mfile\u001b[0m\u001b[1;33m,\u001b[0m\u001b[1;33m\n",
      "\u001b[0m    \u001b[0mprotocol\u001b[0m\u001b[1;33m=\u001b[0m\u001b[1;32mNone\u001b[0m\u001b[1;33m,\u001b[0m\u001b[1;33m\n",
      "\u001b[0m    \u001b[1;33m*\u001b[0m\u001b[1;33m,\u001b[0m\u001b[1;33m\n",
      "\u001b[0m    \u001b[0mfix_imports\u001b[0m\u001b[1;33m=\u001b[0m\u001b[1;32mTrue\u001b[0m\u001b[1;33m,\u001b[0m\u001b[1;33m\n",
      "\u001b[0m    \u001b[0mbuffer_callback\u001b[0m\u001b[1;33m=\u001b[0m\u001b[1;32mNone\u001b[0m\u001b[1;33m,\u001b[0m\u001b[1;33m\n",
      "\u001b[0m\u001b[1;33m)\u001b[0m\u001b[1;33m\u001b[0m\u001b[1;33m\u001b[0m\u001b[0m\n",
      "\u001b[1;31mDocstring:\u001b[0m\n",
      "Write a pickled representation of obj to the open file object file.\n",
      "\n",
      "This is equivalent to ``Pickler(file, protocol).dump(obj)``, but may\n",
      "be more efficient.\n",
      "\n",
      "The optional *protocol* argument tells the pickler to use the given\n",
      "protocol; supported protocols are 0, 1, 2, 3, 4 and 5.  The default\n",
      "protocol is 4. It was introduced in Python 3.4, and is incompatible\n",
      "with previous versions.\n",
      "\n",
      "Specifying a negative protocol version selects the highest protocol\n",
      "version supported.  The higher the protocol used, the more recent the\n",
      "version of Python needed to read the pickle produced.\n",
      "\n",
      "The *file* argument must have a write() method that accepts a single\n",
      "bytes argument.  It can thus be a file object opened for binary\n",
      "writing, an io.BytesIO instance, or any other custom object that meets\n",
      "this interface.\n",
      "\n",
      "If *fix_imports* is True and protocol is less than 3, pickle will try\n",
      "to map the new Python 3 names to the old module names used in Python\n",
      "2, so that the pickle data stream is readable with Python 2.\n",
      "\n",
      "If *buffer_callback* is None (the default), buffer views are serialized\n",
      "into *file* as part of the pickle stream.  It is an error if\n",
      "*buffer_callback* is not None and *protocol* is None or smaller than 5.\n",
      "\u001b[1;31mType:\u001b[0m      builtin_function_or_method"
     ]
    }
   ],
   "source": [
    "pickle.dump?"
   ]
  },
  {
   "cell_type": "markdown",
   "metadata": {},
   "source": [
    "- 직렬화 serialization : 객체를 일련의 바이트로 변환하는 것\n",
    "- 이것은 역직렬화하는 것이 pickle모듈, CPickle모듈, 사용하는 이유는 예전에 운영체제가 달라서 인코딩 방식이 달랐기 때문\n",
    "-\n",
    "- 참고하기 https://rfriend.tistory.com/525"
   ]
  },
  {
   "cell_type": "code",
   "execution_count": 45,
   "metadata": {},
   "outputs": [
    {
     "name": "stdout",
     "output_type": "stream",
     "text": [
      "{2010: '남아프리카 공화국', 2014: '브라질'}\n",
      "['스페인', '독일']\n",
      "\n",
      "{2010: '남아프리카 공화국', 2014: '브라질', 2018: '러시아'}\n",
      "['스페인', '독일', '프랑스']\n"
     ]
    }
   ],
   "source": [
    "# 5.\t표준 모듈 pickle을 사용해 이진 파일 'worldcup.bin'에 저장 후 다시 읽어 딕셔너리와 리스트의 내용을 하나씩 추가한 후 출력\n",
    "import pickle as p\n",
    "\n",
    "# 사전 객체 생성\n",
    "wc = {2010: '남아프리카 공화국', 2014: '브라질'}\n",
    "win = ['스페인', '독일']\n",
    "\n",
    "# with(...) as file 함수를 사용해서 이진 파일을 이진 파일 쓰기 모드로 열어두기\n",
    "with open('worldcup.bin', 'wb') as file:\n",
    "    # wc, win 사전 객체를 file에 직렬화해서 저장\n",
    "    # python 3.0 ~ 3.7 버전은 기본값이 protocol=3이므로 생략\n",
    "    p.dump(wc, file)\n",
    "    p.dump(win, file)\n",
    "\n",
    "# 직렬화되어 있는 이진 파일로 부터 파이썬 객체로 역직렬화\n",
    "# 이진 파일을 읽기 모드로 열어두기\n",
    "with open('worldcup.bin', 'rb') as file:\n",
    "    UnPwc = p.load(file)\n",
    "    UnPwin = p.load(file)\n",
    "\n",
    "# 중간 데이터 확인\n",
    "print(f'{wc}\\n{win}')\n",
    "print()\n",
    "\n",
    "# 데이터 추가 후 직렬화 과정을 거쳐 파일에 저장\n",
    "# - 직렬화 serialization : 객체를 일련의 바이트로 변환하는 것\n",
    "UnPwc[2018] = '러시아'\n",
    "UnPwin[2:] = ['프랑스']\n",
    "with open('worldcup.bin', 'wb') as file:\n",
    "    p.dump(UnPwc, file)\n",
    "    p.dump(UnPwin, file)\n",
    "\n",
    "# 파일의 데이터를 확인하기 위해 출력 전 역직렬화\n",
    "with open('worldcup.bin', 'rb') as file:\n",
    "    wc = p.load(file)\n",
    "    win = p.load(file)\n",
    "\n",
    "# 결과 출력\n",
    "print(wc)\n",
    "print(win)"
   ]
  },
  {
   "cell_type": "code",
   "execution_count": 92,
   "metadata": {},
   "outputs": [
    {
     "name": "stdout",
     "output_type": "stream",
     "text": [
      "b'\\x80\\x04\\x95\\x1d\\x00\\x00\\x00\\x00\\x00\\x00\\x00}\\x94(\\x8c\\x02id\\x94]\\x94K\\x01a\\x8c\\x04name\\x94]\\x94\\x8c\\x01a\\x94au.'\n",
      "{'id': [1], 'name': ['a']}\n"
     ]
    }
   ],
   "source": [
    "import pickle as p\n",
    "\n",
    "# create python dictionary object\n",
    "MyObject = {'id':[1], 'name':['a']}\n",
    "\n",
    "# 객체를 직렬화하여 메모리에 bytes object로 저장하기 p.dumps\n",
    "MyBytes = p.dumps(MyObject)\n",
    "print(MyBytes)\n",
    "\n",
    "# 직렬화되어 있는 바이트 객체를 파이썬 객체로 역직렬화 p.loads\n",
    "MyObject2 = p.loads(MyBytes)\n",
    "print(MyObject2)"
   ]
  },
  {
   "cell_type": "markdown",
   "metadata": {},
   "source": [
    "- `EOFError`: Ran out of input 해결 방법\n",
    "    - http://daplus.net/python-%eb%b9%88-%ed%8c%8c%ec%9d%bc%ec%9d%84-%ec%9d%bd%ec%9d%84-%eb%95%8c-pickle-eoferror-ran-out-of-input%ec%9d%b4-%eb%b0%9c%ec%83%9d%ed%95%98%eb%8a%94-%ec%9d%b4%ec%9c%a0%eb%8a%94-%eb%ac%b4/"
   ]
  },
  {
   "cell_type": "code",
   "execution_count": 46,
   "metadata": {},
   "outputs": [
    {
     "name": "stdout",
     "output_type": "stream",
     "text": [
      "{2010: '남아프리카 공화국', 2014: '브라질', 2018: '러시아'}\n",
      "['스페인', '독일', '프랑스']\n"
     ]
    }
   ],
   "source": [
    "# 6.\t앞서 만든 파일을 새로운 파일에 복사한 후 파일을 열어 콘솔에 출력\n",
    "import pickle as p\n",
    "\n",
    "# 파일 복사\n",
    "with open('worldcup.bin', 'rb') as fromf, open('2018worldcup.bin', 'wb') as tof:\n",
    "    while True:\n",
    "        # 1바이트를 읽어 반환, 비어있으면 반복 종료\n",
    "        one = fromf.read(1)\n",
    "        if not one: break\n",
    "        tof.write(one)\n",
    "\n",
    "# 복사한 파일 출력\n",
    "try:\n",
    "    with open('2018worldcup.bin', 'rb') as file:\n",
    "        # 변수 선언 및 할당\n",
    "        while (byte := p.load(file)):\n",
    "            print(byte)     \n",
    "# 예외 발생시 다음 코드를 실행하여 변수에 리스트를 할당\n",
    "except EOFError:\n",
    "    byte = list()"
   ]
  },
  {
   "cell_type": "code",
   "execution_count": 69,
   "metadata": {},
   "outputs": [
    {
     "name": "stdout",
     "output_type": "stream",
     "text": [
      "\u001b[1;31mSignature:\u001b[0m\n",
      "\u001b[0mpickle\u001b[0m\u001b[1;33m.\u001b[0m\u001b[0mloads\u001b[0m\u001b[1;33m(\u001b[0m\u001b[1;33m\n",
      "\u001b[0m    \u001b[0mdata\u001b[0m\u001b[1;33m,\u001b[0m\u001b[1;33m\n",
      "\u001b[0m    \u001b[1;33m/\u001b[0m\u001b[1;33m,\u001b[0m\u001b[1;33m\n",
      "\u001b[0m    \u001b[1;33m*\u001b[0m\u001b[1;33m,\u001b[0m\u001b[1;33m\n",
      "\u001b[0m    \u001b[0mfix_imports\u001b[0m\u001b[1;33m=\u001b[0m\u001b[1;32mTrue\u001b[0m\u001b[1;33m,\u001b[0m\u001b[1;33m\n",
      "\u001b[0m    \u001b[0mencoding\u001b[0m\u001b[1;33m=\u001b[0m\u001b[1;34m'ASCII'\u001b[0m\u001b[1;33m,\u001b[0m\u001b[1;33m\n",
      "\u001b[0m    \u001b[0merrors\u001b[0m\u001b[1;33m=\u001b[0m\u001b[1;34m'strict'\u001b[0m\u001b[1;33m,\u001b[0m\u001b[1;33m\n",
      "\u001b[0m    \u001b[0mbuffers\u001b[0m\u001b[1;33m=\u001b[0m\u001b[1;33m(\u001b[0m\u001b[1;33m)\u001b[0m\u001b[1;33m,\u001b[0m\u001b[1;33m\n",
      "\u001b[0m\u001b[1;33m)\u001b[0m\u001b[1;33m\u001b[0m\u001b[1;33m\u001b[0m\u001b[0m\n",
      "\u001b[1;31mDocstring:\u001b[0m\n",
      "Read and return an object from the given pickle data.\n",
      "\n",
      "The protocol version of the pickle is detected automatically, so no\n",
      "protocol argument is needed.  Bytes past the pickled object's\n",
      "representation are ignored.\n",
      "\n",
      "Optional keyword arguments are *fix_imports*, *encoding* and *errors*,\n",
      "which are used to control compatibility support for pickle stream\n",
      "generated by Python 2.  If *fix_imports* is True, pickle will try to\n",
      "map the old Python 2 names to the new names used in Python 3.  The\n",
      "*encoding* and *errors* tell pickle how to decode 8-bit string\n",
      "instances pickled by Python 2; these default to 'ASCII' and 'strict',\n",
      "respectively.  The *encoding* can be 'bytes' to read these 8-bit\n",
      "string instances as bytes objects.\n",
      "\u001b[1;31mType:\u001b[0m      builtin_function_or_method"
     ]
    }
   ],
   "source": [
    "pickle.loads?"
   ]
  },
  {
   "cell_type": "code",
   "execution_count": 5,
   "metadata": {},
   "outputs": [
    {
     "name": "stdout",
     "output_type": "stream",
     "text": [
      "\u001b[1;31mType:\u001b[0m        module\n",
      "\u001b[1;31mString form:\u001b[0m <module 'pickle' from 'c:\\\\Python\\\\Python38\\\\lib\\\\pickle.py'>\n",
      "\u001b[1;31mFile:\u001b[0m        c:\\python\\python38\\lib\\pickle.py\n",
      "\u001b[1;31mDocstring:\u001b[0m  \n",
      "Create portable serialized representations of Python objects.\n",
      "\n",
      "See module copyreg for a mechanism for registering custom picklers.\n",
      "See module pickletools source for extensive comments.\n",
      "\n",
      "Classes:\n",
      "\n",
      "    Pickler\n",
      "    Unpickler\n",
      "\n",
      "Functions:\n",
      "\n",
      "    dump(object, file)\n",
      "    dumps(object) -> string\n",
      "    load(file) -> object\n",
      "    loads(bytes) -> object\n",
      "\n",
      "Misc variables:\n",
      "\n",
      "    __version__\n",
      "    format_version\n",
      "    compatible_formats"
     ]
    }
   ],
   "source": [
    "pickle?"
   ]
  },
  {
   "cell_type": "code",
   "execution_count": 17,
   "metadata": {},
   "outputs": [
    {
     "name": "stdout",
     "output_type": "stream",
     "text": [
      "\u001b[1;31mType:\u001b[0m        BufferedReader\n",
      "\u001b[1;31mString form:\u001b[0m <_io.BufferedReader name='2018worldcup.bin'>\n",
      "\u001b[1;31mDocstring:\u001b[0m   Create a new buffered reader using the given readable raw IO object."
     ]
    }
   ],
   "source": [
    "with as file?"
   ]
  }
 ],
 "metadata": {
  "kernelspec": {
   "display_name": "Python 3",
   "language": "python",
   "name": "python3"
  },
  "language_info": {
   "codemirror_mode": {
    "name": "ipython",
    "version": 3
   },
   "file_extension": ".py",
   "mimetype": "text/x-python",
   "name": "python",
   "nbconvert_exporter": "python",
   "pygments_lexer": "ipython3",
   "version": "3.10.5"
  }
 },
 "nbformat": 4,
 "nbformat_minor": 2
}
