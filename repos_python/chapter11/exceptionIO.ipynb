{
 "cells": [
  {
   "cell_type": "markdown",
   "metadata": {},
   "source": [
    "- 사용자 정의 함수를 우선 작성할 것"
   ]
  },
  {
   "cell_type": "markdown",
   "metadata": {},
   "source": [
    "- 바이너리파일은 노트패드와 같은 특징을 가진다 말할 수 없음"
   ]
  },
  {
   "cell_type": "markdown",
   "metadata": {},
   "source": [
    "- 직렬화 seerialization : 객체를 일련의 바이트로 변환하는 것\n",
    "- 이것은 역직렬화하는 것이 pickle모듈, CPickle모듈, 사용하는 이유는 예전에 운영체제가 달라서 인코딩 방식이 달랐기 때문"
   ]
  },
  {
   "cell_type": "code",
   "execution_count": 8,
   "metadata": {},
   "outputs": [
    {
     "name": "stdout",
     "output_type": "stream",
     "text": [
      "에러 발생 이름: <class 'KeyError'>\n",
      "에러 발생 이유: 'owner'\n"
     ]
    }
   ],
   "source": [
    "try:\n",
    "    print({'name':'python', 'year':1991, 'developer':'capital'}['owner'])\n",
    "except LookupError as e:\n",
    "    print(f'에러 발생 이름: {type(e)}')\n",
    "    print(f'에러 발생 이유: {e}')"
   ]
  },
  {
   "cell_type": "code",
   "execution_count": 9,
   "metadata": {},
   "outputs": [
    {
     "name": "stdout",
     "output_type": "stream",
     "text": [
      "에러 발생 이름: <class 'IndexError'>\n",
      "에러 발생 이유: list index out of range\n",
      "Exception Handle Success!\n"
     ]
    }
   ],
   "source": [
    "lst = ['C', 'C++', 'JAVA', 'PYTHON']\n",
    "\n",
    "try:\n",
    "    print(lst[4])\n",
    "except LookupError as e:\n",
    "    print(f'에러 발생 이름: {type(e)}')\n",
    "    print(f'에러 발생 이유: {e}')\n",
    "else:\n",
    "    print('Run Completed.')\n",
    "finally:\n",
    "    print('Exception Handle Success!')"
   ]
  },
  {
   "cell_type": "code",
   "execution_count": 6,
   "metadata": {},
   "outputs": [
    {
     "name": "stdout",
     "output_type": "stream",
     "text": [
      "\u001b[1;31mInit signature:\u001b[0m \u001b[0mtype\u001b[0m\u001b[1;33m(\u001b[0m\u001b[0mself\u001b[0m\u001b[1;33m,\u001b[0m \u001b[1;33m/\u001b[0m\u001b[1;33m,\u001b[0m \u001b[1;33m*\u001b[0m\u001b[0margs\u001b[0m\u001b[1;33m,\u001b[0m \u001b[1;33m**\u001b[0m\u001b[0mkwargs\u001b[0m\u001b[1;33m)\u001b[0m\u001b[1;33m\u001b[0m\u001b[1;33m\u001b[0m\u001b[0m\n",
      "\u001b[1;31mDocstring:\u001b[0m     \n",
      "type(object) -> the object's type\n",
      "type(name, bases, dict, **kwds) -> a new type\n",
      "\u001b[1;31mType:\u001b[0m           type\n",
      "\u001b[1;31mSubclasses:\u001b[0m     ABCMeta, EnumMeta, NamedTupleMeta, _TypedDictMeta, _ABC, MetaHasDescriptors, PyCStructType, UnionType, PyCPointerType, PyCArrayType, ..."
     ]
    }
   ],
   "source": [
    "?type"
   ]
  },
  {
   "cell_type": "markdown",
   "metadata": {},
   "source": [
    "- 파이썬 파일입출력\n",
    "    - 파일 쓸 때 `인코딩` 형식 지정하기! \n",
    "    - with(...) as file\n",
    "    - 파일객체명: 을 사용하면 close()호출 없이 자동으로 파일을 닫아줌"
   ]
  },
  {
   "cell_type": "code",
   "execution_count": 61,
   "metadata": {},
   "outputs": [
    {
     "name": "stdout",
     "output_type": "stream",
     "text": [
      "파이썬으로 배우는 누구나 코딩\n"
     ]
    }
   ],
   "source": [
    "# 파일 쓰기 write()와 파일 읽기 read(), utf-8로 encoding하기\n",
    "'''with 키워드를 쓴 경우'''\n",
    "with open('pyzen.txt', 'wt', encoding='utf-8') as file:\n",
    "    file.write('파이썬으로 배우는 누구나 코딩')\n",
    "\n",
    "'''with 키워드를 쓰지 않은 경우'''\n",
    "f = open('pyzen.txt', 'rt', encoding='utf-8')\n",
    "print(f.read())\n",
    "f.close()"
   ]
  },
  {
   "cell_type": "code",
   "execution_count": 27,
   "metadata": {},
   "outputs": [
    {
     "name": "stdout",
     "output_type": "stream",
     "text": [
      "예외 발생 이름: <class 'ValueError'>\n",
      "예외 발생 이유: invalid literal for int() with base 10: '0o12'\n",
      "예외 처리가 잘 되는군요!\n"
     ]
    }
   ],
   "source": [
    "# 1.\t다음 두 print()문장에 대한 예외 처리를 구현\n",
    "try:\n",
    "    n = int(input())\n",
    "    print(int(oct(10)[n:]))\n",
    "except Exception as e:\n",
    "    print(f'예외 발생 이름: {type(e)}')\n",
    "    print(f'예외 발생 이유: {e}')\n",
    "else:\n",
    "    print(f'잘 실행됐습니다.')\n",
    "finally:\n",
    "    print(f'예외 처리가 잘 되는군요!')"
   ]
  },
  {
   "cell_type": "code",
   "execution_count": 2,
   "metadata": {},
   "outputs": [
    {
     "name": "stdout",
     "output_type": "stream",
     "text": [
      "\u001b[1;31mSignature:\u001b[0m \u001b[0moct\u001b[0m\u001b[1;33m(\u001b[0m\u001b[0mnumber\u001b[0m\u001b[1;33m,\u001b[0m \u001b[1;33m/\u001b[0m\u001b[1;33m)\u001b[0m\u001b[1;33m\u001b[0m\u001b[1;33m\u001b[0m\u001b[0m\n",
      "\u001b[1;31mDocstring:\u001b[0m\n",
      "Return the octal representation of an integer.\n",
      "\n",
      ">>> oct(342391)\n",
      "'0o1234567'\n",
      "\u001b[1;31mType:\u001b[0m      builtin_function_or_method"
     ]
    }
   ],
   "source": [
    "?oct"
   ]
  },
  {
   "cell_type": "code",
   "execution_count": 47,
   "metadata": {},
   "outputs": [
    {
     "name": "stdout",
     "output_type": "stream",
     "text": [
      "0으로는 나눌 수 없습니다.\n"
     ]
    }
   ],
   "source": [
    "# 2.\t함수 divide(x, y) 구현에서 연산 x / y은 0으로 나누는 것에 대한 예외처리를 수행\n",
    "def divide(x, y):\n",
    "    return x / y\n",
    "\n",
    "try:\n",
    "    x, y = map(float, input().split())\n",
    "    divide(x, y)\n",
    "except Exception as e:\n",
    "    print(f'0으로는 나눌 수 없습니다.')\n",
    "else:\n",
    "    print(f'결과: {divide(x, y)}')"
   ]
  },
  {
   "cell_type": "code",
   "execution_count": 56,
   "metadata": {},
   "outputs": [
    {
     "name": "stdout",
     "output_type": "stream",
     "text": [
      "대학교 몇 학년이지요? 5\n",
      "예외 발생 이름: <class 'Exception'>\n",
      "예외 발생 이유: 1~4 정수를 입력하세요.\n",
      "예외 처리가 잘 되는군요!\n"
     ]
    }
   ],
   "source": [
    "# 3.\t표준입력에서 받은 정수에 해당하는 문자열 출력, 잘못된 입력에 대한 예외 처리\n",
    "uyear = {1:'freshman', 2:'sophomore', 3:'junior', 4:'senior'}\n",
    "try:\n",
    "    enter = int(input())\n",
    "    print(f'대학교 몇 학년이지요? {enter}')\n",
    "    if enter > 4:\n",
    "        raise Exception('1~4 정수를 입력하세요.')\n",
    "\n",
    "except Exception as e:\n",
    "    print(f'예외 발생 이름: {type(e)}')\n",
    "    print(f'예외 발생 이유: {e}')\n",
    "else:\n",
    "    print(f'{enter}학년: {uyear[enter]}')\n",
    "finally:\n",
    "    print(f'예외 처리가 잘 되는군요!')"
   ]
  },
  {
   "cell_type": "code",
   "execution_count": 77,
   "metadata": {},
   "outputs": [
    {
     "name": "stdout",
     "output_type": "stream",
     "text": [
      "파일 처리 모드\n",
      "mode = 'wt'\n",
      "mode = 'rt'\n"
     ]
    }
   ],
   "source": [
    "ls = ['파일 처리 모드\\n', \"mode = 'wt'\\n\", \"mode = 'rt'\\n\"]\n",
    "with open('modex.txt', 'wt', encoding='utf-8') as file:\n",
    "    file.writelines(ls)\n",
    "\n",
    "with open('modex.txt', 'rt', encoding='utf-8') as file:\n",
    "    for line in file:\n",
    "        print(f'{line}', end='')"
   ]
  },
  {
   "cell_type": "code",
   "execution_count": 78,
   "metadata": {},
   "outputs": [
    {
     "name": "stdout",
     "output_type": "stream",
     "text": [
      "1학년 freshman\n",
      "2학년 sophomore\n",
      "3학년 junior\n",
      "4학년 senior\n"
     ]
    }
   ],
   "source": [
    "# 4.\t파일 ‘cp.txt’를 만들어 ‘freshman\\n’, ‘sophomore\\n’, ‘junior\\n’, ‘senior\\n’ 네 줄을 출력한 후 다시 파일 ‘cp.txt’를 열어 한 줄 한 줄 읽어 콘솔에 다음과 같이 출력되는 프로그램\n",
    "# lst = ['freshman\\n', 'sophomore\\n', 'junior\\n', 'senior\\n']\n",
    "\n",
    "# with open('cp.txt', 'wt', encoding='utf-8') as file:\n",
    "#     file.writelines(lst)\n",
    "\n",
    "# for i in enumerate(lst, start=1):\n",
    "#     print(f'{i[0]}학년 {i[1]}', end='')"
   ]
  },
  {
   "cell_type": "code",
   "execution_count": 1,
   "metadata": {},
   "outputs": [
    {
     "ename": "TypeError",
     "evalue": "write() argument must be str, not dict",
     "output_type": "error",
     "traceback": [
      "\u001b[1;31m---------------------------------------------------------------------------\u001b[0m",
      "\u001b[1;31mTypeError\u001b[0m                                 Traceback (most recent call last)",
      "\u001b[1;32mc:\\PythonLanguage\\repos_python\\chapter11\\exceptionIO.ipynb 셀 15\u001b[0m line \u001b[0;36m6\n\u001b[0;32m      <a href='vscode-notebook-cell:/c%3A/PythonLanguage/repos_python/chapter11/exceptionIO.ipynb#X20sZmlsZQ%3D%3D?line=2'>3</a>\u001b[0m win \u001b[39m=\u001b[39m [\u001b[39m'\u001b[39m\u001b[39m스페인\u001b[39m\u001b[39m'\u001b[39m, \u001b[39m'\u001b[39m\u001b[39m독일\u001b[39m\u001b[39m'\u001b[39m]\n\u001b[0;32m      <a href='vscode-notebook-cell:/c%3A/PythonLanguage/repos_python/chapter11/exceptionIO.ipynb#X20sZmlsZQ%3D%3D?line=4'>5</a>\u001b[0m \u001b[39mwith\u001b[39;00m \u001b[39mopen\u001b[39m(\u001b[39m'\u001b[39m\u001b[39mworldcup.bin\u001b[39m\u001b[39m'\u001b[39m, \u001b[39m'\u001b[39m\u001b[39mwt\u001b[39m\u001b[39m'\u001b[39m, encoding\u001b[39m=\u001b[39m\u001b[39m'\u001b[39m\u001b[39mutf-8\u001b[39m\u001b[39m'\u001b[39m) \u001b[39mas\u001b[39;00m file:\n\u001b[1;32m----> <a href='vscode-notebook-cell:/c%3A/PythonLanguage/repos_python/chapter11/exceptionIO.ipynb#X20sZmlsZQ%3D%3D?line=5'>6</a>\u001b[0m     file\u001b[39m.\u001b[39;49mwrite(wc)\n\u001b[0;32m      <a href='vscode-notebook-cell:/c%3A/PythonLanguage/repos_python/chapter11/exceptionIO.ipynb#X20sZmlsZQ%3D%3D?line=7'>8</a>\u001b[0m \u001b[39mfor\u001b[39;00m i \u001b[39min\u001b[39;00m \u001b[39menumerate\u001b[39m(wc, start\u001b[39m=\u001b[39m\u001b[39m1\u001b[39m):\n\u001b[0;32m      <a href='vscode-notebook-cell:/c%3A/PythonLanguage/repos_python/chapter11/exceptionIO.ipynb#X20sZmlsZQ%3D%3D?line=8'>9</a>\u001b[0m     \u001b[39mprint\u001b[39m(\u001b[39mf\u001b[39m\u001b[39m'\u001b[39m\u001b[39m{\u001b[39;00mi[\u001b[39m0\u001b[39m]\u001b[39m}\u001b[39;00m\u001b[39m학년 \u001b[39m\u001b[39m{\u001b[39;00mi[\u001b[39m1\u001b[39m]\u001b[39m}\u001b[39;00m\u001b[39m'\u001b[39m, end\u001b[39m=\u001b[39m\u001b[39m'\u001b[39m\u001b[39m'\u001b[39m)\n",
      "\u001b[1;31mTypeError\u001b[0m: write() argument must be str, not dict"
     ]
    }
   ],
   "source": [
    "# 5.\t표준 모듈 pickle을 사용해 바이너리 파일 'worldcup.bin'에 저장 후 다시 읽어 딕셔너리와 리스트의 내용을 하나씩 추가한 후 출력\n",
    "wc = {2010:'남아프리카공화국', 2014:'브라질'}\n",
    "win = ['스페인', '독일']\n",
    "\n",
    "with open('worldcup.bin', 'wt', encoding='utf-8') as file:\n",
    "    file.write(wc)\n",
    "\n",
    "for i in enumerate(wc, start=1):\n",
    "    print(f'{i[0]}학년 {i[1]}', end='')"
   ]
  },
  {
   "cell_type": "code",
   "execution_count": null,
   "metadata": {},
   "outputs": [],
   "source": [
    "# 6.\t문제를 입력하세요."
   ]
  }
 ],
 "metadata": {
  "kernelspec": {
   "display_name": "Python 3",
   "language": "python",
   "name": "python3"
  },
  "language_info": {
   "codemirror_mode": {
    "name": "ipython",
    "version": 3
   },
   "file_extension": ".py",
   "mimetype": "text/x-python",
   "name": "python",
   "nbconvert_exporter": "python",
   "pygments_lexer": "ipython3",
   "version": "3.10.5"
  }
 },
 "nbformat": 4,
 "nbformat_minor": 2
}
