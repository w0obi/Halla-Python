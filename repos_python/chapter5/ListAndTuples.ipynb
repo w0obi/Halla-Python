{
 "cells": [
  {
   "cell_type": "code",
   "execution_count": 17,
   "metadata": {},
   "outputs": [
    {
     "name": "stdout",
     "output_type": "stream",
     "text": [
      "리스트 [41, 18, 83, 11, 73, 37, 24, 3, 59, 45]\n",
      "정렬 리스트 [3, 11, 18, 24, 37, 41, 45, 59, 73, 83]\n",
      "역순 리스트 [83, 73, 59, 45, 41, 37, 24, 18, 11, 3]\n"
     ]
    }
   ],
   "source": [
    "# 1. 1에서 99까지의 난수 10개로 리스트를 만든 후 리스트와\n",
    "#    정렬된 리스트 그리고 내림차순으로 정렬된 역순 리스트를 출력\n",
    "\n",
    "import random\n",
    "\n",
    "# 난수가 10개 있는 리스트 생성\n",
    "ls = []\n",
    "for i in range(10):\n",
    "    r = random.randint(1, 100)\n",
    "    ls.append(r)\n",
    "print(f\"리스트 {ls}\")\n",
    "\n",
    "# 리스트를 내림차순으로 정렬하여 출력\n",
    "print(f\"정렬 리스트 {sorted(ls)}\")\n",
    "\n",
    "# 리스트를 역순으로 정렬하여 출력\n",
    "# ls.sort(reverse=True)\n",
    "print(f\"역순 리스트 {sorted(ls, reverse=True)}\")\n",
    "# r = list(reversed(sorted(ls, reverse=True)))\n",
    "# print(r)\n",
    "\n",
    "# 컴퓨터공학과_202121027_김현정_파이썬(월7수56)_5장문제풀이"
   ]
  },
  {
   "cell_type": "code",
   "execution_count": 2,
   "metadata": {},
   "outputs": [
    {
     "name": "stdout",
     "output_type": "stream",
     "text": [
      "찾을 단어 입력 ? 나비\n",
      "사전에 존재하지 않는 단어입니다. 다시 입력해주세요.\n",
      "\n",
      "찾을 단어 입력 ? 초보자\n",
      "novice\n"
     ]
    }
   ],
   "source": [
    "# 2. 영한 사전과 같이 한글과 영어에 대응되는 튜플 korean과\n",
    "#    english를 만든 후, 표준 입력으로 한글을 입력받아 출력\n",
    "\n",
    "korean = (\"정렬\", \"초보자\", \"내포\", \"사전\")\n",
    "english = (\"sorting\", \"novice\", \"comprehension\", \"dictionary\")\n",
    "\n",
    "keyword = input(\"찾을 단어 입력 ? {}\")\n",
    "print(f\"찾을 단어 입력 ? {keyword}\")\n",
    "\n",
    "# 사용자가 입력한 한글과 튜플 속 한글이 일치하는지 확인\n",
    "for i in range(len(korean)):\n",
    "    if keyword in korean[i]:\n",
    "        print(english[i])\n",
    "\n",
    "if keyword not in korean:\n",
    "    print(\"사전에 존재하지 않는 단어입니다. 다시 입력해주세요.\")\n",
    "    print()\n",
    "\n",
    "keyword = input(\"찾을 단어 입력 ? {}\")\n",
    "print(f\"찾을 단어 입력 ? {keyword}\")\n",
    "\n",
    "for i in range(len(korean)):\n",
    "    if keyword in korean[i]:\n",
    "        print(english[i])\n",
    "# 컴퓨터공학과_202121027_김현정_파이썬(월7수56)_5장문제풀이"
   ]
  },
  {
   "cell_type": "code",
   "execution_count": 95,
   "metadata": {},
   "outputs": [
    {
     "name": "stdout",
     "output_type": "stream",
     "text": [
      "+ 012345678901\n",
      "  HelloPython!\n",
      "- 210987654321\n",
      "슬라이스 시작 인덱스를 입력하세요 >> 3 10 2\n",
      "['l', 'P', 't', 'o']\n",
      "슬라이스 시작 인덱스를 입력하세요 >> 0 0 0\n",
      "*******************종료*******************\n"
     ]
    }
   ],
   "source": [
    "# 3. 문자열 'HelloPython!'으로 리스트를 만들어 부분 리스트 참조인 슬라이스를\n",
    "#    위한 3개의 정수를 표준 입력으로 받은 후 슬라이스 결과를 출력\n",
    "# 계속 입출력을 반복하며, 0 0 0을 입력하면 종료\n",
    "# 슬라이스를 위해 첨자를 문자열의 위아래로 출력\n",
    "\n",
    "# 문자열 위 아래에 인덱스 출력\n",
    "text = 'HelloPython!'\n",
    "print(\"+ 012345678901\")\n",
    "print(f'  {text}')\n",
    "print(\"- 210987654321\")\n",
    "\n",
    "while True:\n",
    "    # 슬라이스를 위한 인덱스 입력\n",
    "    start, end, stop = map(int, input(\"슬라이스 시작 인덱스를 입력하세요 >> \").split())\n",
    "    print(f'슬라이스 시작 인덱스를 입력하세요 >> {start} {end} {stop}')\n",
    "\n",
    "    # 0 0 0이 입력되면 종료\n",
    "    if start == 0 and end == 0 and stop == 0:\n",
    "        print(\"종료\".center(40, '*'))\n",
    "        break\n",
    "\n",
    "    # 슬라이스 결과 계산 및 결과 출력\n",
    "    else:\n",
    "        arr = list(text[start:end:stop])\n",
    "        print(f\"{arr}\")\n",
    "\n",
    "# 컴퓨터공학과_202121027_김현정_파이썬(월7수56)_5장문제풀이"
   ]
  },
  {
   "cell_type": "code",
   "execution_count": 101,
   "metadata": {},
   "outputs": [
    {
     "name": "stdout",
     "output_type": "stream",
     "text": [
      "각 행의 합:  [6, 15, 24]\n",
      "각 열의 합:  [12, 15, 18]\n"
     ]
    }
   ],
   "source": [
    "# 4. 다음 중첩된 리스트 data에서 각 행의 합과 열의 합을\n",
    "#  리스트 rsum과 csum에 저장해 출력\n",
    "data = [[1, 2, 3], [4, 5, 6], [7, 8, 9]]\n",
    "\n",
    "# 각 행의 합을 계산하여 rsum에 저장\n",
    "rsum = [sum(row) for row in data]\n",
    "\n",
    "# 각 열의 합을 계산하여 csum에 저장\n",
    "csum = [sum(col) for col in zip(*data)]\n",
    "\n",
    "# 결과 출력\n",
    "print(f\"각 행의 합:  {rsum}\")\n",
    "print(f\"각 열의 합:  {csum}\")\n",
    "# 컴퓨터공학과_202121027_김현정_파이썬(월7수56)_5장문제풀이"
   ]
  },
  {
   "cell_type": "markdown",
   "metadata": {},
   "source": [
    "# ------------------------------------------------------------\n",
    "5. 다음 리스트 sports와 num을 활용해 스포츠 종목과 팀원 수가 번갈아 나오는 리스트를 만든 후 다음과 같이 출력\n",
    "- sports = [\"축구\", \"야구\", \"농구\", \"배구\"]\n",
    "- num = [11, 9, 5, 6]"
   ]
  },
  {
   "cell_type": "code",
   "execution_count": 104,
   "metadata": {},
   "outputs": [
    {
     "name": "stdout",
     "output_type": "stream",
     "text": [
      "[('축구', 11), ('야구', 9), ('농구', 5), ('배구', 6)]\n",
      "[11, 9, 5, 6, '축구', '야구', '농구', '배구']\n"
     ]
    }
   ],
   "source": [
    "# 초기 리스트 생성\n",
    "sports = [\"축구\", \"야구\", \"농구\", \"배구\"]\n",
    "num = [11, 9, 5, 6]\n",
    "\n",
    "# insert()로 팀원 수 삽입\n",
    "for i in range(4):\n",
    "        sports.insert(i, num[i])\n",
    "\n",
    "# 결과 출력\n",
    "print(sports)"
   ]
  },
  {
   "cell_type": "code",
   "execution_count": null,
   "metadata": {},
   "outputs": [],
   "source": [
    "# 초기 리스트 생성\n",
    "sports = [\"축구\", \"야구\", \"농구\", \"배구\"]\n",
    "num = [11, 9, 5, 6]\n",
    "\n",
    "# sports의 홀수 참조에 공백''을 insert()로 삽입\n",
    "sports.insert(0, \"\")\n",
    "\n",
    "# 결과 출력\n",
    "print(sports)\n",
    "# 컴퓨터공학과_202121027_김현정_파이썬(월7수56)_5장문제풀이"
   ]
  },
  {
   "cell_type": "code",
   "execution_count": null,
   "metadata": {},
   "outputs": [],
   "source": [
    "# 초기 리스트 생성\n",
    "sports = [\"축구\", \"야구\", \"농구\", \"배구\"]\n",
    "num = [11, 9, 5, 6]\n",
    "\n",
    "# 슬라이스를 사용하여 sports[1::2]에 num을 대입\n",
    "sports[1::2] = num\n",
    "\n",
    "# 결과 출력\n",
    "print(sports)\n",
    "# 컴퓨터공학과_202121027_김현정_파이썬(월7수56)_5장문제풀이"
   ]
  },
  {
   "cell_type": "markdown",
   "metadata": {},
   "source": [
    "[리스트 중간에 요소 추가하기] https://velog.io/@mini_y/python-%EB%A6%AC%EC%8A%A4%ED%8A%B8%EC%99%80-%EB%B0%98%EB%B3%B5%EB%AC%B8"
   ]
  },
  {
   "cell_type": "code",
   "execution_count": 115,
   "metadata": {},
   "outputs": [
    {
     "name": "stdout",
     "output_type": "stream",
     "text": [
      "원래 행렬(m) 출력:\n",
      "1 2 \n",
      "3 4 \n",
      "5 6 \n",
      "7 8 \n",
      "\n",
      "전치 행렬 출력:\n",
      "1 3 5 7 \n",
      "2 4 6 8 \n"
     ]
    }
   ],
   "source": [
    "# 6. 다음 중첩된 리스트를 for문으로 행과 열을 맞춰 항목을 출력한 후\n",
    "#    다시 행과 열이 바뀐 형태를 for문으로 출력\n",
    "# m = [[1, 2], [3, 4], [5, 6], [7, 8]]\n",
    "\n",
    "# 초기 리스트 생성\n",
    "matrix = [[1, 2], [3, 4], [5, 6], [7, 8]]\n",
    "\n",
    "# 원래 행렬 출력\n",
    "print(\"원래 행렬(m) 출력:\")\n",
    "for row in matrix:\n",
    "    for item in row:\n",
    "        print(item, end=\" \")\n",
    "    print()\n",
    "\n",
    "# 전치 행렬 생성\n",
    "transpose_matrix = [[row[i] for row in matrix]\n",
    "                     for i in range(len(matrix[0]))]\n",
    "print()\n",
    "# 전치 행렬 출력\n",
    "print(\"전치 행렬 출력:\")\n",
    "for row in transpose_matrix:\n",
    "    for item in row:\n",
    "        print(item, end=\" \")\n",
    "    print()\n",
    "# 컴퓨터공학과_202121027_김현정_파이썬(월7수56)_5장문제풀이"
   ]
  },
  {
   "cell_type": "code",
   "execution_count": 129,
   "metadata": {},
   "outputs": [
    {
     "name": "stdout",
     "output_type": "stream",
     "text": [
      "프랜스포즈를 컴프리헨션으로 만들어 그대로 출력\n",
      "[[1, 3, 5, 7], [2, 4, 6, 8]]\n",
      "\n",
      "트랜스포즈를 for문으로 출력\n",
      "1 3 5 7 \n",
      "2 4 6 8 \n"
     ]
    }
   ],
   "source": [
    "# 7. 위와 동일한 중첩된 리스트에서 리스트 컴프리헨션을 활용해 행과 열이\n",
    "#    바뀐 형태의 리스트를 새로 만들고, 이 변환된 리스트를 다음과 같이 출력\n",
    "# m = [[1, 2], [3, 4], [5, 6], [7, 8]]\n",
    "# transpose = [[row[i] for row in m] for i in range(len(m[0]))]\n",
    "\n",
    "# 초기 중첩된 리스트 생성\n",
    "m = [[1, 2], [3, 4], [5, 6], [7, 8]]\n",
    "\n",
    "# 전치 행렬 생성\n",
    "transpose = [[row[i] for row in m] for i in range(len(m[0]))]\n",
    "\n",
    "# 프랜스포즈를 컴프리헨션으로 만들어 그대로 출력\n",
    "print(\"프랜스포즈를 컴프리헨션으로 만들어 그대로 출력\")\n",
    "print(transpose)\n",
    "\n",
    "print()\n",
    "# 트랜스포즈를 for문으로 출력\n",
    "print(\"트랜스포즈를 for문으로 출력\")\n",
    "for row in transpose:\n",
    "    for item in row:\n",
    "        print(item, end=' ')\n",
    "    print()\n",
    "# 컴퓨터공학과_202121027_김현정_파이썬(월7수56)_5장문제풀이"
   ]
  },
  {
   "cell_type": "code",
   "execution_count": 125,
   "metadata": {},
   "outputs": [
    {
     "name": "stdout",
     "output_type": "stream",
     "text": [
      "리스트: [66, 21, 41, 30, 87, 7, 21, 34, 44, 28]\n",
      "튜플: (66, 21, 41, 30, 87, 7, 21, 34, 44, 28)\n",
      "튜플 정렬된 리스트: [7, 21, 21, 28, 30, 34, 41, 44, 66, 87]\n",
      "\n",
      "합:  379, 항목 수: 10\n",
      "최대: 87, 최소: 7, 평균: 37.90\n"
     ]
    }
   ],
   "source": [
    "# 8. 1에서 99까지의 난수 10개로 리스트를 만든 후 다시 이 리스트를 튜플로 변환하고,\n",
    "#    다음과 같이 정렬된 리스트와 합, 항목 수, 최대, 최소, 평균을 출력\n",
    "# - 리스트를 튜플로 반환\n",
    "# - 튜플의 항목을 정렬해 리스트로 반환\n",
    "# - 튜플에서 최소인 항목 반환\n",
    "# - max, sum 사용\n",
    "import random\n",
    "\n",
    "# 난수로 리스트 생성\n",
    "random_list = [random.randint(1, 99) for _ in range(10)]\n",
    "\n",
    "# 리스트를 튜플로 변환\n",
    "random_tuple = tuple(random_list)\n",
    "\n",
    "# 정렬된 리스트 생성\n",
    "sorted_list = sorted(random_tuple)\n",
    "\n",
    "# 합, 항목 수, 최대, 최소, 평균 계산\n",
    "total = sum(random_tuple)\n",
    "count = len(random_tuple)\n",
    "maximum = max(random_tuple)\n",
    "minimum = min(random_tuple)\n",
    "average = total / count\n",
    "\n",
    "# 결과 출력\n",
    "print(f\"리스트: {random_list}\")\n",
    "print(f\"튜플: {random_tuple}\")\n",
    "print(f\"튜플 정렬된 리스트: {sorted_list}\")\n",
    "print()\n",
    "print(f\"합:  {total}, 항목 수: {count}\")\n",
    "print(f\"최대: {maximum}, 최소: {minimum}, 평균: {average:.2f}\")\n",
    "# 컴퓨터공학과_202121027_김현정_파이썬(월7수56)_5장문제풀이"
   ]
  }
 ],
 "metadata": {
  "kernelspec": {
   "display_name": "Python 3",
   "language": "python",
   "name": "python3"
  },
  "language_info": {
   "codemirror_mode": {
    "name": "ipython",
    "version": 3
   },
   "file_extension": ".py",
   "mimetype": "text/x-python",
   "name": "python",
   "nbconvert_exporter": "python",
   "pygments_lexer": "ipython3",
   "version": "3.10.5"
  },
  "orig_nbformat": 4
 },
 "nbformat": 4,
 "nbformat_minor": 2
}
