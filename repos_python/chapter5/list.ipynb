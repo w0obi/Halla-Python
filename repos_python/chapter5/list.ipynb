{
 "cells": [
  {
   "cell_type": "markdown",
   "metadata": {},
   "source": [
    "```배열과 리스트의 차이 --> 배열[,] 리스트[][] ```"
   ]
  },
  {
   "cell_type": "code",
   "execution_count": 1,
   "metadata": {},
   "outputs": [
    {
     "name": "stdout",
     "output_type": "stream",
     "text": [
      "['에소프레소', '아메리카노', '카페라테', '카페모카']\n",
      "<class 'list'>\n",
      "\n",
      "1. 에소프레소\n",
      "2. 아메리카노\n",
      "3. 카페라테\n",
      "4. 카페모카\n"
     ]
    }
   ],
   "source": [
    "# 05-01 다양한 커피 종류가 저장된 리스트\n",
    "coffee = [\"에소프레소\", \"아메리카노\", \"카페라테\", \"카페모카\"]\n",
    "print(f\"{coffee}\")\n",
    "print(type(coffee))\n",
    "print()\n",
    "num = 0\n",
    "for s in coffee:\n",
    "    num += 1\n",
    "    print(f\"{num}. {s}\")"
   ]
  },
  {
   "cell_type": "code",
   "execution_count": 32,
   "metadata": {},
   "outputs": [
    {
     "name": "stdout",
     "output_type": "stream",
     "text": [
      "=============================================\n",
      "    COFFEE            ADE          BEVERAGE     \n",
      "=============================================\n",
      "  에소프레소          청포도           물     \n",
      "  아메리카노          자두            녹차    \n",
      "   카페라테          복숭아          율무차    \n",
      "   카페모카           레몬           홍차    \n",
      "    \t             체리          둥글레차   \n",
      "    \t             \t           유자차    \n"
     ]
    }
   ],
   "source": [
    "# 05-02 카페 메뉴 리스트\n",
    "menu = [\"COFFEE\", \"ADE\", \"BEVERAGE\"]\n",
    "coffee = [\"에소프레소\", \"아메리카노\", \"카페라테\", \"카페모카\"]\n",
    "# ade = ['청포도', '자두', '복숭아', '레몬', '체리']\n",
    "# beverage = ['물', '녹차', '히비스커스차', '홍차', '둥글레차', '유자차']\n",
    "allaround = [\n",
    "    [\"에소프레소\", \"청포도\", \"물\"],\n",
    "    [\"아메리카노\", \"자두\", \"녹차\"],\n",
    "    [\"카페라테\", \"복숭아\", \"율무차\"],\n",
    "    [\"카페모카\", \" 레몬\", \" 홍차\"],\n",
    "    [\"\\t\", \" 체리\", \"둥글레차\"],\n",
    "    [\"\\t\", \"\\t\", \"유자차\"],\n",
    "]\n",
    "\n",
    "print(\"=\" * 45)\n",
    "for category in menu:\n",
    "    print(f\"{category:^15}\", end=\" \")  # ^(caret)기호는 가운데 정렬, 15(해당 숫자) 만큼 공백을 추가\n",
    "print()\n",
    "print(\"=\" * 45)\n",
    "\n",
    "# for ckind in coffee:        # coffee 종류\n",
    "#     print(f'{ckind:^10s}')\n",
    "\n",
    "for a, b, c in allaround:  # 모든 메뉴 종류\n",
    "    print(f\"{a:^10} {b:^15} {c:^10}\")"
   ]
  },
  {
   "cell_type": "code",
   "execution_count": 3,
   "metadata": {},
   "outputs": [
    {
     "name": "stdout",
     "output_type": "stream",
     "text": [
      "구입할 품목은 ? egg\n",
      "['egg']\n",
      "\n",
      "구입할 품목은 ? 'milk'\n",
      "['egg', \"'milk'\"]\n",
      "\n",
      "리스트 goods의 길이 : ['egg', \"'milk'\"]\n"
     ]
    }
   ],
   "source": [
    "# 05-03 append()로 항목 리스트 생성\n",
    "goods = []\n",
    "for i in range(2):\n",
    "    item = input(\"구입할 품목은 ? {}\")\n",
    "    print(f\"구입할 품목은 ? {item}\")\n",
    "    goods.append(item)  # goods라는 리스트에 item을 추가\n",
    "    print(goods)  # 수정된 리스트goods를 출력\n",
    "    print()\n",
    "print(f\"리스트 goods의 길이 : {goods}\")"
   ]
  },
  {
   "cell_type": "code",
   "execution_count": 4,
   "metadata": {},
   "outputs": [
    {
     "name": "stdout",
     "output_type": "stream",
     "text": [
      "가위 바위 보 \n",
      "리스트의 항목 중 임의로 하나를 골라 반환하는 메소드 choice\n",
      "보\n",
      "바위\n",
      "바위\n",
      "가위\n",
      "보\n"
     ]
    }
   ],
   "source": [
    "from random import choice\n",
    "\n",
    "rsp = [\"가위\", \"바위\", \"보\"]\n",
    "for i in range(len(rsp)):\n",
    "    print(rsp[i], end=\" \")\n",
    "print()\n",
    "\n",
    "print(\"리스트의 항목 중 임의로 하나를 골라 반환하는 메소드 choice\")\n",
    "for j in range(5):\n",
    "    print(f\"{choice(rsp)}\")"
   ]
  },
  {
   "cell_type": "markdown",
   "metadata": {},
   "source": [
    "- sep=\" \" 항목과 항목 사이를 구분할 때 사용\n",
    "- end=\" \" 한 문장이 끝났을 때 사용"
   ]
  },
  {
   "cell_type": "markdown",
   "metadata": {},
   "source": [
    "- 리스트의 메소드 count()와 index()\n",
    "- 함수와 메소드 구별 잘 하기\n",
    "- 리스트 안에 있는 append"
   ]
  },
  {
   "cell_type": "code",
   "execution_count": 12,
   "metadata": {},
   "outputs": [
    {
     "name": "stdout",
     "output_type": "stream",
     "text": [
      "포유류, 조류, 어류\n",
      "\n",
      "순서대로 출력 >>\n",
      "\t['사자', '코끼리', '호랑이']\n",
      "\t조류\n",
      "\t어류\n",
      "\n",
      "기존 리스트에 bird리스트와 fish리스트를 추가한 리스트 출력\n",
      "['사자', '코끼리', '호랑이']\n",
      "['독수리', '참새', '까치']\n",
      "['갈치', '붕어', '고등어']\n",
      "\n",
      "사자, 코끼리, 호랑이, \n",
      "독수리, 참새, 까치, \n",
      "갈치, 붕어, 고등어, \n",
      "\n"
     ]
    }
   ],
   "source": [
    "# 0925\n",
    "# 항목별로 리스트로 처리, 리스트에서 사용하는 슬라이싱 주의하기\n",
    "animal = [[\"사자\", \"코끼리\", \"호랑이\"], \"조류\", \"어류\"]\n",
    "print(f\"포유류, {animal[1]}, {animal[2]}\")\n",
    "print()\n",
    "\n",
    "print(\"순서대로 출력 >>\")\n",
    "for s in animal:\n",
    "    print(f\"\\t{s}\")\n",
    "print()\n",
    "\n",
    "# 새로운 리스트 생성\n",
    "bird = [\"독수리\", \"참새\", \"까치\"]\n",
    "fish = [\"갈치\", \"붕어\", \"고등어\"]\n",
    "\n",
    "# 기존 animal 리스트에 새로운 리스트의 인자를 삽입\n",
    "animal[1:] = [bird, fish]\n",
    "print(f\"기존 리스트에 bird리스트와 fish리스트를 추가한 리스트 출력\\n{animal[0]}\\n{animal[1]}\\n{animal[2]}\\n\")\n",
    "\n",
    "for list in animal:\n",
    "    for kind in list:\n",
    "        print(f'{kind},', end=\" \")\n",
    "    print()   \n",
    "print()"
   ]
  },
  {
   "cell_type": "markdown",
   "metadata": {},
   "source": [
    "- 리스트의 항목 삽입과 삭제\n",
    "- 아래는 리스트 예제이다\n",
    "`0927`"
   ]
  },
  {
   "cell_type": "code",
   "execution_count": 14,
   "metadata": {},
   "outputs": [
    {
     "name": "stdout",
     "output_type": "stream",
     "text": [
      "***초기 item 리스트 출력***\n",
      "--> ['연필', '볼펜']\n",
      "\n",
      "\n",
      "************현재 데이터 확인************\n",
      "--> ['연필', 2, '볼펜', 3, '지우개', 1]\n",
      "\n",
      "\n",
      "*************첨자 2 삭제**************\n",
      "--> 2 ['연필', '볼펜', 3, '지우개', 1]\n",
      "\n",
      "\n",
      "*********마지막 항목 삭제**********\n",
      "--> 1 ['연필', '볼펜', 3, '지우개']\n",
      "\n",
      "\n",
      "********연필 항목 삭제*******\n",
      "--> None ['볼펜', 3, '지우개']\n",
      "\n",
      "\n",
      "***문장 del로 세번째 항목부터 마지막 항목 삭제***\n",
      "--> ['볼펜', 3]\n",
      "\n",
      "\n",
      "****수정된 item 리스트 출력****\n",
      "--> ['볼펜', 3]\n"
     ]
    }
   ],
   "source": [
    "item = [\"연필\", \"볼펜\"]\n",
    "\n",
    "# 현재 item 리스트 출력\n",
    "print(\"초기 item 리스트 출력\".center(20, \"*\"))\n",
    "print(f\"--> {item}\\n\\n\")\n",
    "\n",
    "# insert(인덱스 번호, 삽입할 데이터)\n",
    "item.insert(1, 2)  # 인덱스 1번째에 정수 2를 삽입\n",
    "item.insert(3, 3)  # 인덱스 3번째에 정수 3를 삽입(기존 데이터 유지)\n",
    "\n",
    "item.insert(4, \"지우개\")  # 인덱스 4번째에 문자열 지우개를 삽입\n",
    "item.insert(5, 1)  # 인덱스 5번째에 정수 1를 삽입\n",
    "\n",
    "# 수정된 item 리스트 출력\n",
    "print(\"현재 데이터 확인\".center(33, \"*\"))\n",
    "print(f\"--> {item}\\n\\n\")\n",
    "\n",
    "# 데이터 삭제 ;리스트 메소드 remove(항목)과 pop(첨자), pop()로 항목 삭제\n",
    "# 리스트 메소드 pop(첨자)로 항목 삭제\n",
    "print(\"첨자 2 삭제\".center(34, \"*\"))\n",
    "print(f\"--> {item.pop(1)} {item}\\n\\n\")\n",
    "\n",
    "# 리스트 메소드 pop()로 마지막 항목 삭제\n",
    "# item.pop(1)은 삭제된 것을 반환하므로 print()로 삭제된 내용을 출력할 수 있다\n",
    "print(\"마지막 항목 삭제\".center(28, \"*\"))\n",
    "print(f\"--> {item.pop()} {item}\\n\\n\")\n",
    "\n",
    "# 리스트 메소드 remove(항목)로 항목 삭제\n",
    "print(\"연필 항목 삭제\".center(23, \"*\"))\n",
    "print(f\"--> {item.remove('연필')} {item}\\n\\n\")\n",
    "\n",
    "# 문장 del에 의한 항목이나 변수의 삭제\n",
    "print(\"문장 del로 세번째 항목부터 마지막 항목 삭제\".center(32, \"*\"))\n",
    "del item[2:]\n",
    "print(f\"--> {item}\\n\\n\")\n",
    "\n",
    "# 수정된 item 리스트 출력\n",
    "print(\"수정된 item 리스트 출력\".center(23, \"*\"))\n",
    "print(f\"--> {item}\")"
   ]
  },
  {
   "cell_type": "markdown",
   "metadata": {},
   "source": [
    "* [파이썬 리스트 원본 유지 복사 및 정렬 방법(sort, sorted, deep copy)] https://1coding.tistory.com/79"
   ]
  },
  {
   "cell_type": "markdown",
   "metadata": {},
   "source": [
    "1. sort()\n",
    "    * 특정 리스트를 정렬해줌 **(반환값 없음)**\n",
    "\n",
    "2. sorted()\n",
    "    * 기존의 리스트를 변경시키지 않고 정렬된 리스트를 새롭게 얻고 싶을 때 사용\n",
    "    * --> 정렬과 동시에 deep copy도 이루어지기 때문에 원본 데이터에 영향을 안 준다\n",
    "\n",
    "3. **(변경되는)** mutable 의 객체로 `list, set, dictionary`, \n",
    "   **(변경되지 않는)** immutable 객체로 `int, float, tuple, str, bool`\n",
    "* [파이썬 mutable객체와 immutable객체] https://blockdmask.tistory.com/570\n",
    "* 리스트가 mutable 원본배열의 값이 바뀌어버린 것"
   ]
  },
  {
   "cell_type": "code",
   "execution_count": 19,
   "metadata": {},
   "outputs": [
    {
     "name": "stdout",
     "output_type": "stream",
     "text": [
      "현재 word의 타입         --> <class 'list'>\n",
      "현재 word 리스트를 출력  --> ['삶꿈정', '복', '빛']\n",
      "sort()로 정렬한 결과     --> ['복', '빛', '삶꿈정']\n",
      "\n",
      "\n",
      "현재 fruit 리스트를 출력 --> ['복숭아', '자두', '골드키위', '귤']\n",
      "역순으로 정렬한 fruit    --> ['자두', '복숭아', '귤', '골드키위']\n",
      "\n",
      "\n",
      "현재 mix 리스트를 출력   --> ['복', '빛', '삶꿈정', '자두', '복숭아', '귤', '골드키위']\n",
      "sorted()로 정렬한 결과   --> ['골드키위', '귤', '복', '복숭아', '빛', '삶꿈정', '자두']\n",
      "역순으로 정렬한 mix      --> ['자두', '삶꿈정', '빛', '복숭아', '복', '귤', '골드키위']\n",
      "mix 리스트를 출력        --> ['복', '빛', '삶꿈정', '자두', '복숭아', '귤', '골드키위']\n"
     ]
    }
   ],
   "source": [
    "word = [\"삶꿈정\"]\n",
    "print(f\"현재 word의 타입         --> {type(word)}\")\n",
    "word.extend(\"복빛\")\n",
    "print(f\"현재 word 리스트를 출력  --> {word}\")\n",
    "# objrct(를 이해해야 함.) ;속성과 메소드로 구성.\n",
    "# list가 갖는 sort()라는 메소드가 존재\n",
    "# sort()는 리스트 항목의 순서를 오름차순 정렬\n",
    "word.sort()\n",
    "print(f\"sort()로 정렬한 결과     --> {word}\")\n",
    "print(\"\\n\")\n",
    "\n",
    "\n",
    "fruit = [\"복숭아\", \"자두\", \"골드키위\", \"귤\"]\n",
    "print(f\"현재 fruit 리스트를 출력 --> {fruit}\")\n",
    "\n",
    "# 리스트 fruit 자체를 역순으로 정렬\n",
    "fruit.sort(reverse=True)\n",
    "print(f\"역순으로 정렬한 fruit    --> {fruit}\")\n",
    "print(\"\\n\")\n",
    "\n",
    "\n",
    "# 리스트를 연결하는 + 연산자\n",
    "mix = word + fruit\n",
    "print(f\"현재 mix 리스트를 출력   --> {mix}\")\n",
    "# sorted()는 리스트 항목의 순서를 오름차순 정렬한 새로운 리스트를 반환\n",
    "# 원래의 리스트 자체는 변화하지 않는다\n",
    "print(f\"sorted()로 정렬한 결과   --> {sorted(mix)}\")\n",
    "\n",
    "# 역순인 내림차순으로 정렬된 리스트를 반환, 없으면 0을 반환\n",
    "print(f\"역순으로 정렬한 mix      --> {sorted(mix, reverse=True)}\")\n",
    "\n",
    "# 초기 mix 리스트와 sorted()로 정렬 이후 mix 리스트는 동일\n",
    "print(f\"mix 리스트를 출력        --> {mix}\")"
   ]
  },
  {
   "cell_type": "code",
   "execution_count": 20,
   "metadata": {},
   "outputs": [
    {
     "name": "stdout",
     "output_type": "stream",
     "text": [
      "2 ~ 10 사이의 짝수를 출력       --> [2, 4, 6, 8, 10]\n",
      "0 ~ 10 사이의 정수를 출력       --> [0, 1, 2, 3, 4, 5, 6, 7, 8, 9, 10]\n",
      "0 ~ 10 사이의 정수를 출력       --> [0, 1, 2, 3, 4, 5, 6, 7, 8, 9, 10]\n",
      "0 ~ 9 사이 홀수의 제곱을 출력   --> [1, 9, 25, 49, 81]\n",
      "0 ~ 9 사이 홀수의 제곱을 출력   --> [1, 9, 25, 49, 81]\n"
     ]
    }
   ],
   "source": [
    "# 0927\n",
    "# 컴프리헨션으로 리스트 생성\n",
    "even = [i for i in range(2, 11, 2)]\n",
    "print(f\"2 ~ 10 사이의 짝수를 출력       --> {even}\")\n",
    "\n",
    "# for문으로 리스트 생성\n",
    "a = []\n",
    "for i in range(11):\n",
    "    a.append(i)\n",
    "print(f\"0 ~ 10 사이의 정수를 출력       --> {a}\")\n",
    "\n",
    "# 컴프리헨션으로 리스트 생성\n",
    "seq = [i for i in range(11)]\n",
    "print(f\"0 ~ 10 사이의 정수를 출력       --> {seq}\")\n",
    "\n",
    "# for문으로 리스트 생성\n",
    "s = []\n",
    "for i in range(11):\n",
    "    if i % 2 == 1:\n",
    "        s.append(i**2)\n",
    "print(f\"0 ~ 9 사이 홀수의 제곱을 출력   --> {s}\")\n",
    "\n",
    "# 컴프리헨션으로 리스트 생성\n",
    "squares = [i**2 for i in range(11) if i % 2 == 1]\n",
    "print(f\"0 ~ 9 사이 홀수의 제곱을 출력   --> {squares}\")"
   ]
  },
  {
   "cell_type": "code",
   "execution_count": 1,
   "metadata": {},
   "outputs": [
    {
     "name": "stdout",
     "output_type": "stream",
     "text": [
      "초기 singer 튜플 출력 -->('BTS', '볼빨간사춘기', 'BTS', '블랙핑크', '태연')\n",
      "초기 song   튜플 출력 --> ('작은 것들을 위한 시', '나만, 봄', '소우주', 'Kill This Love', '사계')\n",
      "\n",
      "singer.count : 2\n",
      "singer.index : 1\n",
      "singer.index : 0\n",
      "\n",
      "singer: BTS, \t\tsong: 작은 것들을 위한 시\n",
      "singer: 볼빨간사춘기, \t\tsong: 나만, 봄\n",
      "singer: BTS, \t\tsong: 소우주\n",
      "singer: 블랙핑크, \t\tsong: Kill This Love\n",
      "singer: 태연, \t\tsong: 사계\n"
     ]
    }
   ],
   "source": [
    "# 튜플 항목 참조와 출력\n",
    "singer = (\"BTS\", \"볼빨간사춘기\", \"BTS\", \"블랙핑크\", \"태연\")\n",
    "song = (\"작은 것들을 위한 시\", \"나만, 봄\", \"소우주\", \"Kill This Love\", \"사계\")\n",
    "print(f\"초기 singer 튜플 출력 -->{singer}\".format())\n",
    "print(f\"초기 song   튜플 출력 --> {song}\".format())\n",
    "print()\n",
    "print(f\"singer.count : {singer.count('BTS')}\")\n",
    "print(f\"singer.index : {singer.index('볼빨간사춘기')}\")\n",
    "print(f\"singer.index : {singer.index('BTS')}\")\n",
    "print()\n",
    "\n",
    "for _ in range(len(singer)):\n",
    "    print(f\"singer: {singer[_]}, \\t\\tsong: {song[_]}\")"
   ]
  },
  {
   "cell_type": "code",
   "execution_count": 7,
   "metadata": {},
   "outputs": [
    {
     "name": "stdout",
     "output_type": "stream",
     "text": [
      "('monday', 'tuesday', 'wednesday', 'thursday', 'friday', 'saturday', 'sunday')\n"
     ]
    },
    {
     "data": {
      "text/plain": [
       "tuple"
      ]
     },
     "execution_count": 7,
     "metadata": {},
     "output_type": "execute_result"
    }
   ],
   "source": [
    "day1 = 'monday', 'tuesday', 'wednesday'\n",
    "day2 = 'thursday', 'friday', 'saturday'\n",
    "day3 = ('sunday',)\n",
    "day = day1 + day2 + day3\n",
    "print(day)\n",
    "type(day)"
   ]
  },
  {
   "cell_type": "code",
   "execution_count": 22,
   "metadata": {},
   "outputs": [
    {
     "name": "stdout",
     "output_type": "stream",
     "text": [
      "수정된 리스트 출력            --> ['축구', '야구', '농구', '배구', 11, 9, 5, 6]\n",
      "\n",
      "\n",
      "수정된 리스트 출력            --> ['축구', '야구', '농구', '배구']\n",
      "\n",
      "\n",
      "인덱스 1에 11를 삽입한 결과   --> ['축구', 11, '야구', '농구', '배구']\n",
      "\n",
      "인덱스 3에 9를 삽입한 결과   --> ['축구', 11, '야구', 9, '농구', '배구']\n",
      "\n",
      "인덱스 5에 5를 삽입한 결과   --> ['축구', 11, '야구', 9, '농구', 5, '배구']\n",
      "\n",
      "인덱스 7에 6를 삽입한 결과   --> ['축구', 11, '야구', 9, '농구', 5, '배구', 6]\n",
      "\n",
      "종목과 팀원 수를 출력한 결과  --> [['축구', 11], ['야구', 9], ['농구', 5], ['배구', 6]]\n",
      "\n",
      "\n",
      "*****실행 결과*****\n",
      "축구: 11명 야구: 9명 농구: 5명 배구: 6명\n"
     ]
    }
   ],
   "source": [
    "# 프로젝트 Lab 1\n",
    "# 실행 결과\n",
    "# :축구: 11명 야구: 9명 농구: 5명 배구: 6명\n",
    "sports = [\"축구\", \"야구\", \"농구\", \"배구\"]\n",
    "num = [11, 9, 5, 6]\n",
    "\n",
    "# 리스트에 리스트를 추가하는 메소드 extend()\n",
    "sports.extend(num)\n",
    "print(f\"수정된 리스트 출력            --> {sports}\")\n",
    "print(\"\\n\")\n",
    "\n",
    "# 문장 del에 의한 항목이나 변수의 삭제\n",
    "del sports[4:]\n",
    "print(f\"수정된 리스트 출력            --> {sports}\")\n",
    "print(\"\\n\")\n",
    "\n",
    "sports.insert(1, 11)\n",
    "print(f\"인덱스 {1}에 {11}를 삽입한 결과   --> {sports}\")\n",
    "print()\n",
    "sports.insert(3, 9)\n",
    "print(f\"인덱스 {3}에 {9}를 삽입한 결과   --> {sports}\")\n",
    "print()\n",
    "sports.insert(5, 5)\n",
    "print(f\"인덱스 {5}에 {5}를 삽입한 결과   --> {sports}\")\n",
    "print()\n",
    "sports.insert(7, 6)\n",
    "print(f\"인덱스 {7}에 {6}를 삽입한 결과   --> {sports}\")\n",
    "print()\n",
    "\n",
    "print(f\"종목과 팀원 수를 출력한 결과  --> [{sports[0:2]}, {sports[2:4]}, {sports[4:6]}, {sports[6:8]}]\")\n",
    "print(\"\\n\")\n",
    "\n",
    "print(\"실행 결과\".center(15, \"*\"))\n",
    "print(f\"축구: {sports[1]}명 야구: {sports[3]}명 농구: {sports[5]}명 배구: {sports[7]}명\")"
   ]
  },
  {
   "cell_type": "code",
   "execution_count": 26,
   "metadata": {},
   "outputs": [
    {
     "name": "stdout",
     "output_type": "stream",
     "text": [
      "['축구', '야구', '농구', '배구']\n",
      "[11, 9, 5, 6]\n",
      "축구: 11명  야구: 9명  농구: 5명  배구: 6명  \n",
      "\n",
      "[['축구', '야구', '농구', '배구'], [11, 9, 5, 6]]\n",
      "축구: 11명  야구: 9명  농구: 5명  배구: 6명  \n",
      "\n",
      "[['축구', 11], ['야구', 9], ['농구', 5], ['배구', 6]]\n",
      "축구: 11명  야구: 9명  농구: 5명  배구: 6명  \n"
     ]
    }
   ],
   "source": [
    "sports = [\"축구\", \"야구\", \"농구\", \"배구\"]\n",
    "# 위 종목에 대응하는 팀원 수를 항목으로 구성\n",
    "num = [11, 9, 5, 6]\n",
    "print(sports)\n",
    "print(num)\n",
    "# 위 두 리스트로 출력\n",
    "for i in range(len(sports)):\n",
    "    print(f\"{sports[i]}: {num[i]}명 \", end=\" \")\n",
    "print()\n",
    "print()\n",
    "\n",
    "# 2차원 리스트로 생성\n",
    "sponum = [sports, num]\n",
    "print(sponum)\n",
    "for i in range(len(sponum[0])):\n",
    "    print(f\"{sponum[0][i]}: {sponum[1][i]}명 \", end=\" \")\n",
    "print()\n",
    "print()\n",
    "\n",
    "# 다른 구조의 2차원 리스트 생성을 컴프리헨션으로 처리\n",
    "psponum = [[sports[i], num[i]] for i in range(len(sports))]\n",
    "print(psponum)\n",
    "# 위 리스트를 출력\n",
    "for one in psponum:\n",
    "    print(f\"{one[0]}: {one[1]}명 \", end=\" \")\n",
    "print()"
   ]
  },
  {
   "cell_type": "code",
   "execution_count": 28,
   "metadata": {},
   "outputs": [
    {
     "name": "stdout",
     "output_type": "stream",
     "text": [
      "주문할 콤보 번호와 수량을 계속 입력하세요!\n",
      "\t 0 주문종료\n",
      "\t 1 올인원팩  6000 원\n",
      "\t 2 투게더팩  7000 원\n",
      "\t 3 트리오팩  8000 원\n",
      "\t 4 패밀리팩 10000 원\n",
      ">> \n",
      "투게더팩, 2개 주문\n",
      "투게더팩 주문 가격 14000, 총 가격 14000\n",
      "\n",
      "패밀리팩, 2개 주문\n",
      "패밀리팩 주문 가격 20000, 총 가격 34000\n",
      "\n",
      "****** 주문 종료 *******\n",
      "총 주문 가격 34000 원\n",
      "주문을 마치겠습니다.\n",
      "======= 안녕! ========\n"
     ]
    }
   ],
   "source": [
    "# 프로젝트 Lab 2\n",
    "# 실행결과\n",
    "# :총 주문가격 출력\n",
    "menu = (\"주문종료\", \"올인원팩\", \"투게더팩\", \"트리오팩\", \"패밀리팩\")\n",
    "price = (0, 6000, 7000, 8000, 10000)\n",
    "\n",
    "# 주문에 필요한 메시지 만들기\n",
    "msg = \"주문할 콤보 번호와 수량을 계속 입력하세요!\"\n",
    "for i in range(len(menu)):\n",
    "    msg += \"\\n\\t %d %s\" % (i, menu[i])\n",
    "    if i != 0:\n",
    "        msg += \" %5d 원\" % (price[i])\n",
    "msg += \"\\n>> \"\n",
    "\n",
    "print(msg)\n",
    "\n",
    "more = True\n",
    "total = 0\n",
    "while more:\n",
    "    instr = input(msg)\n",
    "    if instr.count(\" \") > 0:\n",
    "        order, cnt = instr.split()\n",
    "        cnt = int(cnt)\n",
    "    else:\n",
    "        order = instr\n",
    "    order = int(order)\n",
    "    if order == 0:\n",
    "        print(\" 주문 종료 \".center(20, \"*\"))\n",
    "        more = False\n",
    "    elif 1 <= order <= 4:\n",
    "        print(f\"{menu[order]}, {cnt}개 주문\")\n",
    "        sub = price[order] * cnt\n",
    "        total += sub\n",
    "        print(f\"{menu[order]} 주문 가격 {sub}, 총 가격 {total}\")\n",
    "        print()\n",
    "    else:\n",
    "        print(\"모르겠어요. 다시 주문하세요!\")\n",
    "\n",
    "else:\n",
    "    print(f\"총 주문 가격 {total} 원\")\n",
    "    print(\"주문을 마치겠습니다.\")\n",
    "    print(\" 안녕! \".center(20, \"=\"))"
   ]
  }
 ],
 "metadata": {
  "kernelspec": {
   "display_name": "Python 3",
   "language": "python",
   "name": "python3"
  },
  "language_info": {
   "codemirror_mode": {
    "name": "ipython",
    "version": 3
   },
   "file_extension": ".py",
   "mimetype": "text/x-python",
   "name": "python",
   "nbconvert_exporter": "python",
   "pygments_lexer": "ipython3",
   "version": "3.10.5"
  },
  "orig_nbformat": 4
 },
 "nbformat": 4,
 "nbformat_minor": 2
}
