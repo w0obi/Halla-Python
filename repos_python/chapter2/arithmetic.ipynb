{
 "cells": [
  {
   "cell_type": "markdown",
   "metadata": {},
   "source": [
    "[파이썬 라이브러리] https://www.youtube.com/watch?v=eJ7kqK18afY&t=325s"
   ]
  },
  {
   "cell_type": "code",
   "execution_count": 1,
   "metadata": {},
   "outputs": [
    {
     "data": {
      "text/plain": [
       "'주석으로 사용가능'"
      ]
     },
     "execution_count": 1,
     "metadata": {},
     "output_type": "execute_result"
    }
   ],
   "source": [
    "# 문법과 사용없는 주석\n",
    "\n",
    "# print()는 콘솔에 자료를 출력하는 함수\n",
    "'''주석으로 사용가능'''\n",
    "# 삼중 따옴표는 문자열이므로 대화형 모드에서는 출력에도 표시된다.\n",
    "# 엄밀히 말해 삼중 따옴표는 주석이 아니며 단지 여러 줄 주석에 이용할 수 있는 것임!"
   ]
  },
  {
   "cell_type": "code",
   "execution_count": 1,
   "metadata": {},
   "outputs": [
    {
     "data": {
      "text/plain": [
       "10.5"
      ]
     },
     "execution_count": 1,
     "metadata": {},
     "output_type": "execute_result"
    }
   ],
   "source": [
    "# 표현식 문자열 실행 함수 eval('expression')\n",
    "# 실행 가능한 연산식 문자열인 expression를 실행한 결과를 반환\n",
    "eval('3 + 15 / 2')"
   ]
  },
  {
   "cell_type": "code",
   "execution_count": 15,
   "metadata": {},
   "outputs": [
    {
     "name": "stdout",
     "output_type": "stream",
     "text": [
      "type(3) >> \t<class 'int'>\n",
      "type(3 + 4j) >> <class 'complex'>\n"
     ]
    }
   ],
   "source": [
    "a = type(3)\n",
    "b = type(3 + 4j)\n",
    "print('type(3) >> \\t{}\\ntype(3 + 4j) >> {}'.format(a, b))"
   ]
  },
  {
   "cell_type": "code",
   "execution_count": 17,
   "metadata": {},
   "outputs": [
    {
     "name": "stdout",
     "output_type": "stream",
     "text": [
      "2 0\n"
     ]
    }
   ],
   "source": [
    "a, b = 20, 10\n",
    "n, m = divmod(a, b)\n",
    "print(n, m)"
   ]
  },
  {
   "cell_type": "code",
   "execution_count": 25,
   "metadata": {},
   "outputs": [
    {
     "name": "stdout",
     "output_type": "stream",
     "text": [
      "30\n"
     ]
    }
   ],
   "source": [
    "# input()으로 입력을 받으면 문자열로 취급하기 때문에\n",
    "# 더하기 연산을 하려면 변환 작업 필요.\n",
    "\n",
    "# a, b = float(input()) # 입력과 동시에 실수형으로 변환\n",
    "# a = input() # 입력을 받고\n",
    "# float(a)    # 실수형으로 변환\n",
    "# b = input()\n",
    "# float(b)\n",
    "\n",
    "# print(a+b)\n",
    "# print(a-b)\n",
    "# print(a*b)\n",
    "# print(a/b)\n",
    "\n",
    "# a, b = 10, 20 # 새로운 값을 할당\n",
    "# # 실행 가능한 연산식 문자열을 실행한 결과를 반환\n",
    "# result = eval('a + b') \n",
    "# print(result) # 출력"
   ]
  },
  {
   "cell_type": "markdown",
   "metadata": {},
   "source": [
    "표준 입력으로 2개의 실수를 입력받아 더하기, 빼기, 곱하기, 나누기의 연산을 출력한다.\n",
    "이후 다시 표준 입력으로 하나의 연산식을 한 줄에 입력받아 그 결과를 출력하는 프로그램"
   ]
  },
  {
   "cell_type": "code",
   "execution_count": 11,
   "metadata": {},
   "outputs": [
    {
     "name": "stdout",
     "output_type": "stream",
     "text": [
      "add: 12.5\n",
      "subtract: 7.5\n",
      "multiply: 25.0\n",
      "divide: 4.0\n",
      "operation formula: 3 * 4 / 2, result: 6.0\n"
     ]
    }
   ],
   "source": [
    "n1, n2 = input(\"Please enter in number >> \").split()\n",
    "n1, n2= float(n1), float(n2)\n",
    "n2 = float(n2)\n",
    "print(f\"add: {n1+n2}\\nsubtract: {n1-n2}\\nmultiply: {n1*n2}\\ndivide: {n1/n2}\")\n",
    "expression = input(\"Please enter in operation formula(e.g. 3.2 + 4 * 1.5) >> {}\")\n",
    "print(f\"operation formula: {expression}, result: {eval(expression)}\")"
   ]
  },
  {
   "cell_type": "markdown",
   "metadata": {},
   "source": [
    "가장 먼저 변환할 수 (2진수, 8진수, 10진수, 16진수 중) 입력받음\n",
    "표준 입력한 수의 2진수, 8진수, 10진수, 16진수를 출력"
   ]
  },
  {
   "cell_type": "code",
   "execution_count": 2,
   "metadata": {},
   "outputs": [
    {
     "name": "stdout",
     "output_type": "stream",
     "text": [
      "입력할 정수의 진수(firstConvertor)는 ? 16\n",
      "2진수 0b11111\n",
      "8진수 0o37\n",
      "10진수 31\n",
      "16진수 0x1f\n"
     ]
    }
   ],
   "source": [
    "fC = int(input(\"입력할 정수의 진수(firstConvertor)는 ?\"))\n",
    "print(f\"입력할 정수의 진수(firstConvertor)는 ? {fC}\")\n",
    "# e.g. 10(10) --> 1010(2)\n",
    "iIn = input(str(fC) + '진수 수 입력 ')\n",
    "data = int(iIn, fC)\n",
    "\n",
    "print(f'2진수 {bin(data)}')\n",
    "print(f'8진수 {oct(data)}')\n",
    "print(f'10진수 {data}')\n",
    "print(f'16진수 {hex(data)}')"
   ]
  },
  {
   "cell_type": "markdown",
   "metadata": {},
   "source": [
    "# 2진수로 변환하는 코드\n",
    "\n",
    "* b = -1\n",
    "* mok = num / 2\n",
    "* nmg = num - mok * 2\n",
    "* a[b] = nmg\n",
    "* num = mok\n",
    "* mok이 0보다 같거나 작으면 반복문 종료\n",
    "\n",
    "[마크다운 사용법]\n",
    "https://gist.github.com/ihoneymon/652be052a0727ad59601\n",
    "\n",
    "<pre>\n",
    "<code>\n",
    "for i in range(b):  \n",
    "    print(f\"[{a[i]}]\", end=' ')\n",
    "<code>\n",
    "<pre>\n",
    "        "
   ]
  },
  {
   "cell_type": "code",
   "execution_count": 2,
   "metadata": {},
   "outputs": [
    {
     "data": {
      "text/plain": [
       "[0, 1, 2, 3]"
      ]
     },
     "execution_count": 2,
     "metadata": {},
     "output_type": "execute_result"
    }
   ],
   "source": [
    "lS = [0, 1, 2, 3]\n",
    "b = 4\n",
    "list(range(b))"
   ]
  },
  {
   "cell_type": "code",
   "execution_count": 6,
   "metadata": {},
   "outputs": [
    {
     "name": "stdout",
     "output_type": "stream",
     "text": [
      "[1] [2] [3] [4] "
     ]
    }
   ],
   "source": [
    "a = [1, 2, 3, 4]\n",
    "# b = 4\n",
    "for i in 0, 1, 2, 3:\n",
    "# for i in range(b):\n",
    "    print(f\"[{a[i]}]\", end=' ')"
   ]
  }
 ],
 "metadata": {
  "kernelspec": {
   "display_name": "Python 3",
   "language": "python",
   "name": "python3"
  },
  "language_info": {
   "codemirror_mode": {
    "name": "ipython",
    "version": 3
   },
   "file_extension": ".py",
   "mimetype": "text/x-python",
   "name": "python",
   "nbconvert_exporter": "python",
   "pygments_lexer": "ipython3",
   "version": "3.10.5"
  },
  "orig_nbformat": 4
 },
 "nbformat": 4,
 "nbformat_minor": 2
}
