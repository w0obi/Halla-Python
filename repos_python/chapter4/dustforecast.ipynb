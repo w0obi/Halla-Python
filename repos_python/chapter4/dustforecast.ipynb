{
 "cells": [
  {
   "cell_type": "code",
   "execution_count": null,
   "metadata": {},
   "outputs": [],
   "source": [
    "while True:\n",
    "    PM2dot5 = float(input('The concentration(10µg) of fine dust?'))\n",
    "\n",
    "    if 301 < PM2dot5:\n",
    "        print(f'The concentration of fine dust: {PM2dot5:.2f},     grade: Hazardous')\n",
    "    elif 201 <= PM2dot5:\n",
    "        print(f'The concentration of fine dust: {PM2dot5:.2f},     grade: Very Unhealthy')\n",
    "    elif 151 <= PM2dot5:\n",
    "        print(f'The concentration of fine dust: {PM2dot5:.2f},     grade: Unhealthy')\n",
    "    elif 101 <= PM2dot5:\n",
    "        print(f'The concentration of fine dust: {PM2dot5:.2f},     grade: Unhealthy for Sensitive Groups')\n",
    "    elif 51 <= PM2dot5:\n",
    "        print(f'The concentration of fine dust: {PM2dot5:.2f},     grade: Moderate')\n",
    "    else:\n",
    "        print(f'The concentration of fine dust: {PM2dot5:.2f},     grade: Good')"
   ]
  },
  {
   "cell_type": "markdown",
   "metadata": {},
   "source": [
    "- [파이썬 mutable객체와 immutable객체] https://blockdmask.tistory.com/570\n",
    "- [파이썬 리스트와 튜플] https://teddylee777.github.io/python/python-tutorial-02/"
   ]
  },
  {
   "cell_type": "code",
   "execution_count": 1,
   "metadata": {},
   "outputs": [
    {
     "name": "stdout",
     "output_type": "stream",
     "text": [
      "\u001b[1;31mInit signature:\u001b[0m \u001b[0mlist\u001b[0m\u001b[1;33m(\u001b[0m\u001b[0miterable\u001b[0m\u001b[1;33m=\u001b[0m\u001b[1;33m(\u001b[0m\u001b[1;33m)\u001b[0m\u001b[1;33m,\u001b[0m \u001b[1;33m/\u001b[0m\u001b[1;33m)\u001b[0m\u001b[1;33m\u001b[0m\u001b[1;33m\u001b[0m\u001b[0m\n",
      "\u001b[1;31mDocstring:\u001b[0m     \n",
      "Built-in mutable sequence.\n",
      "\n",
      "If no argument is given, the constructor creates a new empty list.\n",
      "The argument must be an iterable if specified.\n",
      "\u001b[1;31mType:\u001b[0m           type\n",
      "\u001b[1;31mSubclasses:\u001b[0m     _HashedSeq, StackSummary, _Threads, ConvertingList, DeferredConfigList, _ymd, _Accumulator, DeprecatedList, SList, _ImmutableLineList, ..."
     ]
    }
   ],
   "source": [
    "?list"
   ]
  },
  {
   "cell_type": "code",
   "execution_count": 1,
   "metadata": {},
   "outputs": [
    {
     "name": "stdout",
     "output_type": "stream",
     "text": [
      "(sum)1.1 += 1.1\n",
      "(sum)3.6 += 2.5\n",
      "(sum)7.2 += 3.6\n",
      "(sum)11.4 += 4.2\n",
      "(sum)16.8 += 5.4\n",
      "\n",
      "sum: 16.80,\taverage: 3.36\n"
     ]
    }
   ],
   "source": [
    "sum = 0\n",
    "for i in 1.1, 2.5, 3.6, 4.2, 5.4:\n",
    "    sum += i\n",
    "    print(f'(sum){sum:.1f} += {i}')\n",
    "else:\n",
    "    print(f'\\nsum: {sum:.2f},\\taverage: {sum/5:.2f}')\n",
    "# for else문을 구분해주는 이유? -->1.visibility(가시성) 2.readability(가독성)"
   ]
  },
  {
   "cell_type": "markdown",
   "metadata": {},
   "source": [
    "```print() 인자 중에 end는 반복적으로 수행.```"
   ]
  },
  {
   "cell_type": "code",
   "execution_count": 3,
   "metadata": {},
   "outputs": [
    {
     "name": "stdout",
     "output_type": "stream",
     "text": [
      "55\n"
     ]
    }
   ],
   "source": [
    "sum = 0\n",
    "for i in range(1, 11):\n",
    "    sum += i\n",
    "print(sum)"
   ]
  },
  {
   "cell_type": "code",
   "execution_count": 47,
   "metadata": {},
   "outputs": [
    {
     "name": "stdout",
     "output_type": "stream",
     "text": [
      "98\n"
     ]
    }
   ],
   "source": [
    "from random import randint\n",
    "\n",
    "r = randint(1, 100)\n",
    "print(r)"
   ]
  },
  {
   "cell_type": "code",
   "execution_count": 63,
   "metadata": {},
   "outputs": [
    {
     "name": "stdout",
     "output_type": "stream",
     "text": [
      "0.5714025946899135\n"
     ]
    }
   ],
   "source": [
    "import random\n",
    "\n",
    "random.seed(10)\n",
    "print(random.random())"
   ]
  },
  {
   "cell_type": "code",
   "execution_count": 4,
   "metadata": {},
   "outputs": [
    {
     "name": "stdout",
     "output_type": "stream",
     "text": [
      "7\n",
      "*************************result************************\n",
      "17 27 37 47 57 67 70 71 72 73 74 75 76 77 78 79 87 97 "
     ]
    }
   ],
   "source": [
    "n = input(\"Single-digit input in decimal numbers >> \")\n",
    "print(f'{n}')\n",
    "print('result'.center(55, '*'))\n",
    "\n",
    "for i in range(10, 100):\n",
    "    snum = str(i)\n",
    "    if n in snum:\n",
    "        print(f'{i}', end=' ')"
   ]
  },
  {
   "cell_type": "code",
   "execution_count": 6,
   "metadata": {},
   "outputs": [
    {
     "name": "stdout",
     "output_type": "stream",
     "text": [
      "enter. 1myeng\n",
      "enter. 2myeng\n",
      "enter. 3myeng\n",
      "enter. 4myeng\n",
      "\n",
      "4myeng all full.\n",
      "next to use.\n"
     ]
    }
   ],
   "source": [
    "MAXNUM = 4\n",
    "MAXHEIGHT = 130\n",
    "\n",
    "more = True\n",
    "cnt = 0\n",
    "while more:\n",
    "    height = float(input(\"height ?\"))\n",
    "    if height < MAXHEIGHT:\n",
    "        cnt += 1\n",
    "        print(f'enter. {cnt}myeng')\n",
    "    else:\n",
    "        print('no.')\n",
    "    if cnt == MAXNUM:\n",
    "        more = False\n",
    "else:\n",
    "    print(f'\\n{cnt}myeng all full.\\nnext to use.')"
   ]
  },
  {
   "cell_type": "code",
   "execution_count": 7,
   "metadata": {},
   "outputs": [
    {
     "name": "stdout",
     "output_type": "stream",
     "text": [
      "2 * 1 =  2 | 2 * 2 =  4 | 2 * 3 =  6 | 2 * 4 =  8 | 2 * 5 = 10 | 2 * 6 = 12 | 2 * 7 = 14 | 2 * 8 = 16 | 2 * 9 = 18 | \n",
      "3 * 1 =  3 | 3 * 2 =  6 | 3 * 3 =  9 | 3 * 4 = 12 | 3 * 5 = 15 | 3 * 6 = 18 | 3 * 7 = 21 | 3 * 8 = 24 | 3 * 9 = 27 | \n",
      "4 * 1 =  4 | 4 * 2 =  8 | 4 * 3 = 12 | 4 * 4 = 16 | 4 * 5 = 20 | 4 * 6 = 24 | 4 * 7 = 28 | 4 * 8 = 32 | 4 * 9 = 36 | \n",
      "5 * 1 =  5 | 5 * 2 = 10 | 5 * 3 = 15 | 5 * 4 = 20 | 5 * 5 = 25 | 5 * 6 = 30 | 5 * 7 = 35 | 5 * 8 = 40 | 5 * 9 = 45 | \n",
      "6 * 1 =  6 | 6 * 2 = 12 | 6 * 3 = 18 | 6 * 4 = 24 | 6 * 5 = 30 | 6 * 6 = 36 | 6 * 7 = 42 | 6 * 8 = 48 | 6 * 9 = 54 | \n",
      "7 * 1 =  7 | 7 * 2 = 14 | 7 * 3 = 21 | 7 * 4 = 28 | 7 * 5 = 35 | 7 * 6 = 42 | 7 * 7 = 49 | 7 * 8 = 56 | 7 * 9 = 63 | \n",
      "8 * 1 =  8 | 8 * 2 = 16 | 8 * 3 = 24 | 8 * 4 = 32 | 8 * 5 = 40 | 8 * 6 = 48 | 8 * 7 = 56 | 8 * 8 = 64 | 8 * 9 = 72 | \n",
      "9 * 1 =  9 | 9 * 2 = 18 | 9 * 3 = 27 | 9 * 4 = 36 | 9 * 5 = 45 | 9 * 6 = 54 | 9 * 7 = 63 | 9 * 8 = 72 | 9 * 9 = 81 | \n"
     ]
    }
   ],
   "source": [
    "for i in range(2, 10):\n",
    "    for j in range(1, 10):\n",
    "        print(f'{i} * {j} = {i*j:2d} |', end=' ')\n",
    "    print()"
   ]
  },
  {
   "cell_type": "markdown",
   "metadata": {},
   "source": [
    "- **(순서 있음)**\n",
    "- * tuple{} 중괄호 `중복 허용, 수정 불가`\n",
    "- * list[] 대괄호\n",
    "- **(순서 없음)** \n",
    "- * 집합 `중복 불가`\n",
    "- * dictionary() 중괄호에 콤마\n",
    "- remember--괄호의 문양으로 데이터타입 결정."
   ]
  },
  {
   "cell_type": "code",
   "execution_count": 8,
   "metadata": {},
   "outputs": [
    {
     "name": "stdout",
     "output_type": "stream",
     "text": [
      "========모의 로또 당첨 번호=========\n",
      "(11, 17, 28, 30, 33, 35)\n",
      "\n",
      "-----------내 번호 확인------------\n",
      "33 O  13 X  31 X  34 X  28 O  19 X  \n",
      "2개 맞음\n"
     ]
    }
   ],
   "source": [
    "from random import randint\n",
    "\n",
    "winnumber = 11, 17, 28, 30, 33, 35\n",
    "print(\"모의 로또 당첨 번호\".center(28, \"=\"))\n",
    "print(f\"{winnumber}\\n\")\n",
    "print(\"내 번호 확인\".center(30, \"-\"))\n",
    "cnt = 0\n",
    "\n",
    "for i in range(6):\n",
    "    n = randint(1, 45)\n",
    "    if n in winnumber:\n",
    "        print(n, \"O \", end=\" \")\n",
    "        cnt += 1\n",
    "    else:\n",
    "        print(n, \"X \", end=\" \")\n",
    "\n",
    "print(f\"\\n{cnt}개 맞음\")"
   ]
  },
  {
   "cell_type": "code",
   "execution_count": 9,
   "metadata": {},
   "outputs": [
    {
     "name": "stdout",
     "output_type": "stream",
     "text": [
      "input: monday, current!\n",
      "*************END**************\n"
     ]
    }
   ],
   "source": [
    "days = [ 'monday', 'tuesday', 'wednesday', 'thursday', 'friday', 'saturday', 'sunday' ]\n",
    "\n",
    "while True:\n",
    "    user = input('월, 화, 수, 목, 금, 토, 일\\n')\n",
    "    if user not in days:\n",
    "        print('incurrent input >> ')\n",
    "        continue\n",
    "    print(f'input: {user}, current!')\n",
    "    break\n",
    "print('END'.center(30, '*'))"
   ]
  },
  {
   "cell_type": "code",
   "execution_count": 8,
   "metadata": {},
   "outputs": [
    {
     "name": "stdout",
     "output_type": "stream",
     "text": [
      "\n",
      " 일 월 화 수 목 금 토 \n",
      "\n",
      "          1  2  3  4 \n",
      " 5  6  7  8  9 10 11 \n",
      "12 13 14 15 16 17 18 \n",
      "19 20 21 22 23 24 25 \n",
      "26 27 28 29 30 31 \n"
     ]
    }
   ],
   "source": [
    "# 주어진 조건으로 1개월 달력을 출력하는 프로그램\n",
    "dates = int(input('a month max days >> {}'))\n",
    "day = int(input('a month a one day start (day of a week) >> {}'))\n",
    "day %= 7\n",
    "\n",
    "print(f'\\n', end=' ')\n",
    "for i in '일월화수목금토':\n",
    "    print(f'{i}',end=' ')\n",
    "else:\n",
    "    print(f'\\n')\n",
    "    \n",
    "cnt = 0\n",
    "if day != 0:\n",
    "    print('   '*day,end='')\n",
    "    cnt += day\n",
    "\n",
    "for i in range(1, dates + 1):\n",
    "    print(f'{i:2d}', end=' ')\n",
    "    cnt += 1\n",
    "    if cnt % 7 == 0:\n",
    "        print()\n",
    "else:\n",
    "    print()"
   ]
  }
 ],
 "metadata": {
  "kernelspec": {
   "display_name": "Python 3",
   "language": "python",
   "name": "python3"
  },
  "language_info": {
   "codemirror_mode": {
    "name": "ipython",
    "version": 3
   },
   "file_extension": ".py",
   "mimetype": "text/x-python",
   "name": "python",
   "nbconvert_exporter": "python",
   "pygments_lexer": "ipython3",
   "version": "3.10.5"
  },
  "orig_nbformat": 4
 },
 "nbformat": 4,
 "nbformat_minor": 2
}
