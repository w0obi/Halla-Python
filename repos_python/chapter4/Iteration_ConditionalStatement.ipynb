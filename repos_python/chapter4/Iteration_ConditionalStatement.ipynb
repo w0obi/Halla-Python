{
 "cells": [
  {
   "cell_type": "code",
   "execution_count": 1,
   "metadata": {},
   "outputs": [
    {
     "name": "stdout",
     "output_type": "stream",
     "text": [
      "월 입력 ? 3\n",
      "3월 겨울\n"
     ]
    }
   ],
   "source": [
    "# 1. 다음을 참고해 월을 표준 입력으로 받아 계절을 입력하는 프로그램\n",
    "# 봄: 4, 5월, 여름: 6, 7, 8월, 가을: 9, 10, 11월, 겨울: 12, 1, 2, 3월\n",
    "\n",
    "month = int(input('월 입력 ? %d'))\n",
    "print(f'월 입력 ? {month}')\n",
    "\n",
    "if month == 4 or month == 5:\n",
    "    print(f'{month}월 봄')\n",
    "elif month == 6 or month == 7 or month == 8:\n",
    "    print(f'{month}월 여름')\n",
    "elif month == 9 or month == 10 or month == 11:\n",
    "    print(f'{month}월 가을')\n",
    "else:\n",
    "    print(f'{month}월 겨울')\n",
    "# 컴퓨터공학과_202121027_김현정_파이썬(월7수56)_4장문제풀이"
   ]
  },
  {
   "cell_type": "code",
   "execution_count": 25,
   "metadata": {},
   "outputs": [
    {
     "name": "stdout",
     "output_type": "stream",
     "text": [
      "근로 시간 46시간, 주급 588000\n",
      "근로 시간 36시간, 주급 432000\n",
      "근로 시간 50시간, 주급 660000\n",
      "근로 시간 39시간, 주급 468000\n",
      "근로 시간 41시간, 주급 498000\n"
     ]
    }
   ],
   "source": [
    "# 2. 근로 시급이 12,000원이고, 일주일에 40시간 이상 근무하면 시급의 1.5배의 급여를 준다고 한다.\n",
    "#    일주일 근로 시간을 35~50 시간 사이에서 임의의 난수로 정하고, 주급을 계산해 출력하는 프로그램\n",
    "# 반복으로 5회의 근로 시작에 대해 출력\n",
    "\n",
    "from random import randint\n",
    "\n",
    "for i in range(5):\n",
    "    work = randint(35, 50)\n",
    "    if work >= 40:\n",
    "        print(f\"근로 시간 {work}시간, 주급 {int((40*12000)+((work-40)*12000*1.5)):6d}\")\n",
    "    else:\n",
    "        print(f\"근로 시간 {work}시간, 주급 {(work*12000)}\")\n",
    "# 컴퓨터공학과_202121027_김현정_파이썬(월7수56)_4장문제풀이"
   ]
  },
  {
   "cell_type": "code",
   "execution_count": 27,
   "metadata": {},
   "outputs": [
    {
     "name": "stdout",
     "output_type": "stream",
     "text": [
      "91 75 86 중에서 최대: 91\n"
     ]
    }
   ],
   "source": [
    "# 3. 다음을 참고해 1에서 99까지의 난수인 임의의 \n",
    "#    정수 3개를 대상으로 가장 큰 정수를 출력하는 프로그램\n",
    "from random import randint\n",
    "\n",
    "for i in range(1):\n",
    "    temp = randint(1, 100)\n",
    "    temp1 = randint(1, 100)\n",
    "    temp2 = randint(1, 100)\n",
    "    MaxValue = max(temp, temp1, temp2)\n",
    "\n",
    "    print(f'{temp} {temp1} {temp2} 중에서 최대: {MaxValue}')\n",
    "# 컴퓨터공학과_202121027_김현정_파이썬(월7수56)_4장문제풀이"
   ]
  },
  {
   "cell_type": "code",
   "execution_count": 13,
   "metadata": {},
   "outputs": [
    {
     "name": "stdout",
     "output_type": "stream",
     "text": [
      "당신의 키(cm)와 몸무게(kg)는? >> 171 72\n",
      "키: 171.0(cm), 몸무게: 72.0(kg)\n",
      "BMI: 24.6 정상\n"
     ]
    }
   ],
   "source": [
    "# 4. 다음을 참고해 인간의 비만도를 측정하는 체질량 지수를\n",
    "#    계산해 판정 결과를 출력하는 프로그램\n",
    "# h, w = input('당신의 키와 몸무게는? >> ').split()\n",
    "# 위 코드를 사용해 키와 몸무게 입력\n",
    "# 키가 tcm, 체중이 wkg일 때, BMI 계산식 w / (t/ 100)^2\n",
    "\n",
    "h, w = input('당신의 키(cm)와 몸무게(kg)는? >> ').split()\n",
    "print(f'당신의 키(cm)와 몸무게(kg)는? >> {h} {w}')\n",
    "print(f'키: {int(h):.1f}(cm), 몸무게: {int(w):.1f}(kg)')\n",
    "\n",
    "BMI = int(w) / ((int(h)/ 100)**2)\n",
    "\n",
    "if BMI >= 40:\n",
    "    result = '고도 비만'\n",
    "elif BMI < 40 and BMI >= 35:\n",
    "    result = '중등도 비만'\n",
    "elif BMI < 35 and BMI >= 30:\n",
    "    result = '비만'\n",
    "elif BMI < 30 and BMI >= 25:\n",
    "    result = '과체중'\n",
    "elif BMI < 25 and BMI >= 18.5:\n",
    "    result = '정상'\n",
    "else:\n",
    "    result = '저체중'\n",
    "\n",
    "print(f'BMI: {BMI:.1f} {result}')\n",
    "# 컴퓨터공학과_202121027_김현정_파이썬(월7수56)_4장문제풀이"
   ]
  },
  {
   "cell_type": "code",
   "execution_count": 36,
   "metadata": {},
   "outputs": [
    {
     "name": "stdout",
     "output_type": "stream",
     "text": [
      "섭씨: 20,    화씨: 68.0,    화씨(약식):  70,    차이: 2.00\n",
      "섭씨: 23,    화씨: 73.4,    화씨(약식):  76,    차이: 2.60\n",
      "섭씨: 26,    화씨: 78.8,    화씨(약식):  82,    차이: 3.20\n",
      "섭씨: 29,    화씨: 84.2,    화씨(약식):  88,    차이: 3.80\n",
      "섭씨: 32,    화씨: 89.6,    화씨(약식):  94,    차이: 4.40\n",
      "섭씨: 35,    화씨: 95.0,    화씨(약식): 100,    차이: 5.00\n",
      "섭씨: 38,    화씨: 100.4,    화씨(약식): 106,    차이: 5.60\n",
      "섭씨: 41,    화씨: 105.8,    화씨(약식): 112,    차이: 6.20\n"
     ]
    }
   ],
   "source": [
    "# 5. 다음을 참고해 섭씨 온도 20도에서 41도까지 3도씩\n",
    "#    증가하면서 화씨로 변환해 출력하는 프로그램\n",
    "# 섭씨 온도에서 화씨 온도로의 변환 공식 F = (C * 9/5) + 32\n",
    "# 약식 계산으로 (섭씨 온도 * 2 + 30)으로 계산\n",
    "# 정식 계산과 약식 계산의 차이를 내장 함수 abs(인자)로 출력\n",
    "\n",
    "for cels in range(20, 42, 3):\n",
    "    # 화씨 변환\n",
    "    F = (cels * (9 / 5)) + 32\n",
    "\n",
    "    # 화씨(약식) 변환\n",
    "    Fi = cels * 2 + 30\n",
    "\n",
    "    print(\n",
    "        f\"섭씨: {cels},    화씨: {float(F):.1f},    화씨(약식): {Fi:3d},    차이: {Fi-float(F):.2f}\"\n",
    "    )\n",
    "\n",
    "# 컴퓨터공학과_202121027_김현정_파이썬(월7수56)_4장문제풀이"
   ]
  },
  {
   "cell_type": "code",
   "execution_count": 82,
   "metadata": {},
   "outputs": [
    {
     "name": "stdout",
     "output_type": "stream",
     "text": [
      "57 * 12 = 684\n",
      "\n",
      "계속 y / n ? y\n",
      "75 * 45 = 3375\n",
      "\n",
      "계속 y / n ? n\n"
     ]
    }
   ],
   "source": [
    "# 6. 다음을 참고해 1에서 99까지 정수인 난수를\n",
    "#    2개 생성하고 곱하기의 결과를 출력하는 프로그램\n",
    "# 반복 while True로 계속 난수를 발생해 출력\n",
    "# 표준 입력으로 y 또는 n을 입력받아 n이면 반복을 종료하고 프로그램 마침\n",
    "from random import randint\n",
    "\n",
    "while True:\n",
    "    R, R2 = randint(1, 100), randint(1, 100)\n",
    "\n",
    "    print(f'{R} * {R2} = {R*R2}\\n')\n",
    "\n",
    "    InEnter = input('계속 y / n ? {}')\n",
    "    print(f'계속 y / n ? {InEnter}')\n",
    "    if InEnter == 'n':\n",
    "        break\n",
    "    else:\n",
    "        continue\n",
    "\n",
    "# 컴퓨터공학과_202121027_김현정_파이썬(월7수56)_4장문제풀이"
   ]
  },
  {
   "cell_type": "code",
   "execution_count": 83,
   "metadata": {},
   "outputs": [
    {
     "name": "stdout",
     "output_type": "stream",
     "text": [
      "소수(prime number)인지를 판별한 2 이상의 정수 입력 >> 11\n",
      "정수 11는 소수이다.\n"
     ]
    }
   ],
   "source": [
    "# 7. 정수 1개를 표준 입력으로 받아 소수인지를 판별하는 프로그램\n",
    "#    2 이상의 정수를 입력해 입력한 정수의 판별\n",
    "En = 0\n",
    "EnterNum = int(input('소수(prime number)인지를 판별한 2 이상의 정수 입력 >> {}'))\n",
    "print('소수(prime number)인지를 판별한 2 이상의 정수 입력 >> {}'.format(EnterNum))\n",
    "\n",
    "if EnterNum <= 2:\n",
    "    print('다시 입력하세요.')\n",
    "    EnterNum = int(input('소수(prime number)인지를 판별한 2 이상의 정수 입력 >> {}'))\n",
    "    print(':{}\\n'.format(EnterNum))\n",
    "\n",
    "for i in range(2, EnterNum):\n",
    "    if EnterNum % i == 0:\n",
    "        En = 1\n",
    "\n",
    "if En == 1 or EnterNum == 1 or EnterNum == 0:\n",
    "    print('{}는 소수가 아닙니다.'.format(EnterNum))\n",
    "\n",
    "else:\n",
    "    print('정수 {}는 소수이다.'.format(EnterNum))   # 2와 3은 소수\n",
    "\n",
    "# 컴퓨터공학과_202121027_김현정_파이썬(월7수56)_4장문제풀이"
   ]
  },
  {
   "cell_type": "markdown",
   "metadata": {},
   "source": [
    "[소수인지 아닌지 판별하기] https://m.blog.naver.com/happynut/221844121110"
   ]
  },
  {
   "cell_type": "code",
   "execution_count": null,
   "metadata": {},
   "outputs": [],
   "source": [
    "a = int(input('숫자를 입력하세요'))\n",
    "b = 0\n",
    "if a <= 0:\n",
    "    print(\"음수를 입력하면 안됩니다.\")\n",
    "    a = int(input('숫자를 입력하세요'))\n",
    "\n",
    "for i in range(2, a):\n",
    "    if a % i == 0:\n",
    "        b = 1\n",
    "\n",
    "if b == 1 or a == 1 or a == 0:\n",
    "    print('소수가 아닙니다.')\n",
    "else:\n",
    "    print(\"소수 입니다.\")"
   ]
  },
  {
   "cell_type": "code",
   "execution_count": 11,
   "metadata": {},
   "outputs": [
    {
     "name": "stdout",
     "output_type": "stream",
     "text": [
      "첫 값은 55 이다.\n",
      "산술 연산의 종류를 입력하세요. >> *\n",
      "두 번째 피연산자를 입력하세요. >> 20\n",
      "55 * 20 = 1100\n",
      "\n",
      "산술 연산의 종류를 입력하세요. >> -\n",
      "두 번째 피연산자를 입력하세요. >> 45\n",
      "55 - 45 = 10\n",
      "\n",
      "산술 연산의 종류를 입력하세요. >> /\n",
      "두 번째 피연산자를 입력하세요. >> 5\n",
      "55 / 5 = 11.0\n",
      "\n",
      "산술 연산의 종류를 입력하세요. >> &\n",
      "***************종료***************\n"
     ]
    }
   ],
   "source": [
    "# 8. 난수로 발생시킨 1에서 100 사이의 첫번째 피연산자와\n",
    "#    사용자가 표준 입력한 산술 연산자 문자 그리고 표준 입력한\n",
    "#    두번째 피연산자를 계산해 출력하는 프로그램\n",
    "# 반복 while True로 계속 난수를 발생해 출력\n",
    "# 산술 연산 종류인 연산자는 표준 입력으로 '+-/*%' 중 하나를 입력\n",
    "# 입력한 연산자가 위 연산자가 아니면 반복을 종료하고 프로그램 마침\n",
    "from random import randint\n",
    "\n",
    "num = randint(1, 101)  # 난수로 발생시킨 첫번째 피연산자\n",
    "print(f\"첫 값은 {num} 이다.\".format(num))\n",
    "\n",
    "while True:\n",
    "    op = input(\"산술 연산의 종류를 입력하세요. >> {}\")\n",
    "    print(f\"산술 연산의 종류를 입력하세요. >> {op}\")\n",
    "    if op != \"+\" and op != \"-\" and op != \"/\" and op != \"*\" and op != \"%\":\n",
    "        print(\"종료\".center(32, \"*\"))\n",
    "        break\n",
    "    num2 = int(input(\"두 번째 피연산자를 입력하세요. >> {}\"))  # 표준 입력 받은 두번째 피연산자\n",
    "    print(f\"두 번째 피연산자를 입력하세요. >> {num2}\")\n",
    "\n",
    "    if op == \"+\":\n",
    "        print(f\"{num} + {num2} = {num + num2}\\n\")\n",
    "    elif op == \"-\":\n",
    "        print(f\"{num} - {num2} = {num - num2}\\n\")\n",
    "    elif op == \"*\":\n",
    "        print(f\"{num} * {num2} = {num * num2}\\n\")\n",
    "    elif op == \"/\":\n",
    "        print(f\"{num} / {num2} = {num / num2}\\n\")\n",
    "    elif op == \"%\":\n",
    "        print(f\"{num} % {num2} = {num % num2}\\n\")\n",
    "\n",
    "# 컴퓨터공학과_202121027_김현정_파이썬(월7수56)_4장문제풀이"
   ]
  }
 ],
 "metadata": {
  "kernelspec": {
   "display_name": "Python 3",
   "language": "python",
   "name": "python3"
  },
  "language_info": {
   "codemirror_mode": {
    "name": "ipython",
    "version": 3
   },
   "file_extension": ".py",
   "mimetype": "text/x-python",
   "name": "python",
   "nbconvert_exporter": "python",
   "pygments_lexer": "ipython3",
   "version": "3.10.5"
  },
  "orig_nbformat": 4
 },
 "nbformat": 4,
 "nbformat_minor": 2
}
