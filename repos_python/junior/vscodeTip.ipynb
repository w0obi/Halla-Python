{
 "cells": [
  {
   "cell_type": "markdown",
   "metadata": {},
   "source": [
    "[vscode 단축키 모음] https://inpa.tistory.com/entry/VS-Code-%E2%8F%B1%EF%B8%8F-%EC%9C%A0%EC%9A%A9%ED%95%9C-%EB%8B%A8%EC%B6%95%ED%82%A4-%EC%A0%95%EB%A6%AC"
   ]
  },
  {
   "cell_type": "markdown",
   "metadata": {},
   "source": [
    "[markdown 사용법] https://alex-blog.tistory.com/entry/Markdown-%EB%A7%88%ED%81%AC%EB%8B%A4%EC%9A%B4-%EB%AC%B8%EB%B2%95-%EC%A0%95%EB%A6%AC"
   ]
  },
  {
   "cell_type": "markdown",
   "metadata": {},
   "source": [
    "[기본 출력 print함수, format함수, f문자열] https://wikidocs.net/164969"
   ]
  },
  {
   "cell_type": "markdown",
   "metadata": {},
   "source": [
    "- ctrl + d    같은 단어 하나씩 선택(밑으로 하나씩 선택됨)\n",
    "- ctrl + shift + l    같은 단어 전체 선택\n",
    "- ctrl + h or F2    일치하는 텍스트 바꾸기 \n",
    "- ctrl + .    에러 발생시 없는 모듈 자동으로 찾아주기 \n",
    "- alt + shift + a    블록 주석 묶기\n",
    "- alt + shift + f    자동 정렬"
   ]
  }
 ],
 "metadata": {
  "kernelspec": {
   "display_name": "Python 3",
   "language": "python",
   "name": "python3"
  },
  "language_info": {
   "name": "python",
   "version": "3.10.5"
  }
 },
 "nbformat": 4,
 "nbformat_minor": 2
}
