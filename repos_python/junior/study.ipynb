{
 "cells": [
  {
   "cell_type": "code",
   "execution_count": 2,
   "metadata": {},
   "outputs": [
    {
     "name": "stdout",
     "output_type": "stream",
     "text": [
      "흔들리는: 20000\n",
      "개잡주향이: 1300\n",
      "느껴진거야: 50300\n",
      "주식 이름이 없습니다.\n"
     ]
    }
   ],
   "source": [
    "#2\n",
    "dct = dict(흔들리는=20000, 음봉속에서=4900, 개잡주향이=1300, 느껴진거야=50300)\n",
    "\n",
    "while True:\n",
    "    search = input('주식 이름 ? {}')\n",
    "    \n",
    "    if search in dct.keys():\n",
    "        print(f'{search}: {dct[search]}')\n",
    "    else:\n",
    "        print(f'주식 이름이 없습니다.')\n",
    "        break"
   ]
  },
  {
   "cell_type": "code",
   "execution_count": 40,
   "metadata": {},
   "outputs": [
    {
     "name": "stdout",
     "output_type": "stream",
     "text": [
      "{'파이썬개론': ['강환수']}\n",
      "\n",
      "{'파이썬개론': ['강환수'], 'Perfect C': ['강환수', '이동규'], '컴퓨터 개론': ['강환수', '조진형', '신용현']}\n"
     ]
    }
   ],
   "source": [
    "# 3\n",
    "star = ['강환수', '조진형', '신용현']\n",
    "dct = {'컴퓨터개론':star}\n",
    "\n",
    "star = ['강환수']\n",
    "dct = {'파이썬개론':star}\n",
    "\n",
    "print(dct)\n",
    "print()\n",
    "books = {\"파이썬개론\": [\"강환수\"], \n",
    "         \"Perfect C\": [\"강환수\", \"이동규\"],\n",
    "         \"컴퓨터 개론\": [\"강환수\", \"조진형\", \"신용현\"]}\n",
    "print(books)"
   ]
  },
  {
   "cell_type": "markdown",
   "metadata": {},
   "source": [
    "정리해보자면,\n",
    "- 딕셔너리의 키는 수정 불가능한 타입이어서 튜플, 문자열, 정수만 들어갈 수 있고, \n",
    "- 값은 언제나 수정이 가능하여서 모든 것이 들어갈 수 있음.\n",
    "- `그리고 주의 * 딕셔너리 삭제시 항상 기준은 키key이다`\n",
    "\n",
    "- 집합의 원소로는 수정이 가능한 리스트, 딕셔너리는 들어갈 수 없음"
   ]
  }
 ],
 "metadata": {
  "kernelspec": {
   "display_name": "Python 3",
   "language": "python",
   "name": "python3"
  },
  "language_info": {
   "codemirror_mode": {
    "name": "ipython",
    "version": 3
   },
   "file_extension": ".py",
   "mimetype": "text/x-python",
   "name": "python",
   "nbconvert_exporter": "python",
   "pygments_lexer": "ipython3",
   "version": "3.10.5"
  }
 },
 "nbformat": 4,
 "nbformat_minor": 2
}
