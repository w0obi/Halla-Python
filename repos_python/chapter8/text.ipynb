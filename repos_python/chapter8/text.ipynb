{
 "cells": [
  {
   "cell_type": "markdown",
   "metadata": {},
   "source": [
    "- 종합 소득 과세 구하는 알고리즘\n",
    "    - 1. 연봉 입력\n",
    "      2. 소득 세율을 곱한다. e.g. 0.06\n",
    "      3. 테스트데이터는 몇 개가 필요할지 시작하기 전에 정하기"
   ]
  },
  {
   "cell_type": "code",
   "execution_count": null,
   "metadata": {},
   "outputs": [],
   "source": [
    "# 종합 소득 과세 표준 구간별 공제 구해보기"
   ]
  },
  {
   "cell_type": "markdown",
   "metadata": {},
   "source": [
    "* 누진공제액은 전체 세금에서 구간별로의 세금(누진세)을 차감"
   ]
  },
  {
   "cell_type": "markdown",
   "metadata": {},
   "source": [
    "`숫자 사이에 _언더바를 사용하는 이유는 가시성!, 어디에 위치해도 상관 없음`"
   ]
  },
  {
   "cell_type": "code",
   "execution_count": null,
   "metadata": {},
   "outputs": [],
   "source": [
    "# 1200만원 초과 ~ 4600만원 이하\n",
    "smoney = 12_000000\n",
    "rate1 = 6\n",
    "rate2 = 15\n",
    "deduction = smoney * (rate2 - rate1) / 100\n",
    "print(f'누진 공제액1 : {deduction:,.0f}')\n",
    "\n",
    "# 4600만원 초과 ~ 8800만원 이하\n",
    "smoney1, smoney2 = 12_000000, 46_000000\n",
    "rate1, rate2, rate3 = 6, 15, 24\n",
    "deduction1 = smoney1 * (rate3-rate1)/100\n",
    "deduction1 += (smoney2-smoney1) * (rate3 - rate2) / 100\n",
    "print(f'누진 공제액2 : {deduction1:,.0f}')"
   ]
  },
  {
   "cell_type": "markdown",
   "metadata": {},
   "source": [
    "- 종합 소득 과세 표준 표 출력하는 알고리즘\n",
    "    * 1. 표준 구간에 따른 기준 종합 소득과 세율을 각각 튜플과 리스트로 생성\n",
    "      2. 조건문을 통해 구간을 판단\n",
    "      3. "
   ]
  },
  {
   "cell_type": "code",
   "execution_count": 2,
   "metadata": {},
   "outputs": [
    {
     "name": "stdout",
     "output_type": "stream",
     "text": [
      "종합 소득 금액 입력 40000000\n",
      "종합 소득: 40,000,000\n",
      "세율: 15%\n",
      "세금: 4,920,000\n"
     ]
    }
   ],
   "source": [
    "# 세율과 누진 공제액 쌓인 항목의 리스트\n",
    "taxrate = [\n",
    "    (6, 0),\n",
    "    (15, 1_080_000),\n",
    "    (24, 5_220_000),\n",
    "    (35, 14_900_000),\n",
    "    (38, 19_400_000),\n",
    "    (40, 25_400_000),\n",
    "    (42, 35_400_000),\n",
    "]\n",
    "# 종합 소득 과세 표준 구간에 따른 기준 종합 소득\n",
    "base = (0, 12_000000, 46_000000, 88_000000, 150_000000, 300_000000, 500_000000)\n",
    "\n",
    "\n",
    "def gestsection(income):\n",
    "    \"\"\"\n",
    "    종합 소득 금액 income에 따른 과세 표준 구간 번호를 반환\n",
    "    인자 income: 종합 소득 금액\n",
    "    \"\"\"\n",
    "    if base[6] < income:\n",
    "        section = 6\n",
    "    elif base[5] < income:\n",
    "        section = 5\n",
    "    elif base[4] < income:\n",
    "        section = 4\n",
    "    elif base[3] < income:\n",
    "        section = 3\n",
    "    elif base[2] < income:\n",
    "        section = 2\n",
    "    elif base[1] < income:\n",
    "        section = 1\n",
    "    else:\n",
    "        section = 0\n",
    "    return section\n",
    "\n",
    "\n",
    "income = int(input(\"종합 소득 금액 입력 >> {}\"))\n",
    "print(f\"종합 소득 금액 입력 {income}\")\n",
    "section = gestsection(income)\n",
    "tax = income * taxrate[section][0] / 100 - taxrate[section][1]\n",
    "\n",
    "print(f\"종합 소득: {income:,.0f}\")\n",
    "print(f\"세율: {taxrate[section][0]}%\")\n",
    "print(f\"세금: {tax:,.0f}\")"
   ]
  },
  {
   "cell_type": "code",
   "execution_count": 3,
   "metadata": {},
   "outputs": [
    {
     "name": "stdout",
     "output_type": "stream",
     "text": [
      "[0]\n",
      "[1]\n",
      "[2]\n",
      "['|||||', '|   |', '|   |', '|   |', '|||||']\n"
     ]
    }
   ],
   "source": [
    "LCD = [[0], [1], [2]]\n",
    "print(LCD[0])\n",
    "print(LCD[1])\n",
    "print(LCD[2])\n",
    "\n",
    "LCD = [[\"|||||\", \"|   |\", \"|   |\", \"|   |\", \"|||||\"]]\n",
    "print(LCD[0])"
   ]
  },
  {
   "cell_type": "code",
   "execution_count": null,
   "metadata": {},
   "outputs": [
    {
     "name": "stdout",
     "output_type": "stream",
     "text": [
      "0 ~ 5 사이의 숫자 1개 입력 >> 5\n",
      "|||||\n",
      "|    \n",
      "|||||\n",
      "    |\n",
      "|||||\n"
     ]
    }
   ],
   "source": [
    "LCD = [\n",
    "    [\"|||||\", \"|   |\", \"|   |\", \"|   |\", \"|||||\"],\n",
    "    [\"  |  \", \" ||  \", \"  |  \", \"  |  \", \"|||||\"],\n",
    "    [\"|||||\", \"    |\", \"|||||\", \"|    \", \"|||||\"],\n",
    "    [\"|||||\", \"    |\", \"|||||\", \"    |\", \"|||||\"],\n",
    "    [\"|   |\", \"|   |\", \"|||||\", \"    |\", \"    |\"],\n",
    "    [\"|||||\", \"|    \", \"|||||\", \"    |\", \"|||||\"],\n",
    "]\n",
    "\n",
    "num = -1\n",
    "while not (0 <= num <= 5):\n",
    "    num = int(input(\"0 ~ 5 사이의 숫자 1개 입력 >> {}\"))\n",
    "    print(f\"0 ~ 5 사이의 숫자 1개 입력 >> {num}\")\n",
    "\n",
    "select = LCD[num]\n",
    "for row in select:\n",
    "    print(row)"
   ]
  },
  {
   "cell_type": "markdown",
   "metadata": {},
   "source": [
    "- choice 함수는 중복 가능한 함수"
   ]
  },
  {
   "cell_type": "code",
   "execution_count": null,
   "metadata": {},
   "outputs": [],
   "source": [
    "from random import choice\n",
    "\n",
    "ls = [\"가위# 바위# 보#게임\", \"가위\", \"바위\", \"보\"]\n",
    "ls2 = [\"비겼습니다\", \"이겼습니다\", \"졌습니다\"]\n",
    "\n",
    "while True:\n",
    "    try:\n",
    "        enter = int(input(\"가위 바위 보 입력\"))\n",
    "        print(f\"가위 바위 보 입력 {enter}\")\n",
    "    except:\n",
    "        if not (0 <= enter <= 4):\n",
    "            print(\"다시 입력해주세요\")\n",
    "a = choice(ls)"
   ]
  },
  {
   "cell_type": "code",
   "execution_count": null,
   "metadata": {},
   "outputs": [],
   "source": [
    "from random import randint as r, choice as c\n",
    "\n",
    "dt = {\n",
    "    6: (\"1등\", 100_000_000_000),\n",
    "    5: {1: (\"2등\", 500_000_000), 0: (\"3등\", 100_000_000)},\n",
    "    4: (\"4등\", 500_000),\n",
    "    3: (\"5등\", 100_000),\n",
    "}\n",
    "\n",
    "# 난수로 당첨 리스트 생성\n",
    "ls = []\n",
    "for i in range(6):\n",
    "    temp = r(1, 45)\n",
    "    ls.append(temp)\n",
    "print(f'당첨 리스트 출력 {ls}',end=' ')\n",
    "\n",
    "for i in dt.keys():\n",
    "    enter = choice(ls)\n",
    "    if enter in dt:\n",
    "        print(f'{enter}')"
   ]
  },
  {
   "cell_type": "markdown",
   "metadata": {},
   "source": [
    "- 데이터 생성할 때 사용하는 pandas\n",
    "- 수학, 과학 데이터 때 scipy\n",
    "- 모듈을 모아둔 건 패키지\n",
    "- install과 load 차이 알아두기\n",
    "- load하는 명령어 `import`라고 한다.\n",
    "- 주의하기 `모듈이름과 함수이름이 동일한 경우`도 있다! "
   ]
  }
 ],
 "metadata": {
  "kernelspec": {
   "display_name": "Python 3",
   "language": "python",
   "name": "python3"
  },
  "language_info": {
   "codemirror_mode": {
    "name": "ipython",
    "version": 3
   },
   "file_extension": ".py",
   "mimetype": "text/x-python",
   "name": "python",
   "nbconvert_exporter": "python",
   "pygments_lexer": "ipython3",
   "version": "3.10.5"
  }
 },
 "nbformat": 4,
 "nbformat_minor": 2
}
