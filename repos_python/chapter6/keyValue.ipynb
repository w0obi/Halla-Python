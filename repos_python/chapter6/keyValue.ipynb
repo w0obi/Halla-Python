{
 "cells": [
  {
   "cell_type": "code",
   "execution_count": 216,
   "metadata": {},
   "outputs": [
    {
     "name": "stdout",
     "output_type": "stream",
     "text": [
      "이름: 김영희\n",
      "전화번호: 010-3017-4468\n",
      "성별: 여자\n",
      "나이: 22\n",
      "대학교: 한국대학교\n"
     ]
    }
   ],
   "source": [
    "# 1. 다음 정보를 딕셔너리에 저장하여 출력\n",
    "temp = dict(이름='김영희', 전화번호='010-3017-4468',\n",
    "             성별='여자', 나이=22, 대학교='한국대학교')\n",
    "\n",
    "for info in temp.keys(): \n",
    "    print(f'{info}: {temp[info]}')\n",
    "# 컴퓨터공학과_202121027_김현정_파이썬(월7수56)_6장문제풀이"
   ]
  },
  {
   "cell_type": "code",
   "execution_count": 3,
   "metadata": {},
   "outputs": [
    {
     "name": "stdout",
     "output_type": "stream",
     "text": [
      "주식 이름 ? 삼성전자\n",
      "삼성전자: 47000\n",
      "\n",
      "주식 이름 ? 기아\n",
      "기아: 56300\n",
      "\n",
      "주식 이름 ? 현대\n",
      "주식 이름이 없습니다.\n"
     ]
    }
   ],
   "source": [
    "# 2. 다음 회사 6개의 주식 가격을 딕셔력리로 만든 후,\n",
    "#    표준 입력으로 검색하여 가격을 출력\n",
    "stock = {\n",
    "    \"삼성에스디에스\": 242000,\n",
    "    \"삼성전자\": 47000,\n",
    "    \"엔씨소프트\": 52600,\n",
    "    \"핸디소프트\": 5120,\n",
    "    \"골프존\": 215000,\n",
    "    \"기아\": 56300,\n",
    "}\n",
    "\n",
    "# 검색을 계속하면서, 주식이름이 없으면 종료\n",
    "while True:\n",
    "    sIn = input(\"주식 이름 ? {}\")\n",
    "    print(f\"주식 이름 ? {sIn}\")\n",
    "\n",
    "    if sIn in stock.keys():\n",
    "        print(f\"{sIn}: {stock[sIn]}\\n\")\n",
    "    else:\n",
    "        print(\"주식 이름이 없습니다.\")\n",
    "        break\n",
    "# 컴퓨터공학과_202121027_김현정_파이썬(월7수56)_6장문제풀이"
   ]
  },
  {
   "cell_type": "code",
   "execution_count": 35,
   "metadata": {},
   "outputs": [
    {
     "name": "stdout",
     "output_type": "stream",
     "text": [
      "책 이름: 파이썬개론, 저자: 강환수 \n",
      "책 이름: Perfect C, 저자: 강환수 이동규 \n",
      "책 이름: 컴퓨터 개론, 저자: 강환수 조진형 신용현 \n"
     ]
    }
   ],
   "source": [
    "# 3. 책에 대한 정보를 저장한 딕셔너리에 다음을 출력\n",
    "books = {\"파이썬개론\": [\"강환수\"], \n",
    "         \"Perfect C\": [\"강환수\", \"이동규\"],\n",
    "         \"컴퓨터 개론\": [\"강환수\", \"조진형\", \"신용현\"]}\n",
    "\n",
    "for key, value in books.items():\n",
    "    print(f'책 이름: {key}, 저자:',end =' ')\n",
    "    [print(f'{value[item]}', end = ' ') for item in range(len(value))]\n",
    "    print()\n",
    "# 컴퓨터공학과_202121027_김현정_파이썬(월7수56)_6장문제풀이"
   ]
  },
  {
   "cell_type": "code",
   "execution_count": 24,
   "metadata": {},
   "outputs": [
    {
     "name": "stdout",
     "output_type": "stream",
     "text": [
      "********************\n",
      " 철수   영희   승자  \n",
      "********************\n",
      " 가위   가위  비김  1\n",
      "\n",
      " 바위   바위  비김  2\n",
      "\n",
      " 가위   보오  철수  1\n",
      "\n",
      " 보오   보오  비김  3\n",
      "\n",
      " 가위   가위  비김  4\n",
      "\n",
      " 보오   가위  영희  1\n",
      "\n",
      " 바위   바위  비김  5\n",
      "\n",
      " 가위   바위  영희  2\n",
      "\n",
      " 바위   가위  철수  2\n",
      "\n",
      " 가위   바위  영희  3\n",
      "\n",
      " 가위   바위  영희  4\n",
      "\n",
      " 바위   보오  영희  5\n",
      "\n",
      " 보오   가위  영희  6\n",
      "\n",
      " 보오   보오  비김  6\n",
      "\n",
      " 보오   바위  철수  3\n",
      "\n",
      " 가위   바위  영희  7\n",
      "\n",
      " 바위   바위  비김  7\n",
      "\n",
      " 바위   보오  영희  8\n",
      "\n",
      " 바위   가위  철수  4\n",
      "\n",
      " 바위   바위  비김  8\n",
      "\n",
      "\n",
      "총 게임 회수: 20 비긴 회수: 8\n",
      "철수 승률: 0.2\n",
      "영희 승률: 0.4\n"
     ]
    }
   ],
   "source": [
    "# 4. 게임의 횟수는 20, 매번 승자의 승리 회수력또는 비긴 횟수 출력\n",
    "#    마지막에는 비긴 횟수와 각각의 승률을 출력\n",
    "from random import choice\n",
    "\n",
    "dcs = dict(가위='보오', 바위='가위', 보오='바위')\n",
    "rsp = ('가위', '바위', '보오')\n",
    "temp = ['철수', '영희', '승자', '비김']\n",
    "\n",
    "csCtr = 0       #철수가 이긴 횟수\n",
    "yhCtr = 0       #영희가 이긴 횟수\n",
    "drCtr = 0       #비긴 횟수\n",
    "\n",
    "print('*' * 20)\n",
    "for i in range(3): print(f' {temp[i]:4}', end='')\n",
    "print()\n",
    "print('*' * 20)\n",
    "\n",
    "for _ in range(20):\n",
    "    cs = choice(rsp)\n",
    "    yh = choice(rsp)\n",
    "\n",
    "    print(f' {cs:4} {yh:4}', end='')\n",
    "\n",
    "    if cs == yh:        #비긴 경우\n",
    "        index = 0\n",
    "        drCtr = drCtr + 1\n",
    "        print(f'{temp[3]}  {drCtr}')\n",
    "\n",
    "    elif dcs[cs] == yh: #철수가 이기는 경우\n",
    "        index = 1\n",
    "        csCtr = csCtr + 1\n",
    "        print(f'{temp[0]}  {csCtr}')\n",
    "\n",
    "    else:               #영희가 이기는 경우\n",
    "        index = 2\n",
    "        yhCtr = yhCtr + 1\n",
    "        print(f'{temp[1]}  {yhCtr}')\n",
    "\n",
    "    print()\n",
    "print()\n",
    "\n",
    "print(f'총 게임 회수: 20 비긴 회수: {drCtr}\\n철수 승률: {float(csCtr) / 20}\\n영희 승률: {float(yhCtr / 20)}')\n",
    "# 컴퓨터공학과_202121027_김현정_파이썬(월7수56)_6장문제풀이"
   ]
  },
  {
   "cell_type": "code",
   "execution_count": 2,
   "metadata": {},
   "outputs": [
    {
     "name": "stdout",
     "output_type": "stream",
     "text": [
      "1 apple 가격: 1000\n",
      "2 banana 가격: 500\n",
      "3 grapes 가격: 1200\n",
      "4 pear 가격: 1500\n"
     ]
    }
   ],
   "source": [
    "# 5. 다음 리스트와 튜플을 갖고 먼저 딕셔너리를 만든 후 다음과 같이 출력하시오.\n",
    "fruits = ['apple', 'banana', 'grapes', 'pear']\n",
    "prices = (1000, 500, 1200, 1500)\n",
    "\n",
    "fruitsPr = dict(zip(fruits, prices))\n",
    "\n",
    "for name in enumerate(fruitsPr.keys(), start= 1):\n",
    "    print(f'{name[0]} {name[1]} 가격: {fruitsPr[name[1]]}')\n",
    "# 컴퓨터공학과_202121027_김현정_파이썬(월7수56)_6장문제풀이"
   ]
  },
  {
   "cell_type": "code",
   "execution_count": 109,
   "metadata": {},
   "outputs": [
    {
     "name": "stdout",
     "output_type": "stream",
     "text": [
      "A = {1, 4, 13, 15, 18}\n",
      "B = {1, 5, 12, 16, 20}\n",
      "\n",
      "A | B = {1, 4, 5, 12, 13, 15, 16, 18, 20}\n",
      "A & B = {1}\n",
      "A - B = {18, 4, 13, 15}\n",
      "A ^ B = {4, 5, 12, 13, 15, 16, 18, 20}\n"
     ]
    }
   ],
   "source": [
    "# 6. 1에서 20까지의 난수 5개를 두번 얻어 각각의 집합인 변수A, B에 저장.\n",
    "#    집합 A와 B의 합집합과 교집합, 차집합, 여집합을 구해 출력하는 프로그램\n",
    "from random import sample\n",
    "\n",
    "A = set(sample(list(range(1, 21)), 5))\n",
    "B = set(sample(list(range(1, 21)), 5))\n",
    "\n",
    "print(f'A = {A}')\n",
    "print(f'B = {B}\\n')\n",
    "\n",
    "print(f'A | B = {A.union(B)}')\n",
    "print(f'A & B = {A.intersection(B)}')\n",
    "print(f'A - B = {A.difference(B)}')\n",
    "print(f'A ^ B = {A.symmetric_difference(B)}')\n",
    "# 컴퓨터공학과_202121027_김현정_파이썬(월7수56)_6장문제풀이"
   ]
  }
 ],
 "metadata": {
  "kernelspec": {
   "display_name": "Python 3",
   "language": "python",
   "name": "python3"
  },
  "language_info": {
   "codemirror_mode": {
    "name": "ipython",
    "version": 3
   },
   "file_extension": ".py",
   "mimetype": "text/x-python",
   "name": "python",
   "nbconvert_exporter": "python",
   "pygments_lexer": "ipython3",
   "version": "3.10.5"
  }
 },
 "nbformat": 4,
 "nbformat_minor": 2
}
