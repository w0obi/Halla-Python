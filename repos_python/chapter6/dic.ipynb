{
 "cells": [
  {
   "cell_type": "code",
   "execution_count": 2,
   "metadata": {},
   "outputs": [
    {
     "name": "stdout",
     "output_type": "stream",
     "text": [
      "{'그룹명': '방탄소년단', '인원수': 7, '리더': '김남준', '소속사': '빅히트 엔터테인먼트'}\n",
      "{'그룹명': '방탄소년단', '인원수': '7'}\n",
      "{'리더': '김남준', '소속사': '빅히트 엔터테인먼트'}\n",
      "\n",
      "{'그룹명': '방탄소년단', '인원수': 7, '리더': '김남준', '소속사': '빅히트 엔터테인먼트', '구성원': ['RM', '진', '슈가', '제이홉', '지민', '뷔', '정국']}\n",
      "['RM', '진', '슈가', '제이홉', '지민', '뷔', '정국']\n"
     ]
    }
   ],
   "source": [
    "# 정보를 저장하는 딕셔너리 생성과 참조\n",
    "bts1 = {\"그룹명\": \"방탄소년단\", \"인원수\": 7, \"리더\": \"김남준\"}\n",
    "bts1[\"소속사\"] = \"빅히트 엔터테인먼트\"\n",
    "print(bts1)\n",
    "bts2 = dict([[\"그룹명\", \"방탄소년단\"], [\"인원수\", \"7\"]])\n",
    "print(bts2)\n",
    "bts3 = dict(((\"리더\", \"김남준\"), (\"소속사\", \"빅히트 엔터테인먼트\")))\n",
    "print(bts3)\n",
    "\n",
    "bts = dict(그룹명=\"방탄소년단\", 인원수=7, 리더=\"김남준\", 소속사=\"빅히트 엔터테인먼트\")\n",
    "bts[\"구성원\"] = [\"RM\", \"진\", \"슈가\", \"제이홉\", \"지민\", \"뷔\", \"정국\"]\n",
    "\n",
    "print(f'\\n{bts}')\n",
    "print(bts[\"구성원\"])"
   ]
  },
  {
   "cell_type": "markdown",
   "metadata": {},
   "source": [
    "* `키`는 수정할 수 없음, `값`은 변경할 수 있음\n",
    "* 딕셔너리의 키로 `정수, 실수` 등 사용 가능하다.\n",
    "\n",
    "* month[0]의 0은 첨자가 아니라 키를 의미\n",
    "    - month에는 키 0이 없으므로 KeyError가 발생.\n",
    "* key메소드 items() 키값 두개를 가져온다\n"
   ]
  },
  {
   "cell_type": "code",
   "execution_count": 12,
   "metadata": {},
   "outputs": [
    {
     "name": "stdout",
     "output_type": "stream",
     "text": [
      "{1: 'January', 2: 'February', 3: 'March', 4: 'April', 5: 'May', 6: 'June', 7: 'July', 8: 'August', 9: 'September', 10: 'October', 11: 'November', 12: 'December'}\n",
      "\n",
      "1: January\n",
      "2: February\n",
      "3: March\n",
      "4: April\n",
      "5: May\n",
      "6: June\n",
      "7: July\n",
      "8: August\n",
      "9: September\n",
      "10: October\n",
      "11: November\n",
      "12: December\n"
     ]
    }
   ],
   "source": [
    "month = {1:'January', 2:'February', 3:'March', 4:'April'}\n",
    "month[5] = 'May'\n",
    "month[6] = 'June'\n",
    "month[7] = 'July'\n",
    "month[8] = 'August'\n",
    "month[9] = 'September'\n",
    "month[10] = 'October'\n",
    "month[11] = 'November'\n",
    "month[12] = 'December'\n",
    "\n",
    "print(month)\n",
    "print()\n",
    "\n",
    "for i in range(1, 13):\n",
    "    print(f'{i}: {month[i]}')"
   ]
  },
  {
   "cell_type": "markdown",
   "metadata": {},
   "source": [
    "- `튜플`은 `키로 가능`하지만 `리스트`는 `키`로 사용 `불가능`\n",
    "    * TypeError 발생"
   ]
  },
  {
   "cell_type": "markdown",
   "metadata": {},
   "source": [
    "* `keys()`  키로만 구성된 리스트를 반환\n",
    "* `items()` (키, 값)쌍의 튜플이 들어 있는 리스트를 반환\n",
    "* `values()` 값들로 구성된 리스트를 반환"
   ]
  },
  {
   "cell_type": "code",
   "execution_count": 25,
   "metadata": {},
   "outputs": [
    {
     "name": "stdout",
     "output_type": "stream",
     "text": [
      "dict_keys(['SPRING', 'SUMMER', 'AUTUMN', 'WINTER'])\n",
      "dict_items([('SPRING', 'spring'), ('SUMMER', 'summer'), ('AUTUMN', 'autumn'), ('WINTER', 'winter')])\n",
      "dict_values(['spring', 'summer', 'autumn', 'winter'])\n",
      "\n",
      "SPRING spring\n",
      "SUMMER summer\n",
      "AUTUMN autumn\n",
      "WINTER winter\n",
      "\n",
      "SPRING spring\t SUMMER summer\t AUTUMN autumn\t WINTER winter\t \n",
      "SPRING spring\t SUMMER summer\t AUTUMN autumn\t WINTER winter\t \n"
     ]
    }
   ],
   "source": [
    "season = dict(SPRING='spring', SUMMER='summer', AUTUMN='autumn', WINTER='winter')\n",
    "print(season.keys())\n",
    "print(season.items())\n",
    "print(season.values())\n",
    "print()\n",
    "\n",
    "for key in season.keys():\n",
    "    print(f'{key} {season[key]}')\n",
    "print()\n",
    "\n",
    "for item in season.items():\n",
    "    print(f'{item[0]} {item[1]}\\t', end=' ')\n",
    "print()\n",
    "\n",
    "# 메소드 items()의 반환 값인 튜플을 한 변수에 저장한 경우, 항목 순회 2\n",
    "for item in season.items():\n",
    "    print('{} {}\\t'.format(*item), end=' ')\n",
    "print()"
   ]
  },
  {
   "cell_type": "markdown",
   "metadata": {},
   "source": [
    "* 메소드 pop(), popitem() `매개변수가 있고 없고`의 차이를 가진다.\n",
    "* 메소드 clear(), delete() 딕셔너리 `자체의 항목`을 없애느냐 아니냐 차이를 가짐."
   ]
  },
  {
   "cell_type": "code",
   "execution_count": 20,
   "metadata": {},
   "outputs": [
    {
     "name": "stdout",
     "output_type": "stream",
     "text": [
      "{'black': '검정', 'white': '하양', 'green': '초록', 'blue': '파랑'}\n",
      "초록\n",
      "None\n",
      "\n",
      "{'black': '검정', 'white': '하양', 'green': '초록', 'blue': '파랑', 'yellow': '노랑'}\n",
      "\n",
      "delete: white 하양\n",
      "\n",
      "{'black': '검정', 'green': '초록', 'blue': '파랑', 'yellow': '노랑'}\n",
      "\n",
      "delete: red not found\n",
      "\n",
      "temporay delete: ('yellow', '노랑')\n",
      "\n",
      "temporay delete after: {'black': '검정', 'green': '초록', 'blue': '파랑'}\n",
      "\n",
      "black delete after: {'green': '초록', 'blue': '파랑'}\n",
      "\n",
      "{}\n"
     ]
    }
   ],
   "source": [
    "color = dict(black=\"검정\", white=\"하양\", green=\"초록\", blue=\"파랑\")\n",
    "print(color)\n",
    "\n",
    "print(color.get(\"green\"))\n",
    "print(color.get(\"yellow\"))\n",
    "print()\n",
    "\n",
    "color[\"yellow\"] = \"노랑\"\n",
    "print(color)\n",
    "print()\n",
    "\n",
    "c = \"white\"\n",
    "print(f\"delete: {c} {color.pop('white')}\")\n",
    "print()\n",
    "print(color)\n",
    "print()\n",
    "\n",
    "c = \"red\"\n",
    "print(f\"delete: {c} {color.pop(c, 'not found')}\")\n",
    "print()\n",
    "print(f\"temporay delete: {color.popitem()}\")\n",
    "print()\n",
    "print(f\"temporay delete after: {color}\")\n",
    "print()\n",
    "\n",
    "c = \"black\"\n",
    "del color[c]\n",
    "print(f\"{c} delete after: {color}\")\n",
    "\n",
    "color.clear()\n",
    "print()\n",
    "print(color)"
   ]
  },
  {
   "cell_type": "markdown",
   "metadata": {},
   "source": [
    "d = {}\n",
    "공집합은 딕셔너리로 취급\n",
    "\n",
    "빈 집합을 만들 때는 set()을 이용해라\n",
    "\n",
    "중괄호로 직접 원소를 나열해 집합 생성\n",
    "튜플도 하나의 원소로 취급할 수 있다.\n",
    "딕셔너리도 키는 못바꾸지만, 값은 바꿀 수 있다."
   ]
  },
  {
   "cell_type": "code",
   "execution_count": 2,
   "metadata": {},
   "outputs": [],
   "source": [
    "planets = set('SMS')\n",
    "fruits = set(['gam', 'gyonl'])\n",
    "nuts = ('bam|, ')"
   ]
  },
  {
   "cell_type": "code",
   "execution_count": null,
   "metadata": {},
   "outputs": [],
   "source": [
    "from random import randrange\n",
    "from random import sample   # 비복원 추출\n",
    "\n",
    "mlottyo = set()\n",
    "while True:\n",
    "    num = randrange(1, 46)\n",
    "    print(num, end='*')"
   ]
  },
  {
   "cell_type": "code",
   "execution_count": null,
   "metadata": {},
   "outputs": [],
   "source": [
    "sports = ['축구', '야구', '배구', '농구']\n",
    "num = [ 11, 9, 5, 6]\n",
    "\n",
    "sports = dict('축구', '야구', '배구', '농구')"
   ]
  }
 ],
 "metadata": {
  "kernelspec": {
   "display_name": "Python 3",
   "language": "python",
   "name": "python3"
  },
  "language_info": {
   "codemirror_mode": {
    "name": "ipython",
    "version": 3
   },
   "file_extension": ".py",
   "mimetype": "text/x-python",
   "name": "python",
   "nbconvert_exporter": "python",
   "pygments_lexer": "ipython3",
   "version": "3.10.5"
  },
  "orig_nbformat": 4
 },
 "nbformat": 4,
 "nbformat_minor": 2
}
