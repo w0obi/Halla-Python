{
 "cells": [
  {
   "cell_type": "markdown",
   "metadata": {},
   "source": [
    "- enumerate() 를 이용하여서 마라톤 선수의 등번호를 체크하려고 한다. 마라톤 선수의 등번호의 시작은 99번 부터 시작되고 총 10명이 있다. 학과 친구들을 이용하여 크기가 10인 리스트를 만들고 등번호와 같이 출력해라."
   ]
  },
  {
   "cell_type": "code",
   "execution_count": 3,
   "metadata": {},
   "outputs": [
    {
     "name": "stdout",
     "output_type": "stream",
     "text": [
      "이름: 차정환 등번호: 99\n",
      "이름: 김현정 등번호: 100\n",
      "이름: 정서림 등번호: 101\n",
      "이름: 박시현 등번호: 102\n",
      "이름: 전한울 등번호: 103\n",
      "이름: 전인서 등번호: 104\n",
      "이름: 황성준 등번호: 105\n",
      "이름: 윤희수 등번호: 106\n",
      "이름: 이강우 등번호: 107\n",
      "이름: 배찬두 등번호: 108\n"
     ]
    }
   ],
   "source": [
    "classF = ['차정환', '김현정', '정서림', '박시현', '전한울', '전인서', '황성준', '윤희수', '이강우', '배찬두']\n",
    "for i in enumerate(classF, start=99):\n",
    "    print(f'이름: {i[1]} 등번호: {i[0]}')"
   ]
  },
  {
   "cell_type": "markdown",
   "metadata": {},
   "source": [
    "- [enumerate()] https://docs.python.org/ko/3/library/functions.html#enumerate\n",
    "- [컴프리헨션] https://doorbw.tistory.com/174"
   ]
  },
  {
   "cell_type": "code",
   "execution_count": 25,
   "metadata": {},
   "outputs": [
    {
     "name": "stdout",
     "output_type": "stream",
     "text": [
      "He said, \"Hello, I' am a new pythonist.\"\n"
     ]
    }
   ],
   "source": [
    "print('He said, \"Hello, I\\' am a new pythonist.\"')"
   ]
  }
 ],
 "metadata": {
  "kernelspec": {
   "display_name": "Python 3",
   "language": "python",
   "name": "python3"
  },
  "language_info": {
   "codemirror_mode": {
    "name": "ipython",
    "version": 3
   },
   "file_extension": ".py",
   "mimetype": "text/x-python",
   "name": "python",
   "nbconvert_exporter": "python",
   "pygments_lexer": "ipython3",
   "version": "3.10.5"
  }
 },
 "nbformat": 4,
 "nbformat_minor": 2
}
