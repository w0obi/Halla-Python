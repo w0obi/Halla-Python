{
 "cells": [
  {
   "cell_type": "markdown",
   "metadata": {},
   "source": [
    "- 클래스 생성시 자동으로 생성되는 속성 값(언더스코어로 이루어짐)\n",
    "-\n",
    "- obj = Object() 객체 생성 방법"
   ]
  },
  {
   "cell_type": "code",
   "execution_count": 7,
   "metadata": {},
   "outputs": [
    {
     "name": "stdout",
     "output_type": "stream",
     "text": [
      "홍길동 20\n",
      "홍길동가 인사합니다.\n"
     ]
    }
   ],
   "source": [
    "# 클래스 생성\n",
    "class Person():\n",
    "    pass\n",
    "    # 메소드 생성\n",
    "    def hello(self):\n",
    "        print(f'{self.name}가 인사합니다.')\n",
    "\n",
    "# 인스턴스 생성\n",
    "he = Person()\n",
    "he.name = '홍길동'\n",
    "he.age = 20\n",
    "print(he.name, he.age)\n",
    "# 메소드 호출\n",
    "he.hello()"
   ]
  },
  {
   "cell_type": "code",
   "execution_count": 5,
   "metadata": {},
   "outputs": [
    {
     "name": "stdout",
     "output_type": "stream",
     "text": [
      "\u001b[1;31mSignature:\u001b[0m \u001b[0misinstance\u001b[0m\u001b[1;33m(\u001b[0m\u001b[0mobj\u001b[0m\u001b[1;33m,\u001b[0m \u001b[0mclass_or_tuple\u001b[0m\u001b[1;33m,\u001b[0m \u001b[1;33m/\u001b[0m\u001b[1;33m)\u001b[0m\u001b[1;33m\u001b[0m\u001b[1;33m\u001b[0m\u001b[0m\n",
      "\u001b[1;31mDocstring:\u001b[0m\n",
      "Return whether an object is an instance of a class or of a subclass thereof.\n",
      "\n",
      "A tuple, as in ``isinstance(x, (A, B, ...))``, may be given as the target to\n",
      "check against. This is equivalent to ``isinstance(x, A) or isinstance(x, B)\n",
      "or ...`` etc.\n",
      "\u001b[1;31mType:\u001b[0m      builtin_function_or_method"
     ]
    }
   ],
   "source": [
    "isinstance?"
   ]
  },
  {
   "cell_type": "code",
   "execution_count": 13,
   "metadata": {},
   "outputs": [
    {
     "name": "stdout",
     "output_type": "stream",
     "text": [
      "안녕하세요! 가수 아이유입니다. \n",
      "데뷔한지 16년이 됐네요.\n"
     ]
    }
   ],
   "source": [
    "class Singer:\n",
    "    '''self는 자기자신을 가르키는 객체이기 때문에 인자로 패싱하지 않음.'''\n",
    "    # 속성 생성\n",
    "    def __init__(self, name, debut):\n",
    "        self.name = name\n",
    "        self.debut = debut\n",
    "\n",
    "    # 메소드 생성\n",
    "    def introduce(self):\n",
    "        print(f'안녕하세요! 가수 {self.name}입니다. ')\n",
    "        \n",
    "    def age(self):\n",
    "        print(f'데뷔한지 {2023 - self.debut + 1}년이 됐네요.')\n",
    "\n",
    "# Singer의 iyou 인스턴스 생성\n",
    "iyou = Singer('아이유', 2008)\n",
    "\n",
    "# Singer의 iyou 메소드 호출\n",
    "iyou.introduce()\n",
    "iyou.age()"
   ]
  },
  {
   "cell_type": "markdown",
   "metadata": {},
   "source": [
    "- 11.27 오류났던 상황\n",
    "    - iyou = Singer()   <- 인자 누락\n",
    "- 결과 : TypeError: Singer.__init__() missing 2 required positional arguments: 'name' and 'debut'"
   ]
  }
 ],
 "metadata": {
  "kernelspec": {
   "display_name": "Python 3",
   "language": "python",
   "name": "python3"
  },
  "language_info": {
   "codemirror_mode": {
    "name": "ipython",
    "version": 3
   },
   "file_extension": ".py",
   "mimetype": "text/x-python",
   "name": "python",
   "nbconvert_exporter": "python",
   "pygments_lexer": "ipython3",
   "version": "3.10.5"
  }
 },
 "nbformat": 4,
 "nbformat_minor": 2
}
