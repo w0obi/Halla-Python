{
 "cells": [
  {
   "cell_type": "markdown",
   "metadata": {},
   "source": [
    "- 클래스 생성시 자동으로 생성되는 속성 값(언더스코어로 이루어짐)\n",
    "-\n",
    "- obj = Object() 객체 생성 방법"
   ]
  },
  {
   "cell_type": "code",
   "execution_count": 12,
   "metadata": {},
   "outputs": [
    {
     "name": "stdout",
     "output_type": "stream",
     "text": [
      "홍길동 20\n",
      "홍길동가 인사합니다.\n"
     ]
    }
   ],
   "source": [
    "# 클래스 생성\n",
    "class Person():\n",
    "    pass\n",
    "    # 메소드 생성\n",
    "    def hello(self):\n",
    "        print(f'{self.name}가 인사합니다.')\n",
    "\n",
    "# 인스턴스 생성\n",
    "he = Person()\n",
    "\n",
    "he.name = '홍길동'\n",
    "he.age = 20\n",
    "\n",
    "print(he.name, he.age)\n",
    "\n",
    "# 메소드 호출\n",
    "he.hello()"
   ]
  },
  {
   "cell_type": "code",
   "execution_count": 5,
   "metadata": {},
   "outputs": [
    {
     "name": "stdout",
     "output_type": "stream",
     "text": [
      "\u001b[1;31mSignature:\u001b[0m \u001b[0misinstance\u001b[0m\u001b[1;33m(\u001b[0m\u001b[0mobj\u001b[0m\u001b[1;33m,\u001b[0m \u001b[0mclass_or_tuple\u001b[0m\u001b[1;33m,\u001b[0m \u001b[1;33m/\u001b[0m\u001b[1;33m)\u001b[0m\u001b[1;33m\u001b[0m\u001b[1;33m\u001b[0m\u001b[0m\n",
      "\u001b[1;31mDocstring:\u001b[0m\n",
      "Return whether an object is an instance of a class or of a subclass thereof.\n",
      "\n",
      "A tuple, as in ``isinstance(x, (A, B, ...))``, may be given as the target to\n",
      "check against. This is equivalent to ``isinstance(x, A) or isinstance(x, B)\n",
      "or ...`` etc.\n",
      "\u001b[1;31mType:\u001b[0m      builtin_function_or_method"
     ]
    }
   ],
   "source": [
    "isinstance?"
   ]
  },
  {
   "cell_type": "code",
   "execution_count": 16,
   "metadata": {},
   "outputs": [
    {
     "name": "stdout",
     "output_type": "stream",
     "text": [
      "안녕하세요! 가수 아이유입니다. \n",
      "데뷔한지 16년이 됐네요.\n"
     ]
    }
   ],
   "source": [
    "class Singer:\n",
    "    '''self는 객체 자신을 가리키는 참조임. argument passing Xs.'''\n",
    "    \n",
    "    # Singer 생성자, 클래스의 인스턴스가 생성될 때 자동 호출됨.\n",
    "    # name, debut 속성 생성\n",
    "    def __init__(self, name, debut):\n",
    "        self.name = name\n",
    "        self.debut = debut\n",
    "\n",
    "    # 가수의 소개를 출력하는 메소드\n",
    "    def introduce(self):\n",
    "        print(f'안녕하세요! 가수 {self.name}입니다. ')\n",
    "        \n",
    "    # 가수의 데뷔한지 지난 날짜를 출력하는 메소드\n",
    "    def age(self):\n",
    "        print(f'데뷔한지 {2023 - self.debut + 1}년이 됐네요.')\n",
    "\n",
    "# Singer의 iyou 인스턴스 생성\n",
    "# 변수에 클래스의 인스턴스를 할당\n",
    "iyou = Singer('아이유', 2008)\n",
    "\n",
    "# Singer의 iyou 메소드 호출\n",
    "iyou.introduce()\n",
    "iyou.age()"
   ]
  },
  {
   "cell_type": "markdown",
   "metadata": {},
   "source": [
    "- 11.27 오류났던 상황\n",
    "    - iyou = Singer()   <- 인자 누락\n",
    "- 결과 : TypeError: Singer.__init__() missing 2 required positional arguments: 'name' and 'debut'"
   ]
  },
  {
   "cell_type": "code",
   "execution_count": 13,
   "metadata": {},
   "outputs": [],
   "source": [
    "class Person:\n",
    "    '''사람을 표현하는 클래스'''\n",
    "one = Person()"
   ]
  },
  {
   "cell_type": "code",
   "execution_count": 14,
   "metadata": {},
   "outputs": [
    {
     "data": {
      "text/plain": [
       "mappingproxy({'__module__': '__main__',\n",
       "              '__doc__': '사람을 표현하는 클래스',\n",
       "              '__dict__': <attribute '__dict__' of 'Person' objects>,\n",
       "              '__weakref__': <attribute '__weakref__' of 'Person' objects>})"
      ]
     },
     "execution_count": 14,
     "metadata": {},
     "output_type": "execute_result"
    }
   ],
   "source": [
    "Person.__dict__"
   ]
  },
  {
   "cell_type": "markdown",
   "metadata": {},
   "source": [
    "- Mappingproxy는 collections모듈에 정의된 클래스\n",
    "- Mapping의 하위클래스, 키와 값의 쌍을 저장할 수 있음\n",
    "    - Mapping의 read-only버전\n",
    "    - fromkeys() 메소드는 키의 리스트를 인수로 받아 키와 기본값으로 구성된 Mappingproxy를 반환"
   ]
  },
  {
   "cell_type": "code",
   "execution_count": 15,
   "metadata": {},
   "outputs": [
    {
     "name": "stdout",
     "output_type": "stream",
     "text": [
      "\u001b[1;31mType:\u001b[0m        Person\n",
      "\u001b[1;31mString form:\u001b[0m <__main__.Person object at 0x0000026FFA40CDC0>\n",
      "\u001b[1;31mDocstring:\u001b[0m   사람을 표현하는 클래스"
     ]
    }
   ],
   "source": [
    "one?"
   ]
  },
  {
   "cell_type": "markdown",
   "metadata": {},
   "source": [
    "- `masic method`?\n",
    "    - __(double underscore)로 시작하고 종료하는 특수 메소드"
   ]
  },
  {
   "cell_type": "code",
   "execution_count": 24,
   "metadata": {},
   "outputs": [
    {
     "name": "stdout",
     "output_type": "stream",
     "text": [
      "1\n",
      "원 반지름: 2\n",
      "True\n"
     ]
    }
   ],
   "source": [
    "class Circle:\n",
    "    '''원을 표현하는 클래스 정의'''\n",
    "    # 메소드 인자의 기본값 지정\n",
    "    def __init__(self, radius = 1):\n",
    "        self.radius = radius\n",
    "\n",
    "    # 자기 자신 객체를 문자열로 표현하는 특수 메소드 __str__()\n",
    "    def __str__(self):\n",
    "        return f'원 반지름: {self.radius}'\n",
    "        \n",
    "    # 객체의 동등 비교 ==에 사용되는 특수 메소드 __eq__()\n",
    "    def __eq__(self, other):\n",
    "        if self.radius == other.radius:\n",
    "            return True\n",
    "        else:\n",
    "            return False\n",
    "    \n",
    "# 기본값 확인\n",
    "c = Circle()\n",
    "print(c.radius)\n",
    "\n",
    "# 객체 자체 출력하여 호출 확인\n",
    "cr = Circle(2)\n",
    "print(cr)\n",
    "\n",
    "c1 = Circle(10)\n",
    "c2 = Circle(20)\n",
    "c3 = Circle(10)\n",
    "print(c1 == c3)"
   ]
  },
  {
   "cell_type": "markdown",
   "metadata": {},
   "source": [
    "### magic method\n",
    "* * 클래스 외부에서 참조 불가(private)\n",
    "- init():** 생성자\n",
    "- repr():** 인스턴스를 문자열로 표현\n",
    "- str():** 인스턴스를 사람이 읽을 수 있는 문자열로 표현\n",
    "- eq():** 두 인스턴스가 같은지 비교\n",
    "- ne():** 두 인스턴스가 다른지 비교\n",
    "- lt():** 한 인스턴스가 다른 인스턴스보다 작은지 비교\n",
    "- le():** 한 인스턴스가 다른 인스턴스보다 작거나 같은지 비교\n",
    "- gt():** 한 인스턴스가 다른 인스턴스보다 큰지 비교\n",
    "- ge():** 한 인스턴스가 다른 인스턴스보다 크거나 같은지 비교\n",
    "- add():** 두 인스턴스를 더함\n",
    "- sub():** 두 인스턴스를 뺌\n",
    "- mul():** 두 인스턴스를 곱함\n",
    "- div():** 두 인스턴스를 나눔\n",
    "- floordiv():** 두 인스턴스를 나눈 몫\n",
    "- mod():** 두 인스턴스를 나눈 나머지\n",
    "- pow():** 두 인스턴스를 제곱함\n",
    "- lshift():** 한 인스턴스를 다른 인스턴스로 왼쪽으로 시프트함\n",
    "- rshift():** 한 인스턴스를 다른 인스턴스로 오른쪽으로 시프트함\n",
    "- and():** 두 인스턴스를 AND 연산함\n",
    "- or():** 두 인스턴스를 OR 연산함\n",
    "- xor():** 두 인스턴스를 XOR 연산함\n",
    "- neg():** 한 인스턴스를 부호 반전함\n",
    "- pos():** 한 인스턴스를 부호 유지함\n",
    "- abs():** 한 인스턴스의 절대값\n",
    "- invert():** 한 인스턴스의 비트 반전\n",
    "- round():** 한 인스턴스를 반올림\n",
    "- len():** 인스턴스의 길이\n",
    "- getitem():** 인덱스에 대한 인스턴스 요소에 액세스\n",
    "- setitem():** 인덱스에 대한 인스턴스 요소를 설정\n",
    "- delitem():** 인덱스에 대한 인스턴스 요소를 삭제\n",
    "- contains():** 인스턴스에 값이 포함되어 있는지 확인\n",
    "- call():** 인스턴스를 함수처럼 호출\n",
    "- getattr():** 인스턴스에서 속성에 액세스할 때 호출\n",
    "- setattr():** 인스턴스에서 속성에 값을 설정할 때 호출\n",
    "- delattr():** 인스턴스에서 속성을 삭제할 때 호출\n",
    "- new():** 인스턴스를 생성할 때 호출"
   ]
  },
  {
   "cell_type": "code",
   "execution_count": 25,
   "metadata": {},
   "outputs": [],
   "source": [
    "# 클래스 속성과 인스턴스 속성\n",
    "class Rectangle:\n",
    "    '''사각형을 표현하는 클래스 정의'''\n",
    "    # 클래스 속성\n",
    "    count = 0\n",
    "\n",
    "    def __init__(self):\n",
    "        # 클래스 속성 참조\n",
    "        Rectangle.count += 1\n",
    "\n",
    "    def __eq__(self, other):\n",
    "        # 인스턴스 속성 참조\n",
    "        # ++인스턴스 속성은 객체 변수로 참조++\n",
    "        if self.radius == other.radius:\n",
    "            return True"
   ]
  },
  {
   "cell_type": "code",
   "execution_count": 28,
   "metadata": {},
   "outputs": [
    {
     "name": "stdout",
     "output_type": "stream",
     "text": [
      "김영미\n"
     ]
    }
   ],
   "source": [
    "class Student:\n",
    "    def __init__(self, name, grade):\n",
    "        self.name = name\n",
    "        # 외부 참조 불가\n",
    "        self.__GPA = grade\n",
    "\n",
    "s = Student('김영미', 3.4)\n",
    "print(s.name)"
   ]
  },
  {
   "cell_type": "markdown",
   "metadata": {},
   "source": [
    "- 정적 메소드(static method)\n",
    "    - 객체 뿐만 아니라 클래스에서 직접 접근 가능\n",
    "    - @staticmethod 기술, 인자는 첫번째로 self없이 실제로 필요한 인자를 기술"
   ]
  },
  {
   "cell_type": "code",
   "execution_count": 36,
   "metadata": {},
   "outputs": [
    {
     "name": "stdout",
     "output_type": "stream",
     "text": [
      "86.00\n",
      "95.00\n"
     ]
    }
   ],
   "source": [
    "class Degree:\n",
    "    @staticmethod\n",
    "    def tofahrenhite(celsius):\n",
    "        return celsius * 1.8 + 32\n",
    "\n",
    "print(f'{Degree.tofahrenhite(30):.2f}')\n",
    "d = Degree()\n",
    "print(f'{d.tofahrenhite(35):.2f}')\n"
   ]
  },
  {
   "cell_type": "code",
   "execution_count": 38,
   "metadata": {},
   "outputs": [
    {
     "name": "stdout",
     "output_type": "stream",
     "text": [
      "Help on class object in module builtins:\n",
      "\n",
      "class object\n",
      " |  The base class of the class hierarchy.\n",
      " |  \n",
      " |  When called, it accepts no arguments and returns a new featureless\n",
      " |  instance that has no instance attributes and cannot be given any.\n",
      " |  \n",
      " |  Built-in subclasses:\n",
      " |      anext_awaitable\n",
      " |      ArgNotFound\n",
      " |      async_generator\n",
      " |      async_generator_asend\n",
      " |      ... and 111 other subclasses\n",
      " |  \n",
      " |  Methods defined here:\n",
      " |  \n",
      " |  __delattr__(self, name, /)\n",
      " |      Implement delattr(self, name).\n",
      " |  \n",
      " |  __dir__(self, /)\n",
      " |      Default dir() implementation.\n",
      " |  \n",
      " |  __eq__(self, value, /)\n",
      " |      Return self==value.\n",
      " |  \n",
      " |  __format__(self, format_spec, /)\n",
      " |      Default object formatter.\n",
      " |  \n",
      " |  __ge__(self, value, /)\n",
      " |      Return self>=value.\n",
      " |  \n",
      " |  __getattribute__(self, name, /)\n",
      " |      Return getattr(self, name).\n",
      " |  \n",
      " |  __gt__(self, value, /)\n",
      " |      Return self>value.\n",
      " |  \n",
      " |  __hash__(self, /)\n",
      " |      Return hash(self).\n",
      " |  \n",
      " |  __init__(self, /, *args, **kwargs)\n",
      " |      Initialize self.  See help(type(self)) for accurate signature.\n",
      " |  \n",
      " |  __le__(self, value, /)\n",
      " |      Return self<=value.\n",
      " |  \n",
      " |  __lt__(self, value, /)\n",
      " |      Return self<value.\n",
      " |  \n",
      " |  __ne__(self, value, /)\n",
      " |      Return self!=value.\n",
      " |  \n",
      " |  __reduce__(self, /)\n",
      " |      Helper for pickle.\n",
      " |  \n",
      " |  __reduce_ex__(self, protocol, /)\n",
      " |      Helper for pickle.\n",
      " |  \n",
      " |  __repr__(self, /)\n",
      " |      Return repr(self).\n",
      " |  \n",
      " |  __setattr__(self, name, value, /)\n",
      " |      Implement setattr(self, name, value).\n",
      " |  \n",
      " |  __sizeof__(self, /)\n",
      " |      Size of object in memory, in bytes.\n",
      " |  \n",
      " |  __str__(self, /)\n",
      " |      Return str(self).\n",
      " |  \n",
      " |  ----------------------------------------------------------------------\n",
      " |  Class methods defined here:\n",
      " |  \n",
      " |  __init_subclass__(...) from builtins.type\n",
      " |      This method is called when a class is subclassed.\n",
      " |      \n",
      " |      The default implementation does nothing. It may be\n",
      " |      overridden to extend subclasses.\n",
      " |  \n",
      " |  __subclasshook__(...) from builtins.type\n",
      " |      Abstract classes can override this to customize issubclass().\n",
      " |      \n",
      " |      This is invoked early on by abc.ABCMeta.__subclasscheck__().\n",
      " |      It should return True, False or NotImplemented.  If it returns\n",
      " |      NotImplemented, the normal algorithm is used.  Otherwise, it\n",
      " |      overrides the normal algorithm (and the outcome is cached).\n",
      " |  \n",
      " |  ----------------------------------------------------------------------\n",
      " |  Static methods defined here:\n",
      " |  \n",
      " |  __new__(*args, **kwargs) from builtins.type\n",
      " |      Create and return a new object.  See help(type) for accurate signature.\n",
      " |  \n",
      " |  ----------------------------------------------------------------------\n",
      " |  Data and other attributes defined here:\n",
      " |  \n",
      " |  __class__ = <class 'type'>\n",
      " |      type(object) -> the object's type\n",
      " |      type(name, bases, dict, **kwds) -> a new type\n",
      "\n"
     ]
    }
   ],
   "source": [
    "help(object)"
   ]
  },
  {
   "cell_type": "code",
   "execution_count": 41,
   "metadata": {},
   "outputs": [
    {
     "name": "stdout",
     "output_type": "stream",
     "text": [
      "전 로봇입니다.\n",
      "전 사람처럼 말을 할 수 있습니다.\n"
     ]
    }
   ],
   "source": [
    "class Robot:\n",
    "    def hello(self):\n",
    "        print(f'전 로봇입니다.')\n",
    "\n",
    "# 부모 클래스의 속성과 메소드를 그대로 물려받음\n",
    "class HumanoidRobot(Robot):\n",
    "    def speak(self):\n",
    "        print(f'전 사람처럼 말을 할 수 있습니다.')\n",
    "\n",
    "hr = HumanoidRobot()\n",
    "hr.hello()\n",
    "hr.speak()"
   ]
  },
  {
   "cell_type": "markdown",
   "metadata": {},
   "source": [
    "### 다중 상속(Multiple inheritance)\n",
    "- diamond inheritance problem 발생할 수 있음\n",
    "- 다이아몬드 상속 문제는 하나의 클래스가 두 개의 상위 클래스를 상속받고, 두 상위 클래스가 동일한 하위 클래스를 상속받는 경우에 발생합니다. 이 경우, 하위 클래스는 두 개의 상위 클래스로부터 동일한 메서드를 상속받게 됩니다. 이 경우, 어떤 메서드를 호출할지 결정해야 합니다.\n",
    "\n",
    "- 다중 상속을 사용할 때는 다이아몬드 상속 문제를 고려해야 합니다. 다이아몬드 상속 문제를 해결하기 위해서는 다음과 같은 방법을 사용할 수 있습니다.\n",
    "\n",
    "    - 조상 클래스에서 메서드를 오버라이딩합니다.\n",
    "    - 인터페이스를 사용하여 상속을 구현합니다.\n",
    "    - 믹스인 클래스를 사용하여 상속을 구현합니다."
   ]
  },
  {
   "cell_type": "code",
   "execution_count": 43,
   "metadata": {},
   "outputs": [
    {
     "name": "stdout",
     "output_type": "stream",
     "text": [
      "i'm a student who studies.\n",
      "i'm a working employee.\n"
     ]
    }
   ],
   "source": [
    "class Student():\n",
    "    def study(self):\n",
    "        print('i\\'m a student who studies.')\n",
    "\n",
    "class Employee():\n",
    "    def work(self):\n",
    "        print('i\\'m a working employee.')\n",
    "\n",
    "class Assistant(Student, Employee):\n",
    "    def do(self):\n",
    "        self.study()\n",
    "        self.work()\n",
    "\n",
    "i = Assistant()\n",
    "i.do()"
   ]
  },
  {
   "cell_type": "code",
   "execution_count": 47,
   "metadata": {},
   "outputs": [
    {
     "name": "stdout",
     "output_type": "stream",
     "text": [
      "삼각형 면적: 5.16\n"
     ]
    }
   ],
   "source": [
    "from abc import *\n",
    "\n",
    "class Polygon(metaclass = ABCMeta):\n",
    "    @abstractmethod\n",
    "    # 추상 메소드\n",
    "    def area(self):\n",
    "        pass\n",
    "\n",
    "\n",
    "class Triangle(Polygon):\n",
    "    def __init__(self, width, height):\n",
    "        self.width = width\n",
    "        self.height = height\n",
    "\n",
    "    # 부모 클래스의 추상 메소드를 구현\n",
    "    def area(self):\n",
    "        return self.width * self.height / 2\n",
    "\n",
    "tri = Triangle(2.4, 4.3)\n",
    "print(f'삼각형 면적: {tri.area():.2f}')"
   ]
  },
  {
   "cell_type": "markdown",
   "metadata": {},
   "source": [
    "### 추상 메소드(Abstract)\n",
    "- 인스턴스를 생성할 수 없음\n",
    "    - 추상 클래스는 new 연산자를 사용하여 인스턴스를 생성할 수 없습니다"
   ]
  }
 ],
 "metadata": {
  "kernelspec": {
   "display_name": "Python 3",
   "language": "python",
   "name": "python3"
  },
  "language_info": {
   "codemirror_mode": {
    "name": "ipython",
    "version": 3
   },
   "file_extension": ".py",
   "mimetype": "text/x-python",
   "name": "python",
   "nbconvert_exporter": "python",
   "pygments_lexer": "ipython3",
   "version": "3.10.5"
  }
 },
 "nbformat": 4,
 "nbformat_minor": 2
}
