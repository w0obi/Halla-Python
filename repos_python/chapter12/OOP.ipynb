{
 "cells": [
  {
   "cell_type": "markdown",
   "metadata": {},
   "source": [
    "- 초기화 메소드 : 클래스 생성시 자동으로 생성되는 속성 값(언더스코어로 이루어짐)\n",
    "- 객체를 생성하는 방법\n",
    "    * `obj = Object()`"
   ]
  },
  {
   "cell_type": "code",
   "execution_count": 16,
   "metadata": {},
   "outputs": [
    {
     "name": "stdout",
     "output_type": "stream",
     "text": [
      "홍길동 20\n",
      "홍길동가 인사합니다.\n"
     ]
    }
   ],
   "source": [
    "# 클래스 생성\n",
    "class Person():\n",
    "    # 생성자\n",
    "    def __init__(self, name = '홍길동', age = 20):\n",
    "        self.name = name\n",
    "        self.age = age\n",
    "    \n",
    "    # 메소드 생성\n",
    "    def hello(self):\n",
    "        print(f'{self.name}가 인사합니다.')\n",
    "\n",
    "# 인자가 없는 초기화 메소드 호출은\n",
    "# name에 홍길동이 저장된 것을 확인할수 있음\n",
    "he = Person()\n",
    "print(he.name, he.age)\n",
    "\n",
    "# 메소드 호출\n",
    "he.hello()"
   ]
  },
  {
   "cell_type": "markdown",
   "metadata": {},
   "source": [
    "- 객체의 클래스 여부를 확인하는 내장 함수 `isinstance`"
   ]
  },
  {
   "cell_type": "code",
   "execution_count": 5,
   "metadata": {},
   "outputs": [
    {
     "name": "stdout",
     "output_type": "stream",
     "text": [
      "\u001b[1;31mSignature:\u001b[0m \u001b[0misinstance\u001b[0m\u001b[1;33m(\u001b[0m\u001b[0mobj\u001b[0m\u001b[1;33m,\u001b[0m \u001b[0mclass_or_tuple\u001b[0m\u001b[1;33m,\u001b[0m \u001b[1;33m/\u001b[0m\u001b[1;33m)\u001b[0m\u001b[1;33m\u001b[0m\u001b[1;33m\u001b[0m\u001b[0m\n",
      "\u001b[1;31mDocstring:\u001b[0m\n",
      "Return whether an object is an instance of a class or of a subclass thereof.\n",
      "\n",
      "A tuple, as in ``isinstance(x, (A, B, ...))``, may be given as the target to\n",
      "check against. This is equivalent to ``isinstance(x, A) or isinstance(x, B)\n",
      "or ...`` etc.\n",
      "\u001b[1;31mType:\u001b[0m      builtin_function_or_method"
     ]
    }
   ],
   "source": [
    "isinstance?"
   ]
  },
  {
   "cell_type": "code",
   "execution_count": 24,
   "metadata": {},
   "outputs": [
    {
     "name": "stdout",
     "output_type": "stream",
     "text": [
      "홍길동 20\n",
      "홍길동이 인사합니다.\n",
      "True\n",
      "\n",
      "신입생 19\n",
      "신입생이 인사합니다.\n",
      "False\n"
     ]
    }
   ],
   "source": [
    "# 클래스 생성\n",
    "class Person():\n",
    "    def __init__(self, name, age):\n",
    "        self.name = name\n",
    "        self.age = age\n",
    "    def hello(self):\n",
    "        print(f'{self.name}이 인사합니다.')\n",
    "# 인스턴스 생성과 인자 할당\n",
    "he = Person('홍길동', 20)\n",
    "print(he.name, he.age)\n",
    "# 메소드 호출\n",
    "he.hello()\n",
    "print(isinstance(he, Person))\n",
    "print()\n",
    "\n",
    "class Student:\n",
    "    def __init__(self, name, age):\n",
    "        self.name = name\n",
    "        self.age = age\n",
    "    def hello(self):\n",
    "        print(f'{self.name}이 인사합니다.')\n",
    "\n",
    "she = Student('신입생', 19)\n",
    "print(she.name, she.age)\n",
    "she.hello()\n",
    "print(isinstance(she, Person))"
   ]
  },
  {
   "cell_type": "code",
   "execution_count": 25,
   "metadata": {},
   "outputs": [
    {
     "name": "stdout",
     "output_type": "stream",
     "text": [
      "안녕하세요! 가수 아이유입니다. \n",
      "데뷔한지 16년이 됐네요.\n"
     ]
    }
   ],
   "source": [
    "class Singer:\n",
    "    '''self는 객체 자신을 가리키는 참조임. argument passing X.'''\n",
    "    \n",
    "    # Singer 생성자, 클래스의 인스턴스가 생성될 때 자동 호출됨.\n",
    "    # name, debut 속성 생성\n",
    "    def __init__(self, name, debut):\n",
    "        self.name = name\n",
    "        self.debut = debut\n",
    "\n",
    "    # 가수의 소개를 출력하는 메소드\n",
    "    def introduce(self):\n",
    "        print(f'안녕하세요! 가수 {self.name}입니다. ')\n",
    "        \n",
    "    # 가수의 데뷔한지 지난 날짜를 출력하는 메소드\n",
    "    def age(self):\n",
    "        print(f'데뷔한지 {2023 - self.debut + 1}년이 됐네요.')\n",
    "\n",
    "# Singer의 iyou 인스턴스 생성\n",
    "# 변수에 클래스의 인스턴스를 할당\n",
    "iyou = Singer('아이유', 2008)\n",
    "\n",
    "# Singer의 iyou 메소드 호출\n",
    "iyou.introduce()\n",
    "iyou.age()"
   ]
  },
  {
   "cell_type": "markdown",
   "metadata": {},
   "source": [
    "- 11.27 오류났던 상황\n",
    "    - iyou = Singer()   <- 인자 누락\n",
    "- 결과 : TypeError: Singer.__init__() missing 2 required positional arguments: 'name' and 'debut'"
   ]
  },
  {
   "cell_type": "code",
   "execution_count": 13,
   "metadata": {},
   "outputs": [],
   "source": [
    "class Person:\n",
    "    '''사람을 표현하는 클래스'''\n",
    "one = Person()"
   ]
  },
  {
   "cell_type": "code",
   "execution_count": 14,
   "metadata": {},
   "outputs": [
    {
     "data": {
      "text/plain": [
       "mappingproxy({'__module__': '__main__',\n",
       "              '__doc__': '사람을 표현하는 클래스',\n",
       "              '__dict__': <attribute '__dict__' of 'Person' objects>,\n",
       "              '__weakref__': <attribute '__weakref__' of 'Person' objects>})"
      ]
     },
     "execution_count": 14,
     "metadata": {},
     "output_type": "execute_result"
    }
   ],
   "source": [
    "Person.__dict__"
   ]
  },
  {
   "cell_type": "markdown",
   "metadata": {},
   "source": [
    "- Mappingproxy는 collections모듈에 정의된 클래스\n",
    "- Mapping의 하위클래스, 키와 값의 쌍을 저장할 수 있음\n",
    "    - Mapping의 read-only버전\n",
    "    - fromkeys() 메소드는 키의 리스트를 인수로 받아 키와 기본값으로 구성된 Mappingproxy를 반환"
   ]
  },
  {
   "cell_type": "code",
   "execution_count": 15,
   "metadata": {},
   "outputs": [
    {
     "name": "stdout",
     "output_type": "stream",
     "text": [
      "\u001b[1;31mType:\u001b[0m        Person\n",
      "\u001b[1;31mString form:\u001b[0m <__main__.Person object at 0x0000026FFA40CDC0>\n",
      "\u001b[1;31mDocstring:\u001b[0m   사람을 표현하는 클래스"
     ]
    }
   ],
   "source": [
    "one?"
   ]
  },
  {
   "cell_type": "markdown",
   "metadata": {},
   "source": [
    "- `masic method`?\n",
    "    - __(double underscore)로 시작하고 종료하는 특수 메소드"
   ]
  },
  {
   "cell_type": "markdown",
   "metadata": {},
   "source": [
    "- 더블 언더스코어는 외부에서 참조할 수 없도록 감춤."
   ]
  },
  {
   "cell_type": "code",
   "execution_count": 28,
   "metadata": {},
   "outputs": [
    {
     "name": "stdout",
     "output_type": "stream",
     "text": [
      "1\n",
      "2\n",
      "False\n"
     ]
    }
   ],
   "source": [
    "class Circle:\n",
    "    def __init__(self, radius = 1):\n",
    "        self.radius = radius\n",
    "# 기본값 확인\n",
    "c = Circle()\n",
    "print(c.radius)\n",
    "\n",
    "# 객체 자체 출력하여 호출 확인\n",
    "cr = Circle(2)\n",
    "print(cr.radius)\n",
    "\n",
    "print(c == cr)"
   ]
  },
  {
   "cell_type": "code",
   "execution_count": 32,
   "metadata": {},
   "outputs": [
    {
     "name": "stdout",
     "output_type": "stream",
     "text": [
      "원 반지름: 10.00\n",
      "원 면적: 314.00\n",
      "원 둘레: 62.80\n",
      "원 반지름: 10\n",
      "False\n",
      "True\n"
     ]
    }
   ],
   "source": [
    "# 특수메소드 익히기\n",
    "class Circle:\n",
    "    '''원을 표현하는 클래스 정의'''\n",
    "    # 메소드 인자의 기본값 지정\n",
    "    def __init__(self, radius = 1):\n",
    "        self.radius = radius\n",
    "\n",
    "    # def __str__(self) -> str: 이 메소드는 객체에 의해 호출됨.\n",
    "    # 자기 자신 객체를 문자열로 표현하는 특수 메소드 __str__()\n",
    "    def __str__(self):\n",
    "        return f'원 반지름: {self.radius}'\n",
    "        \n",
    "    # def __eq__(self, other) -> bool: 이 메소드는 self==other의 의미를 구현해 논리값을 반환함\n",
    "    # 객체의 동등 비교 ==에 사용되는 특수 메소드 __eq__()\n",
    "    def __eq__(self, other):\n",
    "        if self.radius == other.radius:\n",
    "            return True\n",
    "        else:\n",
    "            return False\n",
    "            \n",
    "    def setradius(self, radius):\n",
    "        self.radius = radius\n",
    "\n",
    "    def getradius(self):\n",
    "        return self.radius\n",
    "    \n",
    "    def area(self):\n",
    "        return self.radius * self.radius * 3.14\n",
    "    \n",
    "    def perimeter(self):\n",
    "        return 2 * self.radius * 3.14\n",
    "        \n",
    "# 객체 자체 출력하여 호출 확인\n",
    "c1 = Circle(10)\n",
    "print(f'원 반지름: {c1.getradius():.2f}')\n",
    "print(f'원 면적: {c1.area():.2f}')\n",
    "print(f'원 둘레: {c1.perimeter():.2f}')\n",
    "print(c1)\n",
    "\n",
    "c2 = Circle()\n",
    "c2.setradius(20)\n",
    "c3 = Circle(10)\n",
    "print(c1 == c2)\n",
    "print(c1 == c3)"
   ]
  },
  {
   "cell_type": "markdown",
   "metadata": {},
   "source": [
    "### magic method\n",
    "* 클래스 외부에서 참조 불가(private)\n",
    "    - https://www.tutorialsteacher.com/python/magic-methods-in-python"
   ]
  },
  {
   "cell_type": "code",
   "execution_count": 25,
   "metadata": {},
   "outputs": [],
   "source": [
    "# 클래스 속성과 인스턴스 속성\n",
    "class Rectangle:\n",
    "    '''사각형을 표현하는 클래스 정의'''\n",
    "    # 클래스 속성\n",
    "    count = 0\n",
    "\n",
    "    def __init__(self):\n",
    "        # 클래스 속성 참조\n",
    "        Rectangle.count += 1\n",
    "\n",
    "    def __eq__(self, other):\n",
    "        # 인스턴스 속성 참조\n",
    "        # ++인스턴스 속성은 객체 변수로 참조++\n",
    "        if self.radius == other.radius:\n",
    "            return True"
   ]
  },
  {
   "cell_type": "code",
   "execution_count": 5,
   "metadata": {},
   "outputs": [
    {
     "name": "stdout",
     "output_type": "stream",
     "text": [
      "김영미\n"
     ]
    }
   ],
   "source": [
    "class Student:\n",
    "    def __init__(self, name, grade):\n",
    "        self.name = name\n",
    "        # 외부 참조 불가 Grade Point Average\n",
    "        self.__GPA = grade\n",
    "\n",
    "s = Student('김영미', 3.4)\n",
    "print(s.name)\n",
    "# print(s.__GPA)    #참조 불가능, 오류 발생"
   ]
  },
  {
   "cell_type": "markdown",
   "metadata": {},
   "source": [
    "- 정적 메소드(static method)\n",
    "    - 객체 뿐만 아니라 클래스에서 직접 접근 가능\n",
    "    - @staticmethod 기술, 인자는 첫번째로 self없이 실제로 필요한 인자를 기술"
   ]
  },
  {
   "cell_type": "code",
   "execution_count": 2,
   "metadata": {},
   "outputs": [
    {
     "name": "stdout",
     "output_type": "stream",
     "text": [
      "86.00\n",
      "30.00\n"
     ]
    }
   ],
   "source": [
    "class Degree:\n",
    "    @staticmethod\n",
    "    def tofahrenhite(celsius):\n",
    "        return celsius * 1.8 + 32\n",
    "    @staticmethod\n",
    "    def tocelsius(farhrenhite):\n",
    "        return (farhrenhite - 32) / 1.8\n",
    "# 정적메소드는 객체뿐 아니라 클래스로도 호출(접근) 가능\n",
    "print(f'{Degree.tofahrenhite(30):.2f}')\n",
    "# 인스턴스 생성\n",
    "d = Degree()\n",
    "print(f'{d.tocelsius(86):.2f}')"
   ]
  },
  {
   "cell_type": "markdown",
   "metadata": {},
   "source": [
    "- 면적, 둘레\n",
    "- 클래스에서 cls는 객체 자신을 가리키는 참조임"
   ]
  },
  {
   "cell_type": "markdown",
   "metadata": {},
   "source": [
    "- 클래스 변수는 주어진 매개변수로 바꿀 것.\n",
    "    - 클래스 변수 값 초기화\n",
    "    - 모든 인스턴스에서 공유할 변수\n",
    "\n",
    "- 클래스 메소드에 바인딩되며, 모든 인스턴스가 공유하는 변수를 변경"
   ]
  },
  {
   "cell_type": "code",
   "execution_count": null,
   "metadata": {},
   "outputs": [
    {
     "name": "stdout",
     "output_type": "stream",
     "text": [
      "\u001b[1;31mInit signature:\u001b[0m \u001b[0mclassmethod\u001b[0m\u001b[1;33m(\u001b[0m\u001b[0mself\u001b[0m\u001b[1;33m,\u001b[0m \u001b[1;33m/\u001b[0m\u001b[1;33m,\u001b[0m \u001b[1;33m*\u001b[0m\u001b[0margs\u001b[0m\u001b[1;33m,\u001b[0m \u001b[1;33m**\u001b[0m\u001b[0mkwargs\u001b[0m\u001b[1;33m)\u001b[0m\u001b[1;33m\u001b[0m\u001b[1;33m\u001b[0m\u001b[0m\n",
      "\u001b[1;31mDocstring:\u001b[0m     \n",
      "classmethod(function) -> method\n",
      "\n",
      "Convert a function to be a class method.\n",
      "\n",
      "A class method receives the class as implicit first argument,\n",
      "just like an instance method receives the instance.\n",
      "To declare a class method, use this idiom:\n",
      "\n",
      "  class C:\n",
      "      @classmethod\n",
      "      def f(cls, arg1, arg2, ...):\n",
      "          ...\n",
      "\n",
      "It can be called either on the class (e.g. C.f()) or on an instance\n",
      "(e.g. C().f()).  The instance is ignored except for its class.\n",
      "If a class method is called for a derived class, the derived class\n",
      "object is passed as the implied first argument.\n",
      "\n",
      "Class methods are different than C++ or Java static methods.\n",
      "If you want those, see the staticmethod builtin.\n",
      "\u001b[1;31mType:\u001b[0m           type\n",
      "\u001b[1;31mSubclasses:\u001b[0m     abstractclassmethod"
     ]
    }
   ],
   "source": [
    "@classmethod?"
   ]
  },
  {
   "cell_type": "code",
   "execution_count": 10,
   "metadata": {},
   "outputs": [
    {
     "name": "stdout",
     "output_type": "stream",
     "text": [
      "Total:  0\n"
     ]
    }
   ],
   "source": [
    "class MyClass:\n",
    "\t@classmethod\n",
    "\tdef myclass(cls):\n",
    "\t\tprint('Class method called')\n",
    "\n",
    "class ParentClass():\n",
    "    \n",
    "    TOTAL = 0\n",
    "    \n",
    "    def __init__(self):\n",
    "        ParentClass.TOTAL = ParentClass.TOTAL+1\n",
    "       \n",
    "    @classmethod\n",
    "    def get_total(cls):\n",
    "        print(\"Total: \",cls.TOTAL)\n",
    "\n",
    "# Creating objects of parent class       \n",
    "parent1 = MyClass()  # Total: 1\n",
    "parent2 = MyClass()  # Total: 2\n",
    "\n",
    "# Creating a child class\n",
    "class ChildClass(ParentClass):\n",
    "    # Overridg\n",
    "    TOTAL = 0    \n",
    "    pass\n",
    "\n",
    "ChildClass.get_total()  # Total: 0"
   ]
  },
  {
   "cell_type": "code",
   "execution_count": 38,
   "metadata": {},
   "outputs": [
    {
     "name": "stdout",
     "output_type": "stream",
     "text": [
      "Help on class object in module builtins:\n",
      "\n",
      "class object\n",
      " |  The base class of the class hierarchy.\n",
      " |  \n",
      " |  When called, it accepts no arguments and returns a new featureless\n",
      " |  instance that has no instance attributes and cannot be given any.\n",
      " |  \n",
      " |  Built-in subclasses:\n",
      " |      anext_awaitable\n",
      " |      ArgNotFound\n",
      " |      async_generator\n",
      " |      async_generator_asend\n",
      " |      ... and 111 other subclasses\n",
      " |  \n",
      " |  Methods defined here:\n",
      " |  \n",
      " |  __delattr__(self, name, /)\n",
      " |      Implement delattr(self, name).\n",
      " |  \n",
      " |  __dir__(self, /)\n",
      " |      Default dir() implementation.\n",
      " |  \n",
      " |  __eq__(self, value, /)\n",
      " |      Return self==value.\n",
      " |  \n",
      " |  __format__(self, format_spec, /)\n",
      " |      Default object formatter.\n",
      " |  \n",
      " |  __ge__(self, value, /)\n",
      " |      Return self>=value.\n",
      " |  \n",
      " |  __getattribute__(self, name, /)\n",
      " |      Return getattr(self, name).\n",
      " |  \n",
      " |  __gt__(self, value, /)\n",
      " |      Return self>value.\n",
      " |  \n",
      " |  __hash__(self, /)\n",
      " |      Return hash(self).\n",
      " |  \n",
      " |  __init__(self, /, *args, **kwargs)\n",
      " |      Initialize self.  See help(type(self)) for accurate signature.\n",
      " |  \n",
      " |  __le__(self, value, /)\n",
      " |      Return self<=value.\n",
      " |  \n",
      " |  __lt__(self, value, /)\n",
      " |      Return self<value.\n",
      " |  \n",
      " |  __ne__(self, value, /)\n",
      " |      Return self!=value.\n",
      " |  \n",
      " |  __reduce__(self, /)\n",
      " |      Helper for pickle.\n",
      " |  \n",
      " |  __reduce_ex__(self, protocol, /)\n",
      " |      Helper for pickle.\n",
      " |  \n",
      " |  __repr__(self, /)\n",
      " |      Return repr(self).\n",
      " |  \n",
      " |  __setattr__(self, name, value, /)\n",
      " |      Implement setattr(self, name, value).\n",
      " |  \n",
      " |  __sizeof__(self, /)\n",
      " |      Size of object in memory, in bytes.\n",
      " |  \n",
      " |  __str__(self, /)\n",
      " |      Return str(self).\n",
      " |  \n",
      " |  ----------------------------------------------------------------------\n",
      " |  Class methods defined here:\n",
      " |  \n",
      " |  __init_subclass__(...) from builtins.type\n",
      " |      This method is called when a class is subclassed.\n",
      " |      \n",
      " |      The default implementation does nothing. It may be\n",
      " |      overridden to extend subclasses.\n",
      " |  \n",
      " |  __subclasshook__(...) from builtins.type\n",
      " |      Abstract classes can override this to customize issubclass().\n",
      " |      \n",
      " |      This is invoked early on by abc.ABCMeta.__subclasscheck__().\n",
      " |      It should return True, False or NotImplemented.  If it returns\n",
      " |      NotImplemented, the normal algorithm is used.  Otherwise, it\n",
      " |      overrides the normal algorithm (and the outcome is cached).\n",
      " |  \n",
      " |  ----------------------------------------------------------------------\n",
      " |  Static methods defined here:\n",
      " |  \n",
      " |  __new__(*args, **kwargs) from builtins.type\n",
      " |      Create and return a new object.  See help(type) for accurate signature.\n",
      " |  \n",
      " |  ----------------------------------------------------------------------\n",
      " |  Data and other attributes defined here:\n",
      " |  \n",
      " |  __class__ = <class 'type'>\n",
      " |      type(object) -> the object's type\n",
      " |      type(name, bases, dict, **kwds) -> a new type\n",
      "\n"
     ]
    }
   ],
   "source": [
    "help(object)"
   ]
  },
  {
   "cell_type": "code",
   "execution_count": 41,
   "metadata": {},
   "outputs": [
    {
     "name": "stdout",
     "output_type": "stream",
     "text": [
      "전 로봇입니다.\n",
      "전 사람처럼 말을 할 수 있습니다.\n"
     ]
    }
   ],
   "source": [
    "class Robot:\n",
    "    def hello(self):\n",
    "        print(f'전 로봇입니다.')\n",
    "\n",
    "# 부모 클래스의 속성과 메소드를 그대로 물려받음\n",
    "class HumanoidRobot(Robot):\n",
    "    def speak(self):\n",
    "        print(f'전 사람처럼 말을 할 수 있습니다.')\n",
    "\n",
    "hr = HumanoidRobot()\n",
    "hr.hello()\n",
    "hr.speak()"
   ]
  },
  {
   "cell_type": "code",
   "execution_count": 12,
   "metadata": {},
   "outputs": [
    {
     "name": "stdout",
     "output_type": "stream",
     "text": [
      "전 로봇으로 인간에게 해를 입혀서는 안됩니다.\n",
      "전 로봇입니다.\n",
      "아시모는 사람처럼 말을 할 수 있습니다.\n"
     ]
    }
   ],
   "source": [
    "class Robot():\n",
    "    def __init__(self):\n",
    "        self.laws = '인간에게 해를 입혀서는 안됩니다.'\n",
    "\n",
    "    def hello(self):\n",
    "        print('전 로봇입니다.')\n",
    "    \n",
    "    def __str__(self):\n",
    "        return '전 로봇으로 ' + self.laws\n",
    "\n",
    "class HumanoidRobot(Robot):\n",
    "    def __init__(self, name):\n",
    "        self.name = name\n",
    "        \n",
    "    def speak(self):\n",
    "        print(f'{self.name}는 사람처럼 말을 할 수 있습니다.')\n",
    "\n",
    "roboi = Robot()\n",
    "print(roboi)\n",
    "\n",
    "hr = HumanoidRobot('아시모')\n",
    "hr.hello()\n",
    "hr.speak()"
   ]
  },
  {
   "cell_type": "code",
   "execution_count": 20,
   "metadata": {},
   "outputs": [
    {
     "name": "stdout",
     "output_type": "stream",
     "text": [
      "안녕하세요! 가수 BTS입니다. \n",
      "우린 Kpop 그룹으로 7명 입니다.\n",
      "데뷔한지 11년이 됐네요.\n"
     ]
    }
   ],
   "source": [
    "class Singer:\n",
    "    def __init__(self, name, debut):\n",
    "        self.name = name\n",
    "        self.debut = debut\n",
    "\n",
    "    def introduce(self):\n",
    "        print(f'안녕하세요! 가수 {self.name}입니다. ')\n",
    "        \n",
    "    def age(self):\n",
    "        print(f'데뷔한지 {2023 - self.debut + 1}년이 됐네요.')\n",
    "\n",
    "class KpopGroup(Singer):\n",
    "    def __init__(self, name, debut, cnt):\n",
    "        super().__init__(name, debut)   # 부모의 초기화 메소드 호출\n",
    "        self.cnt = cnt\n",
    "\n",
    "    def introduce(self):\n",
    "        super().introduce()\n",
    "        print(f'우린 Kpop 그룹으로 {self.cnt}명 입니다.')\n",
    "bts = KpopGroup('BTS', 2013, 7)\n",
    "bts.introduce()\n",
    "bts.age()"
   ]
  },
  {
   "cell_type": "code",
   "execution_count": null,
   "metadata": {},
   "outputs": [
    {
     "name": "stdout",
     "output_type": "stream",
     "text": [
      "안녕 난 사람이야\n",
      "안녕 난 학생이야\n",
      "안녕 난 직원이야\n"
     ]
    }
   ],
   "source": [
    "class Person:\n",
    "    def A(self):\n",
    "        print(f'안녕 난 사람이야')\n",
    "\n",
    "# Person클래스 상속받음\n",
    "class Student(Person):\n",
    "    def B(A):\n",
    "        super().A()\n",
    "        print(f'안녕 난 학생이야')\n",
    "\n",
    "# Student클래스 상속받음\n",
    "class Employee(Student):\n",
    "    def C(B):\n",
    "        # Student클래스의 B메소드를 호출\n",
    "        super().B()\n",
    "        print(f'안녕 난 직원이야')\n",
    "\n",
    "# 인스턴스 생성\n",
    "d = Employee()\n",
    "# 메소드 호출\n",
    "d.C()"
   ]
  },
  {
   "cell_type": "markdown",
   "metadata": {},
   "source": [
    "- 다중 상속 사용시 메소드가 중복됨\n",
    "- MRO\n",
    "    - 다중 상속인 경우 왼쪽에서 시작"
   ]
  },
  {
   "cell_type": "code",
   "execution_count": 13,
   "metadata": {},
   "outputs": [
    {
     "name": "stdout",
     "output_type": "stream",
     "text": [
      "i'm a student who studies.\n",
      "i'm a working employee.\n",
      "[<class '__main__.Assistant'>, <class '__main__.Student'>, <class '__main__.Employee'>, <class 'object'>]\n"
     ]
    }
   ],
   "source": [
    "class Student():\n",
    "    def study(self):\n",
    "        print('i\\'m a student who studies.')\n",
    "\n",
    "class Employee():\n",
    "    def work(self):\n",
    "        print('i\\'m a working employee.')\n",
    "\n",
    "class Assistant(Student, Employee):\n",
    "    def do(self):\n",
    "        self.study()\n",
    "        self.work()\n",
    "\n",
    "i = Assistant()\n",
    "i.do()\n",
    "print(Assistant.mro())"
   ]
  },
  {
   "cell_type": "markdown",
   "metadata": {},
   "source": [
    "* 다중 상속(Multiple inheritance)\n",
    "    - diamond inheritance problem 발생할 수 있음\n",
    "    - 다이아몬드 상속 문제는 하나의 클래스가 두 개의 상위 클래스를 상속받고, 두 상위 클래스가 동일한 하위 클래스를 상속받는 경우에 발생합니다. 이 경우, 하위 클래스는 두 개의 상위 클래스로부터 동일한 메서드를 상속받게 됩니다. 이 경우, 어떤 메서드를 호출할지 결정해야 합니다.\n",
    "    \n",
    "    - 다중 상속을 사용할 때는 다이아몬드 상속 문제를 고려해야 합니다. 다이아몬드 상속 문제를 해결하기 위해서는 다음과 같은 방법을 사용할 수 있습니다.\n",
    "    \n",
    "        - 조상 클래스에서 메서드를 오버라이딩합니다.\n",
    "        - 인터페이스를 사용하여 상속을 구현합니다.\n",
    "        - 믹스인 클래스를 사용하여 상속을 구현합니다."
   ]
  },
  {
   "cell_type": "code",
   "execution_count": null,
   "metadata": {},
   "outputs": [
    {
     "name": "stdout",
     "output_type": "stream",
     "text": [
      "사람은 무언가 해야 합니다\n",
      "일하는 직원입니다\n",
      "공부하는 학생입니다\n",
      "학생을 도와주는 조교입니다\n"
     ]
    }
   ],
   "source": [
    "class Person:\n",
    "    def do(self):\n",
    "        print('사람은 무언가 해야 합니다')\n",
    "\n",
    "class Student(Person):\n",
    "    def do(self):\n",
    "        super().do()\n",
    "        print('공부하는 학생입니다')\n",
    "\n",
    "class Employee(Person):\n",
    "    def do(self):\n",
    "        super().do()\n",
    "        print('일하는 직원입니다')\n",
    "\n",
    "class Assistant(Student, Employee):\n",
    "    def do(self):\n",
    "        super().do()\n",
    "        print('학생을 도와주는 조교입니다')\n",
    "\n",
    "i = Assistant()\n",
    "i.do()"
   ]
  },
  {
   "cell_type": "markdown",
   "metadata": {},
   "source": [
    "* 추상 메소드(Abstract)\n",
    "    - 인스턴스를 생성할 수 없음\n",
    "        - 추상 클래스는 new 연산자를 사용하여 인스턴스를 생성할 수 없습니다"
   ]
  },
  {
   "cell_type": "code",
   "execution_count": 17,
   "metadata": {},
   "outputs": [
    {
     "name": "stdout",
     "output_type": "stream",
     "text": [
      "삼각형 면적: 5.16\n"
     ]
    }
   ],
   "source": [
    "from abc import *\n",
    "# abstract bae class\n",
    "class Polygon(metaclass = ABCMeta):\n",
    "    @abstractmethod\n",
    "    def area(self): # 추상 메소드\n",
    "        pass\n",
    "\n",
    "class Triangle(Polygon):\n",
    "    def __init__(self, width, height):\n",
    "        self.width = width\n",
    "        self.height = height\n",
    "\n",
    "    # Overriding\n",
    "    def area(self):\n",
    "        return self.width * self.height / 2\n",
    "\n",
    "tri = Triangle(2.4, 4.3)\n",
    "print(f'삼각형 면적: {tri.area():.2f}')"
   ]
  },
  {
   "cell_type": "markdown",
   "metadata": {},
   "source": [
    "- 추상 메소드 area()를 갖는 추상 클래스 Polygon의 객체화에서 발생한 TypeError 오류\n",
    "    - ---> TypeError: Can't instantiate abstract class Polygon with abstract methods area\n",
    "    - 추상 메소드 area()를 갖고 있는 추상 클래스 Polygon를 상속받는 Rectangle도 추상메소드 area()를 재정의해야 함"
   ]
  },
  {
   "cell_type": "code",
   "execution_count": 19,
   "metadata": {},
   "outputs": [
    {
     "name": "stdout",
     "output_type": "stream",
     "text": [
      "사각형 면적: 10.32\n"
     ]
    }
   ],
   "source": [
    "from abc import *\n",
    "# 객체화할 수 없는 추상클래스\n",
    "class Polygon(metaclass = ABCMeta):\n",
    "    @abstractmethod\n",
    "    def area(self):\n",
    "        print('면적 구하기 메소드 구현')\n",
    "\n",
    "# poly = Polygon()  # 인스턴스 생성시 오류 발생\n",
    "\n",
    "class Rectangle(Polygon):\n",
    "    def __init__(self, width, height):\n",
    "        self.width = width\n",
    "        self.height = height\n",
    "\n",
    "    # Overriding\n",
    "    def area(self):\n",
    "        return self.width * self.height\n",
    "\n",
    "rect = Rectangle(2.4, 4.3)\n",
    "print(f'사각형 면적: {rect.area():.2f}')"
   ]
  }
 ],
 "metadata": {
  "kernelspec": {
   "display_name": "Python 3",
   "language": "python",
   "name": "python3"
  },
  "language_info": {
   "codemirror_mode": {
    "name": "ipython",
    "version": 3
   },
   "file_extension": ".py",
   "mimetype": "text/x-python",
   "name": "python",
   "nbconvert_exporter": "python",
   "pygments_lexer": "ipython3",
   "version": "3.10.5"
  }
 },
 "nbformat": 4,
 "nbformat_minor": 2
}
