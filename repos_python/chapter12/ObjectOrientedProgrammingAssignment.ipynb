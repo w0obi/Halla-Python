{
 "cells": [
  {
   "cell_type": "code",
   "execution_count": 35,
   "metadata": {},
   "outputs": [
    {
     "name": "stdout",
     "output_type": "stream",
     "text": [
      "대학: 한국대학교 이름: 이성실\n"
     ]
    }
   ],
   "source": [
    "class Student:\n",
    "    def __init__(self, univ, name):\n",
    "        self.univ = univ\n",
    "        self.name = name\n",
    "    \n",
    "    def info(self):\n",
    "        print(f'대학: {self.univ} 이름: {self.name}')\n",
    "\n",
    "u = Student('한국대학교', '이성실')\n",
    "u.info()"
   ]
  },
  {
   "cell_type": "code",
   "execution_count": 34,
   "metadata": {},
   "outputs": [
    {
     "name": "stdout",
     "output_type": "stream",
     "text": [
      "이름: 김경철, 학과: 기계학과, 중간: 89, 기말: 90\n",
      "B\n"
     ]
    }
   ],
   "source": [
    "class Student:\n",
    "    # 메소드 인자의 기본값 지정\n",
    "    def __init__(self, name, major, middle, end):\n",
    "        self.name = name\n",
    "        self.major = major\n",
    "        self.middle = middle\n",
    "        self.end = end\n",
    "\n",
    "    # 자기 자신 객체를 문자열로 표현하는 특수 메소드 __str__()\n",
    "    def __str__(self):\n",
    "        return f'이름: {self.name}, 학과: {self.major}, 중간: {self.middle}, 기말: {self.end}'\n",
    "\n",
    "    def grade(self):\n",
    "        average = self.middle + self.end\n",
    "        if average/2 > 90:\n",
    "            print('A')\n",
    "        elif average/2 > 80 or average/2 < 90:\n",
    "            print('B')\n",
    "        elif average/2 > 70 or average/2 < 80:\n",
    "            print('C')\n",
    "        elif average/2 > 60 or average/2 < 70:\n",
    "            print('D')\n",
    "        else:\n",
    "            print('F')\n",
    "\n",
    "# 인스턴스 생성\n",
    "s = Student('김경철', '기계학과', 89, 90)\n",
    "print(s)\n",
    "# 메소드 호출\n",
    "s.grade()"
   ]
  },
  {
   "cell_type": "code",
   "execution_count": 2,
   "metadata": {},
   "outputs": [
    {
     "name": "stdout",
     "output_type": "stream",
     "text": [
      "자동차 회사: hyundai, 년식: 2020, 색상: black\n",
      "자동차 회사: kia, 년식: 2021, 색상: white\n",
      "False\n"
     ]
    }
   ],
   "source": [
    "class Car:\n",
    "    def __init__(self, company, model, color) -> None:\n",
    "        self.company = company\n",
    "        self.model = model\n",
    "        self.color = color\n",
    "\n",
    "    def __str__(self) -> str:\n",
    "        return f'자동차 회사: {self.company}, 년식: {self.model}, 색상: {self.color}'\n",
    "    \n",
    "    def __eq__(self, other) -> bool:\n",
    "        if self.company and self.model and self.color == other.company and other.model and other.color:\n",
    "            return True\n",
    "        else:\n",
    "            return False\n",
    "        \n",
    "# 인스턴스 생성과 인자 할당\n",
    "mycar = Car('hyundai', 2020, 'black')\n",
    "yourcar = Car('kia', 2021, 'white')\n",
    "print(mycar)\n",
    "print(yourcar)\n",
    "# 객체의 동등 비교 확인\n",
    "print(mycar == yourcar)"
   ]
  },
  {
   "cell_type": "code",
   "execution_count": 15,
   "metadata": {},
   "outputs": [
    {
     "name": "stdout",
     "output_type": "stream",
     "text": [
      "자동차 색상: 노랑, 바퀴 수: 4\n",
      "60킬로로 이동합니다.\n",
      "빵빵아악~~\n",
      "자동차 색상: 파랑, 바퀴 수: 2\n",
      "30킬로로 이동합니다.\n",
      "따르릉따릉~~\n"
     ]
    }
   ],
   "source": [
    "from abc import *\n",
    "\n",
    "class Vehicle(metaclass = ABCMeta):\n",
    "    def __init__(self, color, wheels):\n",
    "        self.color = color\n",
    "        self.wheels = wheels\n",
    "\n",
    "    def move(self):\n",
    "        pass\n",
    "\n",
    "    @abstractmethod\n",
    "    def info(self):\n",
    "        pass\n",
    "\n",
    "    @abstractmethod\n",
    "    def horkHorn(self):\n",
    "        pass\n",
    "# v = Vehicle()  # 인스턴스 생성시 오류 발생\n",
    "\n",
    "class Car(Vehicle):\n",
    "    def __init__(self, color, wheels):\n",
    "        super().__init__(color, wheels)\n",
    "    \n",
    "    # Overriding\n",
    "    def info(self):\n",
    "        print(f'자동차 색상: {self.color}, 바퀴 수: {self.wheels}')\n",
    "    \n",
    "    def move(self):\n",
    "        print('60킬로로 이동합니다.')\n",
    "    \n",
    "    def horkHorn(self):\n",
    "        print('빵빵아악~~')\n",
    "    \n",
    "mycar = Car('노랑', 4)\n",
    "mycar.info()\n",
    "mycar.move()\n",
    "mycar.horkHorn()\n",
    "    \n",
    "# 부모 클래스의 속성과 메소드를 그대로 물려받음\n",
    "class Bicycle(Vehicle):\n",
    "    def __init__(self, color, wheels):\n",
    "        # 부모 초기화 메소드 호출\n",
    "        super().__init__(color, wheels)\n",
    "        \n",
    "    # Overriding\n",
    "    def info(self):\n",
    "        print(f'자동차 색상: {self.color}, 바퀴 수: {self.wheels}')\n",
    "    \n",
    "    def move(self):\n",
    "        print('30킬로로 이동합니다.')\n",
    "    \n",
    "    def horkHorn(self):\n",
    "        print('따르릉따릉~~')\n",
    "    \n",
    "mybic = Bicycle('파랑', 2)\n",
    "mybic.info()\n",
    "mybic.move()\n",
    "mybic.horkHorn()"
   ]
  },
  {
   "cell_type": "code",
   "execution_count": 14,
   "metadata": {},
   "outputs": [
    {
     "name": "stdout",
     "output_type": "stream",
     "text": [
      "원의 체적: 141.30\n",
      "원의 표면적: 150.72\n"
     ]
    }
   ],
   "source": [
    "class Circle:\n",
    "    def __init__(self, radius) -> None:\n",
    "        self.radius = radius\n",
    "\n",
    "    # 원의 넓이(면적)\n",
    "    def area(self):\n",
    "        return 3.14 * (self.radius**2)\n",
    "\n",
    "    # 원의 둘레\n",
    "    def perimeter(self):\n",
    "        return 2 * 3.14 * self.radius\n",
    "\n",
    "class Cylinder(Circle):\n",
    "    def __init__(self, radius, height) -> None:\n",
    "        super().__init__(radius)    # 부모의 초기화 메소드 호출\n",
    "        self.height = height\n",
    "\n",
    "    # Overriding\n",
    "    def area(self):\n",
    "        return super().area() * 2 + (super().perimeter() * self.height)\n",
    "\n",
    "    def volume(self):\n",
    "        return super().area() * self.height\n",
    "\n",
    "cy = Cylinder(3, 5)\n",
    "print(f\"원의 체적: {cy.volume():.2f}\")\n",
    "print(f\"원의 표면적: {cy.area():.2f}\")"
   ]
  },
  {
   "cell_type": "code",
   "execution_count": 19,
   "metadata": {},
   "outputs": [
    {
     "name": "stdout",
     "output_type": "stream",
     "text": [
      "사각형 면적: 10.32\n",
      "사각형 둘레: 13.40\n"
     ]
    }
   ],
   "source": [
    "from abc import *\n",
    "\n",
    "class Polygon(metaclass = ABCMeta):\n",
    "    def __init__(self) -> None:\n",
    "        pass\n",
    "\n",
    "    @abstractmethod\n",
    "    def area(self):\n",
    "        pass\n",
    "\n",
    "    @abstractmethod\n",
    "    def perimeter(self):\n",
    "        pass\n",
    "\n",
    "class Rectangle(Polygon):\n",
    "    def __init__(self, width, height) -> None:\n",
    "        super().__init__()\n",
    "        self.width = width\n",
    "        self.height = height\n",
    "\n",
    "    # Overriding\n",
    "    def area(self):\n",
    "        return self.width * self.height\n",
    "\n",
    "    def perimeter(self):\n",
    "        return (self.width + self.height) * 2\n",
    "    \n",
    "rect = Rectangle(2.4, 4.3)\n",
    "print(f'사각형 면적: {rect.area():.2f}')\n",
    "print(f'사각형 둘레: {rect.perimeter():.2f}')"
   ]
  }
 ],
 "metadata": {
  "kernelspec": {
   "display_name": "Python 3",
   "language": "python",
   "name": "python3"
  },
  "language_info": {
   "codemirror_mode": {
    "name": "ipython",
    "version": 3
   },
   "file_extension": ".py",
   "mimetype": "text/x-python",
   "name": "python",
   "nbconvert_exporter": "python",
   "pygments_lexer": "ipython3",
   "version": "3.10.5"
  }
 },
 "nbformat": 4,
 "nbformat_minor": 2
}
