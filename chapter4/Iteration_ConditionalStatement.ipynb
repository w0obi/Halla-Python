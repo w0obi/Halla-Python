{
 "cells": [
  {
   "cell_type": "code",
   "execution_count": 3,
   "metadata": {},
   "outputs": [
    {
     "name": "stdout",
     "output_type": "stream",
     "text": [
      "10월 가을\n"
     ]
    }
   ],
   "source": [
    "# 1. 다음을 참고해 월을 표준 입력으로 받아 계절을 출력하는 프로그램\n",
    "# 봄: 4, 5월, 여름: 6, 7, 8월, 가을: 9, 10, 11월, 겨울: 12, 1, 2, 3월\n",
    "\n",
    "month = int(input('월 입력 ? %d'))\n",
    "\n",
    "if month == 4 or month == 5:\n",
    "    print('{}월 {}'.format(month, '봄'))\n",
    "elif month == 6 or month == 7 or month == 8:\n",
    "    print('{}월 {}'.format(month, '여름'))\n",
    "elif month == 9 or month == 10 or month == 11:\n",
    "    print('{}월 {}'.format(month, '가을'))\n",
    "else:\n",
    "    print('{}월 {}'.format(month, '겨울'))\n",
    "# 컴퓨터공학과_202121027_김현정_파이썬(월7수56)_4장문제풀이"
   ]
  },
  {
   "cell_type": "code",
   "execution_count": null,
   "metadata": {},
   "outputs": [],
   "source": [
    "# 2. 근로 시급이 12,000원이고, 일주일에 40시간 이상 근무하면 시급의 1.5배의 급여를 준다고 한다.\n",
    "#    일주일 근로 시간을 35~50 시간 사이에서 임의의 난수로 정하고, 주급을 계산해 출력하는 프로그램\n",
    "# 반복으로 5회의 근로 시작에 대해 출력\n",
    "\n"
   ]
  },
  {
   "cell_type": "code",
   "execution_count": 34,
   "metadata": {},
   "outputs": [
    {
     "data": {
      "text/plain": [
       "True"
      ]
     },
     "execution_count": 34,
     "metadata": {},
     "output_type": "execute_result"
    }
   ],
   "source": [
    "1 == 1"
   ]
  }
 ],
 "metadata": {
  "kernelspec": {
   "display_name": "Python 3",
   "language": "python",
   "name": "python3"
  },
  "language_info": {
   "codemirror_mode": {
    "name": "ipython",
    "version": 3
   },
   "file_extension": ".py",
   "mimetype": "text/x-python",
   "name": "python",
   "nbconvert_exporter": "python",
   "pygments_lexer": "ipython3",
   "version": "3.11.5"
  },
  "orig_nbformat": 4
 },
 "nbformat": 4,
 "nbformat_minor": 2
}
