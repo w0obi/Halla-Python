{
 "cells": [
  {
   "cell_type": "code",
   "execution_count": 4,
   "metadata": {},
   "outputs": [
    {
     "name": "stdout",
     "output_type": "stream",
     "text": [
      "3.141592653589793\n",
      "2.718281828459045\n",
      "180.0 1.5707963267948966\n",
      "3 4\n",
      "120\n"
     ]
    }
   ],
   "source": [
    "import math\n",
    "print(math.pi)\n",
    "\n",
    "from math import e\n",
    "print(math.e)\n",
    "\n",
    "from math import degrees, radians\n",
    "print(degrees(math.pi), radians(90))\n",
    "\n",
    "from math import floor, ceil\n",
    "print(floor(3.8), ceil(3.1))\n",
    "\n",
    "from math import factorial\n",
    "print(factorial(5))"
   ]
  },
  {
   "cell_type": "code",
   "execution_count": 5,
   "metadata": {},
   "outputs": [
    {
     "name": "stdout",
     "output_type": "stream",
     "text": [
      "0.5010874164009579\n",
      "0.7398140016465565\n",
      "0.8178750879460602\n",
      "[[1, '송학'], [2, '메조'], [3, '벚꽃'], [4, '흑싸리'], [5, '초'], [6, '모란']]\n",
      "[[6, '모란'], [1, '송학'], [5, '초'], [2, '메조'], [4, '흑싸리'], [3, '벚꽃']]\n",
      "[[2, '메조'], [4, '흑싸리'], [6, '모란'], [3, '벚꽃'], [1, '송학'], [5, '초']]\n",
      "[[4, '흑싸리'], [6, '모란'], [2, '메조'], [3, '벚꽃'], [1, '송학'], [5, '초']]\n",
      "[[5, '초'], [1, '송학']]\n"
     ]
    }
   ],
   "source": [
    "import random as r\n",
    "\n",
    "for i in range(3):\n",
    "    print(r.random())\n",
    "\n",
    "cards = [[1, '송학'], [2, '메조'], [3, '벚꽃'], [4, '흑싸리'], [5, '초'], [6, '모란']]\n",
    "print(cards)\n",
    "for _ in range(3):\n",
    "    r.shuffle(cards)\n",
    "    print(cards)\n",
    "\n",
    "print(r.sample(cards, 2))"
   ]
  },
  {
   "cell_type": "code",
   "execution_count": 8,
   "metadata": {},
   "outputs": [
    {
     "name": "stdout",
     "output_type": "stream",
     "text": [
      "['BPF', 'LOG4', 'NV_MAGICCONST', 'RECIP_BPF', 'Random', 'SG_MAGICCONST', 'SystemRandom', 'TWOPI', '_ONE', '_Sequence', '_Set', '__all__', '__builtins__', '__cached__', '__doc__', '__file__', '__loader__', '__name__', '__package__', '__spec__', '_accumulate', '_acos', '_bisect', '_ceil', '_cos', '_e', '_exp', '_floor', '_index', '_inst', '_isfinite', '_log', '_os', '_pi', '_random', '_repeat', '_sha512', '_sin', '_sqrt', '_test', '_test_generator', '_urandom', '_warn', 'betavariate', 'choice', 'choices', 'expovariate', 'gammavariate', 'gauss', 'getrandbits', 'getstate', 'lognormvariate', 'normalvariate', 'paretovariate', 'randbytes', 'randint', 'random', 'randrange', 'sample', 'seed', 'setstate', 'shuffle', 'triangular', 'uniform', 'vonmisesvariate', 'weibullvariate']"
     ]
    }
   ],
   "source": [
    "import random as r\n",
    "print(dir(r), end='')"
   ]
  },
  {
   "cell_type": "code",
   "execution_count": 10,
   "metadata": {},
   "outputs": [
    {
     "name": "stdout",
     "output_type": "stream",
     "text": [
      "\u001b[1;31mDocstring:\u001b[0m\n",
      "dir([object]) -> list of strings\n",
      "\n",
      "If called without an argument, return the names in the current scope.\n",
      "Else, return an alphabetized list of names comprising (some of) the attributes\n",
      "of the given object, and of attributes reachable from it.\n",
      "If the object supplies a method named __dir__, it will be used; otherwise\n",
      "the default dir() logic is used and returns:\n",
      "  for a module object: the module's attributes.\n",
      "  for a class object:  its attributes, and recursively the attributes\n",
      "    of its bases.\n",
      "  for any other object: its attributes, its class's attributes, and\n",
      "    recursively the attributes of its class's base classes.\n",
      "\u001b[1;31mType:\u001b[0m      builtin_function_or_method"
     ]
    }
   ],
   "source": [
    "?dir"
   ]
  },
  {
   "cell_type": "code",
   "execution_count": 19,
   "metadata": {},
   "outputs": [
    {
     "name": "stdout",
     "output_type": "stream",
     "text": [
      "c:\\PythonLanguage\\chapter9\n",
      "\n",
      "파이썬에서 사용자 정의 모듈을 사용하는 이유는 다음과 같습니다.\n",
      "\n",
      "코드 재사용성 향상\n",
      "사용자 정의 모듈을 사용하면 코드를 파일에 저장하여 다른 프로그램에서 재사용할 수 있습니다. 이렇게 하면 코드를 반복적으로 작성하지 않아도 되므로 코드의 재사용성과 유지보수성을 향상시킬 수 있습니다.\n",
      "\n",
      "코드 가독성 향상\n",
      "사용자 정의 모듈을 사용하면 코드를 기능별로 분리하여 작성할 수 있습니다. 이렇게 하면 코드가 더 가독성 있게 되고, 코드를 이해하고 유지보수하기가 더 쉬워집니다.\n",
      "\n",
      "시스템 성능 향상\n",
      "사용자 정의 모듈을 사용하면 코드를 로드할 때 한 번만 컴파일하면 됩니다. 이렇게 하면 시스템 성능을 향상시킬 수 있습니다.\n",
      "\n",
      "라이브러리 확장\n",
      "사용자 정의 모듈을 사용하여 파이썬 표준 라이브러리에 없는 기능을 추가할 수 있습니다. 이렇게 하면 파이썬의 기능을 확장할 수 있습니다.\n"
     ]
    }
   ],
   "source": [
    "# 사용자 정의 모듈 만들기\n",
    "\n",
    "# 현재 작업 경로 확인\n",
    "import os\n",
    "print(f'{os.getcwd()}\\n')\n",
    "\n",
    "\n",
    "\n",
    "# 파이썬 절대경로를 통한 파일 읽어오기\n",
    "f = open('C:/Users/User/Documents/embo.txt', 'r', encoding='utf-8')\n",
    "data = f.read()\n",
    "print(data)\n",
    "f.close()"
   ]
  },
  {
   "cell_type": "code",
   "execution_count": 22,
   "metadata": {},
   "outputs": [
    {
     "data": {
      "text/plain": [
       "['c:\\\\PythonLanguage\\\\chapter9',\n",
       " 'c:\\\\Python\\\\Python311\\\\python311.zip',\n",
       " 'c:\\\\Python\\\\Python311\\\\DLLs',\n",
       " 'c:\\\\Python\\\\Python311\\\\Lib',\n",
       " 'c:\\\\Python\\\\Python311',\n",
       " '',\n",
       " 'C:\\\\Users\\\\User\\\\AppData\\\\Roaming\\\\Python\\\\Python311\\\\site-packages',\n",
       " 'C:\\\\Users\\\\User\\\\AppData\\\\Roaming\\\\Python\\\\Python311\\\\site-packages\\\\win32',\n",
       " 'C:\\\\Users\\\\User\\\\AppData\\\\Roaming\\\\Python\\\\Python311\\\\site-packages\\\\win32\\\\lib',\n",
       " 'C:\\\\Users\\\\User\\\\AppData\\\\Roaming\\\\Python\\\\Python311\\\\site-packages\\\\Pythonwin',\n",
       " 'c:\\\\Python\\\\Python311\\\\Lib\\\\site-packages',\n",
       " 'C:/Users/User/Documents']"
      ]
     },
     "execution_count": 22,
     "metadata": {},
     "output_type": "execute_result"
    }
   ],
   "source": [
    "import sys\n",
    "sys.path.append('C:/Users/User/Documents')\n",
    "sys.path"
   ]
  },
  {
   "cell_type": "code",
   "execution_count": 23,
   "metadata": {},
   "outputs": [
    {
     "name": "stdout",
     "output_type": "stream",
     "text": [
      "사용자 정의 모듈 생성 완료!!!\n"
     ]
    }
   ],
   "source": [
    "from create import add\n",
    "print(add)"
   ]
  },
  {
   "cell_type": "code",
   "execution_count": null,
   "metadata": {},
   "outputs": [],
   "source": [
    "import turtle as t\n",
    "colors = [\"red\", \"purple\", \"blue\", \"green\", \"orange\", \"yellow\"]\n",
    "t.setup(500, 400)\n",
    "t.bgcolor(\"black\")\n",
    "t.speed(3)\n",
    "for i in range(180):\n",
    "    t.pencolor(colors[i%len(colors)])\n",
    "    t.width(i/100 + 1)\n",
    "    t.forward(i)\n",
    "    t.left(59)\n"
   ]
  },
  {
   "cell_type": "code",
   "execution_count": 2,
   "metadata": {},
   "outputs": [
    {
     "name": "stdout",
     "output_type": "stream",
     "text": [
      "[ 6  8 10 12]\n",
      "[-4 -4 -4 -4]\n",
      "[ 5 12 21 32]\n",
      "[0.2        0.33333333 0.42857143 0.5       ]\n"
     ]
    }
   ],
   "source": [
    "import numpy as np\n",
    "aryA = np.array([1,2,3,4])\n",
    "aryB = np.array([5,6,7,8])\n",
    "\n",
    "print(aryA + aryB)\n",
    "print(aryA - aryB)\n",
    "print(aryA * aryB)\n",
    "print(aryA / aryB)"
   ]
  },
  {
   "cell_type": "code",
   "execution_count": 3,
   "metadata": {},
   "outputs": [
    {
     "data": {
      "image/png": "[encoded data removed]",
      "text/plain": [
       "<Figure size 640x480 with 1 Axes>"
      ]
     },
     "metadata": {},
     "output_type": "display_data"
    }
   ],
   "source": [
    "import matplotlib.pyplot as plt\n",
    "plt.plot([2,4,6,8], [8, 10, 3, 6])\n",
    "plt.show()"
   ]
  }
 ],
 "metadata": {
  "kernelspec": {
   "display_name": "Python 3",
   "language": "python",
   "name": "python3"
  },
  "language_info": {
   "codemirror_mode": {
    "name": "ipython",
    "version": 3
   },
   "file_extension": ".py",
   "mimetype": "text/x-python",
   "name": "python",
   "nbconvert_exporter": "python",
   "pygments_lexer": "ipython3",
   "version": "3.11.5"
  }
 },
 "nbformat": 4,
 "nbformat_minor": 2
}
