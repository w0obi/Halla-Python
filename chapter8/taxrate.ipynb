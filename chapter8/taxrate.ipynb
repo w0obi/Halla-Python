{
 "cells": [
  {
   "cell_type": "code",
   "execution_count": 2,
   "metadata": {},
   "outputs": [
    {
     "name": "stdout",
     "output_type": "stream",
     "text": [
      "종합 소득 금액 입력 40000000\n",
      "종합 소득: 40,000,000\n",
      "세율: 15%\n",
      "세금: 4,920,000\n"
     ]
    }
   ],
   "source": [
    "# 세율과 누진 공제액 쌓인 항목의 리스트\n",
    "taxrate = [\n",
    "    (6, 0),\n",
    "    (15, 1_080_000),\n",
    "    (24, 5_220_000),\n",
    "    (35, 14_900_000),\n",
    "    (38, 19_400_000),\n",
    "    (40, 25_400_000),\n",
    "    (42, 35_400_000),\n",
    "]\n",
    "# 종합 소득 과세 표준 구간에 따른 기준 종합 소득\n",
    "base = (0, 12_000000, 46_000000, 88_000000, 150_000000, 300_000000, 500_000000)\n",
    "\n",
    "\n",
    "def gestsection(income):\n",
    "    \"\"\"\n",
    "    종합 소득 금액 income에 따른 과세 표준 구간 번호를 반환\n",
    "    인자 income: 종합 소득 금액\n",
    "    \"\"\"\n",
    "    if base[6] < income:\n",
    "        section = 6\n",
    "    elif base[5] < income:\n",
    "        section = 5\n",
    "    elif base[4] < income:\n",
    "        section = 4\n",
    "    elif base[3] < income:\n",
    "        section = 3\n",
    "    elif base[2] < income:\n",
    "        section = 2\n",
    "    elif base[1] < income:\n",
    "        section = 1\n",
    "    else:\n",
    "        section = 0\n",
    "    return section\n",
    "\n",
    "\n",
    "income = int(input(\"종합 소득 금액 입력 >> {}\"))\n",
    "print(f\"종합 소득 금액 입력 {income}\")\n",
    "section = gestsection(income)\n",
    "tax = income * taxrate[section][0] / 100 - taxrate[section][1]\n",
    "\n",
    "print(f\"종합 소득: {income:,.0f}\")\n",
    "print(f\"세율: {taxrate[section][0]}%\")\n",
    "print(f\"세금: {tax:,.0f}\")"
   ]
  },
  {
   "cell_type": "code",
   "execution_count": 1,
   "metadata": {},
   "outputs": [
    {
     "name": "stdout",
     "output_type": "stream",
     "text": [
      "[0]\n",
      "[1]\n",
      "[2]\n"
     ]
    }
   ],
   "source": [
    "LCD = [[0], [1], [2]]\n",
    "print(LCD[0])\n",
    "print(LCD[1])\n",
    "print(LCD[2])"
   ]
  },
  {
   "cell_type": "code",
   "execution_count": 3,
   "metadata": {},
   "outputs": [
    {
     "name": "stdout",
     "output_type": "stream",
     "text": [
      "['|||||', '|   |', '|   |', '|   |', '|||||']\n"
     ]
    }
   ],
   "source": [
    "LCD = [[\"|||||\", \"|   |\", \"|   |\", \"|   |\", \"|||||\"]]\n",
    "print(LCD[0])"
   ]
  },
  {
   "cell_type": "code",
   "execution_count": 25,
   "metadata": {},
   "outputs": [
    {
     "name": "stdout",
     "output_type": "stream",
     "text": [
      "0 ~ 5 사이의 숫자 1개 입력 >> 5\n",
      "|||||\n",
      "|    \n",
      "|||||\n",
      "    |\n",
      "|||||\n"
     ]
    }
   ],
   "source": [
    "LCD = [\n",
    "    [\"|||||\", \"|   |\", \"|   |\", \"|   |\", \"|||||\"],\n",
    "    [\"  |  \", \" ||  \", \"  |  \", \"  |  \", \"|||||\"],\n",
    "    [\"|||||\", \"    |\", \"|||||\", \"|    \", \"|||||\"],\n",
    "    [\"|||||\", \"    |\", \"|||||\", \"    |\", \"|||||\"],\n",
    "    [\"|   |\", \"|   |\", \"|||||\", \"    |\", \"    |\"],\n",
    "    [\"|||||\", \"|    \", \"|||||\", \"    |\", \"|||||\"],\n",
    "]\n",
    "\n",
    "num = -1\n",
    "while not (0 <= num <= 5):\n",
    "    num = int(input(\"0 ~ 5 사이의 숫자 1개 입력 >> {}\"))\n",
    "    print(f\"0 ~ 5 사이의 숫자 1개 입력 >> {num}\")\n",
    "\n",
    "select = LCD[num]\n",
    "for row in select:\n",
    "    print(row)"
   ]
  }
 ],
 "metadata": {
  "kernelspec": {
   "display_name": "Python 3",
   "language": "python",
   "name": "python3"
  },
  "language_info": {
   "codemirror_mode": {
    "name": "ipython",
    "version": 3
   },
   "file_extension": ".py",
   "mimetype": "text/x-python",
   "name": "python",
   "nbconvert_exporter": "python",
   "pygments_lexer": "ipython3",
   "version": "3.11.5"
  }
 },
 "nbformat": 4,
 "nbformat_minor": 2
}
